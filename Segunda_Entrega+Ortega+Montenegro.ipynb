{
  "nbformat": 4,
  "nbformat_minor": 0,
  "metadata": {
    "colab": {
      "provenance": [],
      "collapsed_sections": [
        "E4xWon7tsXeJ"
      ]
    },
    "kernelspec": {
      "name": "python3",
      "display_name": "Python 3"
    },
    "language_info": {
      "name": "python"
    }
  },
  "cells": [
    {
      "cell_type": "markdown",
      "source": [
        "# SNEEP censo 2020. Reincidencia o delitos primarios"
      ],
      "metadata": {
        "id": "zO7GF8cSdQ9k"
      }
    },
    {
      "cell_type": "code",
      "execution_count": null,
      "metadata": {
        "id": "zeK8J3KcTtC0"
      },
      "outputs": [],
      "source": [
        "#Importamos y renombramos las librerias a usar.\n",
        "import pandas as pd\n",
        "import numpy as np\n",
        "import matplotlib.pyplot as plt\n",
        "import seaborn as sns\n",
        "import datetime\n",
        "import altair as alt\n",
        "import plotly.express as px\n",
        "\n"
      ]
    },
    {
      "cell_type": "markdown",
      "source": [
        "## Preguntas de interés\n",
        "1- ¿Cómo es la distribución entre reincidentes y personas con un único delito?\n",
        "\n",
        "2- ¿Cómo es la distribución en todo el país?\n",
        "\n",
        "3- ¿De que nacionalidad, al margen de Argentina es la que mas encontramos en los establecimientos penales?\n",
        "\n",
        "4- Edad y Sexo ¿Cuál son las edades promedios?\n",
        "\n",
        "5- ¿solteros o en pareja? ¿Quiénes recaen en la delicuencia?\n",
        "\n",
        "6- ¿ Aquellas personas reincidentes tienen penas  condenas mas largas?\n",
        "\n",
        "7- Las personas con delitos primarios, ¿cuentan con mas beneficios?\n",
        "\n",
        "8- Quienes recaen mas ¿Personas con un trabajo?\n",
        "\n",
        "9- ¿Cuál es el primer delito de los reincidentes? ¿Qué tipo de delito comenten los detenidos por primera vez?\n",
        "\n"
      ],
      "metadata": {
        "id": "LChXgXSnddn6"
      }
    },
    {
      "cell_type": "markdown",
      "source": [
        "# Datos API"
      ],
      "metadata": {
        "id": "pb0zDSmwf66_"
      }
    },
    {
      "cell_type": "code",
      "execution_count": null,
      "metadata": {
        "id": "-DD4CpeJEbej",
        "colab": {
          "base_uri": "https://localhost:8080/"
        },
        "outputId": "2b0d1303-b340-4a91-aa6c-f275b30fab5b"
      },
      "outputs": [
        {
          "output_type": "stream",
          "name": "stderr",
          "text": [
            "/usr/local/lib/python3.7/dist-packages/IPython/core/interactiveshell.py:3326: DtypeWarning: Columns (40) have mixed types.Specify dtype option on import or set low_memory=False.\n",
            "  exec(code_obj, self.user_global_ns, self.user_ns)\n"
          ]
        }
      ],
      "source": [
        "#Traemos del drive el dataset. https://docs.google.com/spreadsheets/d/1ce7ajP36QhHqu87KsMzFqXWMhAUX5T0snLdAkpZWRPI/edit#gid=19934855\n",
        "sheet_url = 'https://docs.google.com/spreadsheets/d/1ce7ajP36QhHqu87KsMzFqXWMhAUX5T0snLdAkpZWRPI/export?format=csv&gid=19934855'\n",
        "df_sneep = pd.read_csv(sheet_url)\n"
      ]
    },
    {
      "cell_type": "markdown",
      "metadata": {
        "id": "E4xWon7tsXeJ"
      },
      "source": [
        "# Gestion de valores nulos y otros"
      ]
    },
    {
      "cell_type": "code",
      "execution_count": null,
      "metadata": {
        "id": "XpD0lmKpDRQF"
      },
      "outputs": [],
      "source": [
        "#Observamos varios NaN en diferentes columnas que no nos interesan para las hipotesis que plantearemos asi que hacemos un drop, eliminamos los varoles nulos\n",
        "df_sneep2020 = df_sneep.drop(['Id','Año Censo','Tuvo_Reducción_Pena','ProvinciaId','Establecimiento','Sexo_Id','NacionalidadId','EstadoCivilId','NivelInstruccionId','UltimaSituacionLaboralId','CapacitacionLaboralAlIngresarId','UltimoLugarResidenciaId','Último Lugar Residencia','UltimaProvinciaResidenciaId','Última Provincia Residencia','JurisdiccionId','Jurisdicción','SituacionLegalId','Fecha_Detención','Fecha_Condenado','EstablecimientoDeProcedenciaId','Establecimiento de Procedencia','Delito1Id','Delito2Id','Delito3Id', 'Delito4Id', 'Delito5Id','HorasTrabajoRemuneradoId','Participación Programa Laboral','ParticipacionProgramaEducativoId','Recibio_Visitas_Último_Año','Tipo_Infracción_Disciplinaria','Participación_Actividades_Deportivas','AtencionMedicaUltimoAñoId','Atención_Medica_Último_Año','ParticipoAlteracionOrdenUltAñoId','Participó_Alteración_del_Orden_Último_Año', 'TipoInfraccionDisciplinariaId','Participa Programa PreLibertad', 'Tipo Condena','Tentativa Suicidio','SancionAplicadaId', 'Sanción_Aplicada', 'CalificacionConductaId', 'TentativaFugasEvasionesId','FueLesionadoId', 'Fue_Lesionado', 'RangoDuracionCondenaId', 'EsReincidenteId', 'TienePeriodoProgresividadId', 'Tiene_Período_Progresividad', 'ReparticionId', 'Repartición', 'TuvoSalidasTransitoriasId', 'IncorporadoRegSemiLibertadId', 'ParticipaProgramaPrisionDiscontinuaId', 'ParticipaProgramaSemiDetencionId', 'TuvoReduccionPenaId', 'Persona_Gestante_Tiene_Hijos_Intramuro'], axis = 1)"
      ]
    },
    {
      "cell_type": "code",
      "execution_count": null,
      "metadata": {
        "id": "9IoIfYdnDRQF",
        "colab": {
          "base_uri": "https://localhost:8080/"
        },
        "outputId": "37f2d0c7-abe9-4487-d7e6-b9056952a36d"
      },
      "outputs": [
        {
          "output_type": "execute_result",
          "data": {
            "text/plain": [
              "  Provincia  EstablecimientoId  EdadCenso   Sexo Nacionalidad Estado_Civil  \\\n",
              "0    Chubut                 16         35  Varón    Argentina    Soltero/a   \n",
              "1    Chubut                 16         28  Varón    Argentina    Soltero/a   \n",
              "2    Chubut                 16         33  Varón    Argentina  Conviviente   \n",
              "3    Chubut                 16         35  Varón    Argentina  Conviviente   \n",
              "4    Chubut                 16         33  Varón    Argentina    Soltero/a   \n",
              "\n",
              "       Nivel_Instrucción          Última_Situación_Laboral  \\\n",
              "0    Secundario completo  Trabajador/ra de tiempo completo   \n",
              "1  Secundario incompleto                      Desocupado/a   \n",
              "2    Secundario completo                      Desocupado/a   \n",
              "3      Primario completo                      Desocupado/a   \n",
              "4      Primario completo                      Desocupado/a   \n",
              "\n",
              "  Capacitación_Laboral_Al_Ingresar Situación_Legal  ...  \\\n",
              "0           Tiene alguna profesión     Condenado/a  ...   \n",
              "1               Tiene algún oficio     Condenado/a  ...   \n",
              "2  No tiene ni oficio ni profesión     Condenado/a  ...   \n",
              "3               Tiene algún oficio     Condenado/a  ...   \n",
              "4  No tiene ni oficio ni profesión     Condenado/a  ...   \n",
              "\n",
              "                 Participación_Programa_Educativo Calificacion_Conducta  \\\n",
              "0       No participa de ningún programa educativo             Muy buena   \n",
              "1  Si - educación formal - SECUNDARIA (Polimodal)      Sin calificación   \n",
              "2       No participa de ningún programa educativo                 Buena   \n",
              "3  Si - educación formal - SECUNDARIA (Polimodal)                 Buena   \n",
              "4       No participa de ningún programa educativo                 Buena   \n",
              "\n",
              "  Tentativa_Fugas_Evasiones Duración_Condena_Años Duración_Condena_Meses  \\\n",
              "0                        No                    25                      0   \n",
              "1                        No                     4                      0   \n",
              "2                        No                    13                      0   \n",
              "3                        No                     4                      6   \n",
              "4                        No                     5                      0   \n",
              "\n",
              "  Es_Reincidente          Tuvo_Salidas_Transitorias  \\\n",
              "0     Primario/a             No le fueron otorgadas   \n",
              "1    Reincidente             No le fueron otorgadas   \n",
              "2     Reiterante  Suspendidas durante el Último año   \n",
              "3    Reincidente             No le fueron otorgadas   \n",
              "4     Reiterante             No le fueron otorgadas   \n",
              "\n",
              "                      Incorporado_Rég_Semi_Libertad  \\\n",
              "0  No está incorporado/a al régimen de semilibertad   \n",
              "1  No está incorporado/a al régimen de semilibertad   \n",
              "2  No está incorporado/a al régimen de semilibertad   \n",
              "3  No está incorporado/a al régimen de semilibertad   \n",
              "4  No está incorporado/a al régimen de semilibertad   \n",
              "\n",
              "  Participa_Programa_Prisión_Discontinua  Participa_Programa_Semi_Detención  \n",
              "0                  No está incorporado/a             No tiene semidetención  \n",
              "1                  No está incorporado/a             No tiene semidetención  \n",
              "2                  No está incorporado/a             No tiene semidetención  \n",
              "3                  No está incorporado/a             No tiene semidetención  \n",
              "4                  No está incorporado/a             No tiene semidetención  \n",
              "\n",
              "[5 rows x 26 columns]"
            ],
            "text/html": [
              "\n",
              "  <div id=\"df-1c176e2e-6f4a-4f40-96dd-ea376f467a84\">\n",
              "    <div class=\"colab-df-container\">\n",
              "      <div>\n",
              "<style scoped>\n",
              "    .dataframe tbody tr th:only-of-type {\n",
              "        vertical-align: middle;\n",
              "    }\n",
              "\n",
              "    .dataframe tbody tr th {\n",
              "        vertical-align: top;\n",
              "    }\n",
              "\n",
              "    .dataframe thead th {\n",
              "        text-align: right;\n",
              "    }\n",
              "</style>\n",
              "<table border=\"1\" class=\"dataframe\">\n",
              "  <thead>\n",
              "    <tr style=\"text-align: right;\">\n",
              "      <th></th>\n",
              "      <th>Provincia</th>\n",
              "      <th>EstablecimientoId</th>\n",
              "      <th>EdadCenso</th>\n",
              "      <th>Sexo</th>\n",
              "      <th>Nacionalidad</th>\n",
              "      <th>Estado_Civil</th>\n",
              "      <th>Nivel_Instrucción</th>\n",
              "      <th>Última_Situación_Laboral</th>\n",
              "      <th>Capacitación_Laboral_Al_Ingresar</th>\n",
              "      <th>Situación_Legal</th>\n",
              "      <th>...</th>\n",
              "      <th>Participación_Programa_Educativo</th>\n",
              "      <th>Calificacion_Conducta</th>\n",
              "      <th>Tentativa_Fugas_Evasiones</th>\n",
              "      <th>Duración_Condena_Años</th>\n",
              "      <th>Duración_Condena_Meses</th>\n",
              "      <th>Es_Reincidente</th>\n",
              "      <th>Tuvo_Salidas_Transitorias</th>\n",
              "      <th>Incorporado_Rég_Semi_Libertad</th>\n",
              "      <th>Participa_Programa_Prisión_Discontinua</th>\n",
              "      <th>Participa_Programa_Semi_Detención</th>\n",
              "    </tr>\n",
              "  </thead>\n",
              "  <tbody>\n",
              "    <tr>\n",
              "      <th>0</th>\n",
              "      <td>Chubut</td>\n",
              "      <td>16</td>\n",
              "      <td>35</td>\n",
              "      <td>Varón</td>\n",
              "      <td>Argentina</td>\n",
              "      <td>Soltero/a</td>\n",
              "      <td>Secundario completo</td>\n",
              "      <td>Trabajador/ra de tiempo completo</td>\n",
              "      <td>Tiene alguna profesión</td>\n",
              "      <td>Condenado/a</td>\n",
              "      <td>...</td>\n",
              "      <td>No participa de ningún programa educativo</td>\n",
              "      <td>Muy buena</td>\n",
              "      <td>No</td>\n",
              "      <td>25</td>\n",
              "      <td>0</td>\n",
              "      <td>Primario/a</td>\n",
              "      <td>No le fueron otorgadas</td>\n",
              "      <td>No está incorporado/a al régimen de semilibertad</td>\n",
              "      <td>No está incorporado/a</td>\n",
              "      <td>No tiene semidetención</td>\n",
              "    </tr>\n",
              "    <tr>\n",
              "      <th>1</th>\n",
              "      <td>Chubut</td>\n",
              "      <td>16</td>\n",
              "      <td>28</td>\n",
              "      <td>Varón</td>\n",
              "      <td>Argentina</td>\n",
              "      <td>Soltero/a</td>\n",
              "      <td>Secundario incompleto</td>\n",
              "      <td>Desocupado/a</td>\n",
              "      <td>Tiene algún oficio</td>\n",
              "      <td>Condenado/a</td>\n",
              "      <td>...</td>\n",
              "      <td>Si - educación formal - SECUNDARIA (Polimodal)</td>\n",
              "      <td>Sin calificación</td>\n",
              "      <td>No</td>\n",
              "      <td>4</td>\n",
              "      <td>0</td>\n",
              "      <td>Reincidente</td>\n",
              "      <td>No le fueron otorgadas</td>\n",
              "      <td>No está incorporado/a al régimen de semilibertad</td>\n",
              "      <td>No está incorporado/a</td>\n",
              "      <td>No tiene semidetención</td>\n",
              "    </tr>\n",
              "    <tr>\n",
              "      <th>2</th>\n",
              "      <td>Chubut</td>\n",
              "      <td>16</td>\n",
              "      <td>33</td>\n",
              "      <td>Varón</td>\n",
              "      <td>Argentina</td>\n",
              "      <td>Conviviente</td>\n",
              "      <td>Secundario completo</td>\n",
              "      <td>Desocupado/a</td>\n",
              "      <td>No tiene ni oficio ni profesión</td>\n",
              "      <td>Condenado/a</td>\n",
              "      <td>...</td>\n",
              "      <td>No participa de ningún programa educativo</td>\n",
              "      <td>Buena</td>\n",
              "      <td>No</td>\n",
              "      <td>13</td>\n",
              "      <td>0</td>\n",
              "      <td>Reiterante</td>\n",
              "      <td>Suspendidas durante el Último año</td>\n",
              "      <td>No está incorporado/a al régimen de semilibertad</td>\n",
              "      <td>No está incorporado/a</td>\n",
              "      <td>No tiene semidetención</td>\n",
              "    </tr>\n",
              "    <tr>\n",
              "      <th>3</th>\n",
              "      <td>Chubut</td>\n",
              "      <td>16</td>\n",
              "      <td>35</td>\n",
              "      <td>Varón</td>\n",
              "      <td>Argentina</td>\n",
              "      <td>Conviviente</td>\n",
              "      <td>Primario completo</td>\n",
              "      <td>Desocupado/a</td>\n",
              "      <td>Tiene algún oficio</td>\n",
              "      <td>Condenado/a</td>\n",
              "      <td>...</td>\n",
              "      <td>Si - educación formal - SECUNDARIA (Polimodal)</td>\n",
              "      <td>Buena</td>\n",
              "      <td>No</td>\n",
              "      <td>4</td>\n",
              "      <td>6</td>\n",
              "      <td>Reincidente</td>\n",
              "      <td>No le fueron otorgadas</td>\n",
              "      <td>No está incorporado/a al régimen de semilibertad</td>\n",
              "      <td>No está incorporado/a</td>\n",
              "      <td>No tiene semidetención</td>\n",
              "    </tr>\n",
              "    <tr>\n",
              "      <th>4</th>\n",
              "      <td>Chubut</td>\n",
              "      <td>16</td>\n",
              "      <td>33</td>\n",
              "      <td>Varón</td>\n",
              "      <td>Argentina</td>\n",
              "      <td>Soltero/a</td>\n",
              "      <td>Primario completo</td>\n",
              "      <td>Desocupado/a</td>\n",
              "      <td>No tiene ni oficio ni profesión</td>\n",
              "      <td>Condenado/a</td>\n",
              "      <td>...</td>\n",
              "      <td>No participa de ningún programa educativo</td>\n",
              "      <td>Buena</td>\n",
              "      <td>No</td>\n",
              "      <td>5</td>\n",
              "      <td>0</td>\n",
              "      <td>Reiterante</td>\n",
              "      <td>No le fueron otorgadas</td>\n",
              "      <td>No está incorporado/a al régimen de semilibertad</td>\n",
              "      <td>No está incorporado/a</td>\n",
              "      <td>No tiene semidetención</td>\n",
              "    </tr>\n",
              "  </tbody>\n",
              "</table>\n",
              "<p>5 rows × 26 columns</p>\n",
              "</div>\n",
              "      <button class=\"colab-df-convert\" onclick=\"convertToInteractive('df-1c176e2e-6f4a-4f40-96dd-ea376f467a84')\"\n",
              "              title=\"Convert this dataframe to an interactive table.\"\n",
              "              style=\"display:none;\">\n",
              "        \n",
              "  <svg xmlns=\"http://www.w3.org/2000/svg\" height=\"24px\"viewBox=\"0 0 24 24\"\n",
              "       width=\"24px\">\n",
              "    <path d=\"M0 0h24v24H0V0z\" fill=\"none\"/>\n",
              "    <path d=\"M18.56 5.44l.94 2.06.94-2.06 2.06-.94-2.06-.94-.94-2.06-.94 2.06-2.06.94zm-11 1L8.5 8.5l.94-2.06 2.06-.94-2.06-.94L8.5 2.5l-.94 2.06-2.06.94zm10 10l.94 2.06.94-2.06 2.06-.94-2.06-.94-.94-2.06-.94 2.06-2.06.94z\"/><path d=\"M17.41 7.96l-1.37-1.37c-.4-.4-.92-.59-1.43-.59-.52 0-1.04.2-1.43.59L10.3 9.45l-7.72 7.72c-.78.78-.78 2.05 0 2.83L4 21.41c.39.39.9.59 1.41.59.51 0 1.02-.2 1.41-.59l7.78-7.78 2.81-2.81c.8-.78.8-2.07 0-2.86zM5.41 20L4 18.59l7.72-7.72 1.47 1.35L5.41 20z\"/>\n",
              "  </svg>\n",
              "      </button>\n",
              "      \n",
              "  <style>\n",
              "    .colab-df-container {\n",
              "      display:flex;\n",
              "      flex-wrap:wrap;\n",
              "      gap: 12px;\n",
              "    }\n",
              "\n",
              "    .colab-df-convert {\n",
              "      background-color: #E8F0FE;\n",
              "      border: none;\n",
              "      border-radius: 50%;\n",
              "      cursor: pointer;\n",
              "      display: none;\n",
              "      fill: #1967D2;\n",
              "      height: 32px;\n",
              "      padding: 0 0 0 0;\n",
              "      width: 32px;\n",
              "    }\n",
              "\n",
              "    .colab-df-convert:hover {\n",
              "      background-color: #E2EBFA;\n",
              "      box-shadow: 0px 1px 2px rgba(60, 64, 67, 0.3), 0px 1px 3px 1px rgba(60, 64, 67, 0.15);\n",
              "      fill: #174EA6;\n",
              "    }\n",
              "\n",
              "    [theme=dark] .colab-df-convert {\n",
              "      background-color: #3B4455;\n",
              "      fill: #D2E3FC;\n",
              "    }\n",
              "\n",
              "    [theme=dark] .colab-df-convert:hover {\n",
              "      background-color: #434B5C;\n",
              "      box-shadow: 0px 1px 3px 1px rgba(0, 0, 0, 0.15);\n",
              "      filter: drop-shadow(0px 1px 2px rgba(0, 0, 0, 0.3));\n",
              "      fill: #FFFFFF;\n",
              "    }\n",
              "  </style>\n",
              "\n",
              "      <script>\n",
              "        const buttonEl =\n",
              "          document.querySelector('#df-1c176e2e-6f4a-4f40-96dd-ea376f467a84 button.colab-df-convert');\n",
              "        buttonEl.style.display =\n",
              "          google.colab.kernel.accessAllowed ? 'block' : 'none';\n",
              "\n",
              "        async function convertToInteractive(key) {\n",
              "          const element = document.querySelector('#df-1c176e2e-6f4a-4f40-96dd-ea376f467a84');\n",
              "          const dataTable =\n",
              "            await google.colab.kernel.invokeFunction('convertToInteractive',\n",
              "                                                     [key], {});\n",
              "          if (!dataTable) return;\n",
              "\n",
              "          const docLinkHtml = 'Like what you see? Visit the ' +\n",
              "            '<a target=\"_blank\" href=https://colab.research.google.com/notebooks/data_table.ipynb>data table notebook</a>'\n",
              "            + ' to learn more about interactive tables.';\n",
              "          element.innerHTML = '';\n",
              "          dataTable['output_type'] = 'display_data';\n",
              "          await google.colab.output.renderOutput(dataTable, element);\n",
              "          const docLink = document.createElement('div');\n",
              "          docLink.innerHTML = docLinkHtml;\n",
              "          element.appendChild(docLink);\n",
              "        }\n",
              "      </script>\n",
              "    </div>\n",
              "  </div>\n",
              "  "
            ]
          },
          "metadata": {},
          "execution_count": 4
        }
      ],
      "source": [
        "#Analizamos las primeras 5 filas del nuevo df.\n",
        "df_sneep2020.head(5) "
      ]
    },
    {
      "cell_type": "code",
      "execution_count": null,
      "metadata": {
        "id": "sLtUGN2TDRQG",
        "colab": {
          "base_uri": "https://localhost:8080/"
        },
        "outputId": "5aca4257-0521-4743-de5c-fa1521220d60"
      },
      "outputs": [
        {
          "output_type": "execute_result",
          "data": {
            "text/plain": [
              "array(['Tiene alguna profesión', 'Tiene algún oficio',\n",
              "       'No tiene ni oficio ni profesión', nan], dtype=object)"
            ]
          },
          "metadata": {},
          "execution_count": 5
        }
      ],
      "source": [
        "#Identificamos los valores a reemplazar\n",
        "df_sneep2020.Capacitación_Laboral_Al_Ingresar.unique() "
      ]
    },
    {
      "cell_type": "code",
      "execution_count": null,
      "metadata": {
        "id": "cS-Yhyx6DRQG"
      },
      "outputs": [],
      "source": [
        "#Correciones gramaticales\n",
        "df_sneep2020[\"Delito_1\"].replace(['Delitos contra la seguridad de la naciÃ³n'], 'Delitos contra la seguridad de la nación', inplace=True)"
      ]
    },
    {
      "cell_type": "code",
      "execution_count": null,
      "metadata": {
        "id": "HhFbCFiIDRQH"
      },
      "outputs": [],
      "source": [
        "df_sneep2020[\"Delito_1\"].replace(['Del. contra la lib. comet. por func. pÃºblico'], 'Del. contra la lib. comet. por func. público', inplace=True)"
      ]
    },
    {
      "cell_type": "code",
      "execution_count": null,
      "metadata": {
        "id": "ac7Aom1SDRQH"
      },
      "outputs": [],
      "source": [
        "df_sneep2020[\"Delito_1\"].replace(['Delitos c/el orden pÃºblico'], 'Delitos c/el orden público', inplace=True)"
      ]
    },
    {
      "cell_type": "code",
      "execution_count": null,
      "metadata": {
        "id": "n4guaIF_DRQI"
      },
      "outputs": [],
      "source": [
        "df_sneep2020[\"Delito_2\"].replace(['Delitos contra la seguridad de la naciÃ³n'], 'Delitos contra la seguridad de la nación', inplace=True)"
      ]
    },
    {
      "cell_type": "code",
      "execution_count": null,
      "metadata": {
        "id": "JVRv-HL8DRQJ"
      },
      "outputs": [],
      "source": [
        "df_sneep2020[\"Delito_2\"].replace(['Delitos c/el orden pÃºblico'], 'Delitos c/el orden público', inplace=True)"
      ]
    },
    {
      "cell_type": "code",
      "execution_count": null,
      "metadata": {
        "id": "I5_0JL7jDRQK"
      },
      "outputs": [],
      "source": [
        "df_sneep2020[\"Delito_2\"].replace(['Del. contra la lib. comet. por func. pÃºblico'], 'Del. contra la lib. comet. por func. público', inplace=True)"
      ]
    },
    {
      "cell_type": "code",
      "execution_count": null,
      "metadata": {
        "id": "SUVkMIFeDRQL"
      },
      "outputs": [],
      "source": [
        "df_sneep2020[\"Delito_3\"].replace(['Delitos contra la seguridad de la naciÃ³n'], 'Delitos contra la seguridad de la nación', inplace=True)"
      ]
    },
    {
      "cell_type": "code",
      "execution_count": null,
      "metadata": {
        "id": "KnqGFazgDRQL"
      },
      "outputs": [],
      "source": [
        "df_sneep2020[\"Delito_3\"].replace(['Delitos c/el orden pÃºblico'], 'Delitos c/el orden público', inplace=True)"
      ]
    },
    {
      "cell_type": "code",
      "execution_count": null,
      "metadata": {
        "id": "1vNqBsEjDRQL"
      },
      "outputs": [],
      "source": [
        "df_sneep2020[\"Delito_3\"].replace(['Del. contra la lib. comet. por func. pÃºblico'], 'Del. contra la lib. comet. por func. público', inplace=True)"
      ]
    },
    {
      "cell_type": "code",
      "execution_count": null,
      "metadata": {
        "id": "tBfpxI_KDRQL"
      },
      "outputs": [],
      "source": [
        "df_sneep2020[\"Delito_4\"].replace(['Delitos contra la seguridad de la naciÃ³n'], 'Delitos contra la seguridad de la nación', inplace=True)"
      ]
    },
    {
      "cell_type": "code",
      "execution_count": null,
      "metadata": {
        "id": "2us73m6VDRQL"
      },
      "outputs": [],
      "source": [
        "df_sneep2020[\"Delito_4\"].replace(['Delitos c/el orden pÃºblico'], 'Delitos c/el orden público', inplace=True)"
      ]
    },
    {
      "cell_type": "code",
      "execution_count": null,
      "metadata": {
        "id": "WL6Zi-05DRQM"
      },
      "outputs": [],
      "source": [
        "df_sneep2020[\"Delito_4\"].replace(['Del. contra la lib. comet. por func. pÃºblico'], 'Del. contra la lib. comet. por func. público', inplace=True)"
      ]
    },
    {
      "cell_type": "code",
      "execution_count": null,
      "metadata": {
        "id": "9fmwIjU7DRQM"
      },
      "outputs": [],
      "source": [
        "df_sneep2020[\"Delito_5\"].replace(['Delitos c/el orden pÃºblico'], 'Delitos c/el orden público', inplace=True)"
      ]
    },
    {
      "cell_type": "code",
      "execution_count": null,
      "metadata": {
        "id": "jezCcCYrDRQM"
      },
      "outputs": [],
      "source": [
        "df_sneep2020[\"Calificacion_Conducta\"].replace(['PÃ©sima'], 'Pesima', inplace=True)"
      ]
    },
    {
      "cell_type": "code",
      "execution_count": null,
      "metadata": {
        "id": "sLXqxtTYDRQM"
      },
      "outputs": [],
      "source": [
        "df_sneep2020[\"Tentativa_Fugas_Evasiones\"].replace(['SI. tentativa de evasiÃ³n'], 'SI. tentativa de evasión', inplace=True)"
      ]
    },
    {
      "cell_type": "code",
      "execution_count": null,
      "metadata": {
        "id": "mvJmE7C-DRQM"
      },
      "outputs": [],
      "source": [
        "df_sneep2020[\"Participa_Programa_Semi_Detención\"].replace(['Si. PrisiÃ³n Diurna'], 'Si. Prisión Diurna', inplace=True)"
      ]
    },
    {
      "cell_type": "code",
      "execution_count": null,
      "metadata": {
        "id": "JuAgkVFRDRQN"
      },
      "outputs": [],
      "source": [
        "df_sneep2020[\"Participa_Programa_Semi_Detención\"].replace(['Si. PrisiÃ³n Nocturna'], 'Si. Prisión Nocturna', inplace=True)"
      ]
    },
    {
      "cell_type": "code",
      "execution_count": null,
      "metadata": {
        "id": "W5WfyxgKDRQN",
        "colab": {
          "base_uri": "https://localhost:8080/"
        },
        "outputId": "1e4a2fa0-1e81-43af-cbef-0b6b5b16ad39"
      },
      "outputs": [
        {
          "output_type": "execute_result",
          "data": {
            "text/plain": [
              "Provincia                                     0\n",
              "EstablecimientoId                             0\n",
              "EdadCenso                                     0\n",
              "Sexo                                          0\n",
              "Nacionalidad                                  0\n",
              "Estado_Civil                                  0\n",
              "Nivel_Instrucción                             0\n",
              "Última_Situación_Laboral                      0\n",
              "Capacitación_Laboral_Al_Ingresar           2254\n",
              "Situación_Legal                               0\n",
              "Delito_1                                   2648\n",
              "Delito_2                                  77188\n",
              "Delito_3                                  90928\n",
              "Delito_4                                  93876\n",
              "Delito_5                                  94532\n",
              "Horas_Trabajo_Remunerado                   2368\n",
              "Participación_Programa_Educativo           1780\n",
              "Calificacion_Conducta                      1935\n",
              "Tentativa_Fugas_Evasiones                    78\n",
              "Duración_Condena_Años                         0\n",
              "Duración_Condena_Meses                        0\n",
              "Es_Reincidente                            43930\n",
              "Tuvo_Salidas_Transitorias                 44945\n",
              "Incorporado_Rég_Semi_Libertad             45372\n",
              "Participa_Programa_Prisión_Discontinua    43563\n",
              "Participa_Programa_Semi_Detención         43563\n",
              "dtype: int64"
            ]
          },
          "metadata": {},
          "execution_count": 23
        }
      ],
      "source": [
        " #Identificamos cuales son las variables que tienen valores nulos para poder trabajarlas\n",
        " df_sneep2020.isna().sum()"
      ]
    },
    {
      "cell_type": "code",
      "execution_count": null,
      "metadata": {
        "id": "So2dsQyKDRQN",
        "colab": {
          "base_uri": "https://localhost:8080/"
        },
        "outputId": "b2844aa7-b2e7-49d1-dce5-5719a1faa009"
      },
      "outputs": [
        {
          "output_type": "execute_result",
          "data": {
            "text/plain": [
              "No tiene ni oficio ni profesión    43384\n",
              "Tiene algún oficio                 39148\n",
              "Tiene alguna profesión             10158\n",
              "Name: Capacitación_Laboral_Al_Ingresar, dtype: int64"
            ]
          },
          "metadata": {},
          "execution_count": 24
        }
      ],
      "source": [
        "#Para poder trabajar tomamos el valor que mas se repite y reemplazamos Nan con dicho valor, repetimos en las diferentes variables.\n",
        "df_sneep2020.Capacitación_Laboral_Al_Ingresar.value_counts() "
      ]
    },
    {
      "cell_type": "code",
      "execution_count": null,
      "metadata": {
        "id": "JE13_BDiDRQN",
        "colab": {
          "base_uri": "https://localhost:8080/"
        },
        "outputId": "4b64006e-769b-4508-f299-84044776c7ec"
      },
      "outputs": [
        {
          "output_type": "execute_result",
          "data": {
            "text/plain": [
              "No tiene ni oficio ni profesión    45.694304\n",
              "Tiene algún oficio                 41.232727\n",
              "Tiene alguna profesión             10.698938\n",
              "Name: Capacitación_Laboral_Al_Ingresar, dtype: float64"
            ]
          },
          "metadata": {},
          "execution_count": 25
        }
      ],
      "source": [
        "#Pasamos en % para visualizar mejor la media\n",
        "100 * df_sneep2020['Capacitación_Laboral_Al_Ingresar'].value_counts() / len(df_sneep2020['Capacitación_Laboral_Al_Ingresar'])"
      ]
    },
    {
      "cell_type": "code",
      "execution_count": null,
      "metadata": {
        "id": "-BN78s61DRQO"
      },
      "outputs": [],
      "source": [
        "from sklearn.impute import SimpleImputer\n",
        "#Llenamos con la media para aquellas variables con valores NaN\n",
        "si = SimpleImputer(strategy = \"constant\", fill_value = \"No tiene ni oficio ni profesión\")\n",
        "df_sneep2020.Capacitación_Laboral_Al_Ingresar = si.fit_transform(df_sneep2020.Capacitación_Laboral_Al_Ingresar.values.reshape(-1, 1))"
      ]
    },
    {
      "cell_type": "code",
      "execution_count": null,
      "metadata": {
        "id": "ODKdkBU6DRQO",
        "colab": {
          "base_uri": "https://localhost:8080/"
        },
        "outputId": "10321176-8142-4a72-8188-84a839400964"
      },
      "outputs": [
        {
          "output_type": "execute_result",
          "data": {
            "text/plain": [
              "Robo y/o tentativa de robo                            29878\n",
              "Violaciones/Abuso sexual                              13550\n",
              "Infracción ley n° 23.737 (estupefacientes)            12042\n",
              "Homicidios dolosos                                    10859\n",
              "Otros delitos contra las personas                      4331\n",
              "Otros delitos contra la propiedad                      3883\n",
              "Homicidios dolosos (tent.)                             2515\n",
              "Amenazas                                               2010\n",
              "Hurto y/o tentativa de hurto                           1931\n",
              "Lesiones Dolosas                                       1899\n",
              "Homicidios Culposos                                    1831\n",
              "Otros delitos contra la integridad sexual              1651\n",
              "Delitos contra la seguridad pública                    1309\n",
              "Delitos c/ la administracion pública                   1029\n",
              "Privación ilegítima de la libertad                      703\n",
              "Delitos c/el orden público                              697\n",
              "Otros delitos contra la libertad                        563\n",
              "Lesiones Culposas                                       543\n",
              "Delitos contra el honor                                 295\n",
              "Contrabando de estupefacientes                          155\n",
              "Lesa Humanidad                                          124\n",
              "Delitos c/ el estado civil                              105\n",
              "Delitos c/ la fe pública                                 89\n",
              "Delitos previstos en leyes especiales                    88\n",
              "Delitos contra la seguridad de la nación                 76\n",
              "Delitos contra los poderes publicos                      46\n",
              "Del. contra la lib. comet. por func. público             43\n",
              "Contravenciones                                          36\n",
              "Infraccion ley N° 13.944 incumplimiento de deberes       10\n",
              "Infraccion ley N° 24.769 penal tributaria                 5\n",
              "Name: Delito_1, dtype: int64"
            ]
          },
          "metadata": {},
          "execution_count": 27
        }
      ],
      "source": [
        "#Repetimos sobre las variables a usar\n",
        "df_sneep2020.Delito_1.value_counts()"
      ]
    },
    {
      "cell_type": "code",
      "execution_count": null,
      "metadata": {
        "id": "zVU8uWUEDRQO"
      },
      "outputs": [],
      "source": [
        "si = SimpleImputer(strategy = \"constant\", fill_value = \"Robo y/o tentativa de robo\")\n",
        "df_sneep2020.Delito_1 = si.fit_transform(df_sneep2020.Delito_1.values.reshape(-1, 1))"
      ]
    },
    {
      "cell_type": "code",
      "execution_count": null,
      "metadata": {
        "id": "YJmx3v-LDRQO",
        "colab": {
          "base_uri": "https://localhost:8080/"
        },
        "outputId": "d3a90310-78ad-4696-a3f3-b42cb1acbce7"
      },
      "outputs": [
        {
          "output_type": "execute_result",
          "data": {
            "text/plain": [
              "Robo y/o tentativa de robo                            2972\n",
              "Delitos contra la seguridad pública                   2835\n",
              "Otros delitos contra las personas                     1931\n",
              "Amenazas                                              1091\n",
              "Otros delitos contra la integridad sexual              983\n",
              "Otros delitos contra la propiedad                      971\n",
              "Infracción ley n° 23.737 (estupefacientes)             958\n",
              "Violaciones/Abuso sexual                               835\n",
              "Lesiones Dolosas                                       835\n",
              "Delitos c/ la administracion pública                   803\n",
              "Homicidios dolosos                                     623\n",
              "Otros delitos contra la libertad                       572\n",
              "Hurto y/o tentativa de hurto                           497\n",
              "Privación ilegítima de la libertad                     462\n",
              "Delitos c/el orden público                             355\n",
              "Homicidios dolosos (tent.)                             317\n",
              "Lesiones Culposas                                      232\n",
              "Delitos contra la seguridad de la nación               150\n",
              "Homicidios Culposos                                    118\n",
              "Delitos contra el honor                                 83\n",
              "Delitos c/ el estado civil                              48\n",
              "Delitos c/ la fe pública                                21\n",
              "Del. contra la lib. comet. por func. público            17\n",
              "Infraccion ley N° 13.944 incumplimiento de deberes      12\n",
              "Delitos previstos en leyes especiales                   11\n",
              "Delitos contra los poderes publicos                     11\n",
              "Contrabando de estupefacientes                           8\n",
              "Contravenciones                                          4\n",
              "Infraccion ley N° 24.769 penal tributaria                1\n",
              "Name: Delito_2, dtype: int64"
            ]
          },
          "metadata": {},
          "execution_count": 29
        }
      ],
      "source": [
        "df_sneep2020.Delito_2.value_counts() "
      ]
    },
    {
      "cell_type": "code",
      "execution_count": null,
      "metadata": {
        "id": "190p69jSDRQR"
      },
      "outputs": [],
      "source": [
        "si = SimpleImputer(strategy = \"constant\", fill_value = \"Robo y/o tentativa de robo\")\n",
        "df_sneep2020.Delito_2 = si.fit_transform(df_sneep2020.Delito_2.values.reshape(-1, 1))"
      ]
    },
    {
      "cell_type": "code",
      "execution_count": null,
      "metadata": {
        "id": "NyvQiMClDRQR",
        "colab": {
          "base_uri": "https://localhost:8080/"
        },
        "outputId": "ff8f312f-fcda-41b3-c72a-9648523cb00a"
      },
      "outputs": [
        {
          "output_type": "execute_result",
          "data": {
            "text/plain": [
              "Delitos contra la seguridad pública                   566\n",
              "Amenazas                                              455\n",
              "Delitos c/el orden público                            431\n",
              "Robo y/o tentativa de robo                            417\n",
              "Infracción ley n° 23.737 (estupefacientes)            296\n",
              "Otros delitos contra la propiedad                     268\n",
              "Lesiones Dolosas                                      245\n",
              "Delitos c/ la administracion pública                  229\n",
              "Otros delitos contra las personas                     205\n",
              "Privación ilegítima de la libertad                    171\n",
              "Violaciones/Abuso sexual                              164\n",
              "Hurto y/o tentativa de hurto                          118\n",
              "Homicidios dolosos                                    117\n",
              "Otros delitos contra la integridad sexual              82\n",
              "Otros delitos contra la libertad                       81\n",
              "Lesiones Culposas                                      58\n",
              "Homicidios dolosos (tent.)                             37\n",
              "Delitos contra la seguridad de la nación               24\n",
              "Homicidios Culposos                                    18\n",
              "Delitos contra el honor                                11\n",
              "Delitos c/ la fe pública                                6\n",
              "Delitos c/ el estado civil                              5\n",
              "Infraccion ley N° 13.944 incumplimiento de deberes      3\n",
              "Delitos previstos en leyes especiales                   3\n",
              "Del. contra la lib. comet. por func. público            2\n",
              "Contrabando de estupefacientes                          1\n",
              "Lesa Humanidad                                          1\n",
              "Contravenciones                                         1\n",
              "Delitos contra los poderes publicos                     1\n",
              "Name: Delito_3, dtype: int64"
            ]
          },
          "metadata": {},
          "execution_count": 31
        }
      ],
      "source": [
        "df_sneep2020.Delito_3.value_counts() "
      ]
    },
    {
      "cell_type": "code",
      "execution_count": null,
      "metadata": {
        "id": "--fkB9g3DRQR"
      },
      "outputs": [],
      "source": [
        "si = SimpleImputer(strategy = \"constant\", fill_value = \"Delitos contra la seguridad pública\")\n",
        "df_sneep2020.Delito_3 = si.fit_transform(df_sneep2020.Delito_3.values.reshape(-1, 1))"
      ]
    },
    {
      "cell_type": "code",
      "execution_count": null,
      "metadata": {
        "id": "ceu1NMuUDRQS",
        "colab": {
          "base_uri": "https://localhost:8080/"
        },
        "outputId": "de02ceff-2d1f-4f5c-f158-46308bddb329"
      },
      "outputs": [
        {
          "output_type": "execute_result",
          "data": {
            "text/plain": [
              "Infracción ley n° 23.737 (estupefacientes)      213\n",
              "Robo y/o tentativa de robo                      119\n",
              "Delitos contra la seguridad pública             102\n",
              "Amenazas                                         96\n",
              "Delitos c/ la administracion pública             81\n",
              "Lesiones Dolosas                                 77\n",
              "Otros delitos contra la propiedad                75\n",
              "Hurto y/o tentativa de hurto                     52\n",
              "Delitos c/el orden público                       33\n",
              "Privación ilegítima de la libertad               33\n",
              "Otros delitos contra la integridad sexual        30\n",
              "Otros delitos contra las personas                28\n",
              "Otros delitos contra la libertad                 27\n",
              "Violaciones/Abuso sexual                         21\n",
              "Homicidios dolosos                               21\n",
              "Delitos c/ el estado civil                       13\n",
              "Homicidios dolosos (tent.)                       12\n",
              "Delitos c/ la fe pública                         11\n",
              "Lesiones Culposas                                 9\n",
              "Delitos contra la seguridad de la nación          8\n",
              "Homicidios Culposos                               2\n",
              "Delitos contra el honor                           1\n",
              "Delitos contra los poderes publicos               1\n",
              "Contravenciones                                   1\n",
              "Del. contra la lib. comet. por func. público      1\n",
              "Delitos previstos en leyes especiales             1\n",
              "Name: Delito_4, dtype: int64"
            ]
          },
          "metadata": {},
          "execution_count": 33
        }
      ],
      "source": [
        "df_sneep2020.Delito_4.value_counts() "
      ]
    },
    {
      "cell_type": "code",
      "execution_count": null,
      "metadata": {
        "id": "WBq--gr2DRQS"
      },
      "outputs": [],
      "source": [
        "si = SimpleImputer(strategy = \"constant\", fill_value = \"Infracción ley n° 23.737 (estupefacientes)\")\n",
        "df_sneep2020.Delito_4 = si.fit_transform(df_sneep2020.Delito_4.values.reshape(-1, 1))"
      ]
    },
    {
      "cell_type": "code",
      "execution_count": null,
      "metadata": {
        "id": "pmD7F9HVDRQS",
        "colab": {
          "base_uri": "https://localhost:8080/"
        },
        "outputId": "060b7266-6fb4-49ad-d02b-40b1705716b7"
      },
      "outputs": [
        {
          "output_type": "execute_result",
          "data": {
            "text/plain": [
              "Infracción ley n° 23.737 (estupefacientes)    206\n",
              "Delitos contra la seguridad pública            34\n",
              "Robo y/o tentativa de robo                     34\n",
              "Amenazas                                       28\n",
              "Delitos c/ la administracion pública           26\n",
              "Delitos c/el orden público                     14\n",
              "Hurto y/o tentativa de hurto                   14\n",
              "Otros delitos contra la propiedad              10\n",
              "Lesiones Dolosas                               10\n",
              "Otros delitos contra la integridad sexual       7\n",
              "Otros delitos contra las personas               5\n",
              "Violaciones/Abuso sexual                        4\n",
              "Privación ilegítima de la libertad              4\n",
              "Homicidios dolosos (tent.)                      3\n",
              "Homicidios dolosos                              3\n",
              "Otros delitos contra la libertad                3\n",
              "Delitos c/ la fe pública                        2\n",
              "Delitos contra la seguridad de la naciÃ³n       2\n",
              "Homicidios Culposos                             1\n",
              "Delitos previstos en leyes especiales           1\n",
              "Lesiones Culposas                               1\n",
              "Name: Delito_5, dtype: int64"
            ]
          },
          "metadata": {},
          "execution_count": 35
        }
      ],
      "source": [
        "df_sneep2020.Delito_5.value_counts() "
      ]
    },
    {
      "cell_type": "code",
      "execution_count": null,
      "metadata": {
        "id": "1wwEdo_lDRQT"
      },
      "outputs": [],
      "source": [
        "si = SimpleImputer(strategy = \"constant\", fill_value = \"Infracción ley n° 23.737 (estupefacientes)\")\n",
        "df_sneep2020.Delito_5 = si.fit_transform(df_sneep2020.Delito_5.values.reshape(-1, 1))"
      ]
    },
    {
      "cell_type": "code",
      "execution_count": null,
      "metadata": {
        "id": "E_tMHjgeDRQT",
        "colab": {
          "base_uri": "https://localhost:8080/"
        },
        "outputId": "b56408dd-50d1-4e0d-b48d-44d2098c77e4"
      },
      "outputs": [
        {
          "output_type": "execute_result",
          "data": {
            "text/plain": [
              "No participa de ningún programa educativo         53995\n",
              "Si - educación formal - PRIMARIA (EGB)            15057\n",
              "Si - educación formal - SECUNDARIA (Polimodal)    13505\n",
              "Si - educación no formal (Cursos)                  6440\n",
              "Si - educación formal - TERCIARIA                  2284\n",
              "Si - educación formal - UNIVERSITARIA              1883\n",
              "Name: Participación_Programa_Educativo, dtype: int64"
            ]
          },
          "metadata": {},
          "execution_count": 37
        }
      ],
      "source": [
        "df_sneep2020.Participación_Programa_Educativo.value_counts() "
      ]
    },
    {
      "cell_type": "code",
      "execution_count": null,
      "metadata": {
        "id": "hjqfMBP2DRQT"
      },
      "outputs": [],
      "source": [
        "si = SimpleImputer(strategy = \"constant\", fill_value = \"No participa de ningún programa educativo \")\n",
        "df_sneep2020.Participación_Programa_Educativo= si.fit_transform(df_sneep2020.Participación_Programa_Educativo.values.reshape(-1, 1))\n"
      ]
    },
    {
      "cell_type": "code",
      "execution_count": null,
      "metadata": {
        "id": "NVsrS79KDRQT",
        "colab": {
          "base_uri": "https://localhost:8080/"
        },
        "outputId": "0d18d6fd-075f-4987-e606-6f05a8464617"
      },
      "outputs": [
        {
          "output_type": "execute_result",
          "data": {
            "text/plain": [
              "No tiene trabajo remunerado    58818\n",
              "Hasta 40 hs. Semanales         10850\n",
              "Hasta 30 hs. Semanales          9615\n",
              "Hasta 20 hs. Semanales          8358\n",
              "Hasta 10 hs. Semanales          4893\n",
              "Desconocido                       42\n",
              "Name: Horas_Trabajo_Remunerado, dtype: int64"
            ]
          },
          "metadata": {},
          "execution_count": 39
        }
      ],
      "source": [
        "df_sneep2020.Horas_Trabajo_Remunerado.value_counts()"
      ]
    },
    {
      "cell_type": "code",
      "execution_count": null,
      "metadata": {
        "id": "4WeP8bhKDRQU"
      },
      "outputs": [],
      "source": [
        "si = SimpleImputer(strategy = \"constant\", fill_value = \"No tiene trabajo remunerado\")\n",
        "df_sneep2020.Horas_Trabajo_Remunerado = si.fit_transform(df_sneep2020.Horas_Trabajo_Remunerado.values.reshape(-1, 1))"
      ]
    },
    {
      "cell_type": "code",
      "execution_count": null,
      "metadata": {
        "id": "w1XVbpjXDRQU",
        "colab": {
          "base_uri": "https://localhost:8080/"
        },
        "outputId": "9175eec2-d1b6-41e0-8356-44d1c66bab4a"
      },
      "outputs": [
        {
          "output_type": "execute_result",
          "data": {
            "text/plain": [
              "Ejemplar            55453\n",
              "Buena               12645\n",
              "Muy buena           12065\n",
              "Sin calificación     7193\n",
              "Regular              2864\n",
              "Mala                 1758\n",
              "Pesima               1031\n",
              "Name: Calificacion_Conducta, dtype: int64"
            ]
          },
          "metadata": {},
          "execution_count": 41
        }
      ],
      "source": [
        "df_sneep2020.Calificacion_Conducta.value_counts() "
      ]
    },
    {
      "cell_type": "code",
      "execution_count": null,
      "metadata": {
        "id": "IWitUY6hDRQU"
      },
      "outputs": [],
      "source": [
        "si = SimpleImputer(strategy = \"constant\", fill_value = \"Ejemplar\")\n",
        "df_sneep2020.Calificacion_Conducta = si.fit_transform(df_sneep2020.Calificacion_Conducta.values.reshape(-1, 1))"
      ]
    },
    {
      "cell_type": "code",
      "execution_count": null,
      "metadata": {
        "id": "GcwL63nUDRQU",
        "colab": {
          "base_uri": "https://localhost:8080/"
        },
        "outputId": "3064f631-b730-42e3-d5d8-a306c974b5bb"
      },
      "outputs": [
        {
          "output_type": "execute_result",
          "data": {
            "text/plain": [
              "No                          94623\n",
              "SI. tentativa de fuga         154\n",
              "SI. tentativa de evasión       89\n",
              "Name: Tentativa_Fugas_Evasiones, dtype: int64"
            ]
          },
          "metadata": {},
          "execution_count": 43
        }
      ],
      "source": [
        "df_sneep2020.Tentativa_Fugas_Evasiones.value_counts() "
      ]
    },
    {
      "cell_type": "code",
      "execution_count": null,
      "metadata": {
        "id": "SR-VqJudDRQU"
      },
      "outputs": [],
      "source": [
        "si = SimpleImputer(strategy = \"constant\", fill_value = \"No\")\n",
        "df_sneep2020.Tentativa_Fugas_Evasiones = si.fit_transform(df_sneep2020.Tentativa_Fugas_Evasiones.values.reshape(-1, 1))"
      ]
    },
    {
      "cell_type": "code",
      "execution_count": null,
      "metadata": {
        "id": "DtcAjS4-DRQV",
        "colab": {
          "base_uri": "https://localhost:8080/"
        },
        "outputId": "62a52f90-b3c5-4ff0-c244-53e1bd3517dd"
      },
      "outputs": [
        {
          "output_type": "execute_result",
          "data": {
            "text/plain": [
              "Primario/a     37506\n",
              "Reincidente     9499\n",
              "Reiterante      4009\n",
              "Name: Es_Reincidente, dtype: int64"
            ]
          },
          "metadata": {},
          "execution_count": 45
        }
      ],
      "source": [
        "df_sneep2020.Es_Reincidente.value_counts()"
      ]
    },
    {
      "cell_type": "code",
      "execution_count": null,
      "metadata": {
        "id": "X2_1rvIDDRQV"
      },
      "outputs": [],
      "source": [
        "si = SimpleImputer(strategy = \"constant\", fill_value = \"Primario/a\")\n",
        "df_sneep2020.Es_Reincidente = si.fit_transform(df_sneep2020.Es_Reincidente.values.reshape(-1, 1))"
      ]
    },
    {
      "cell_type": "code",
      "execution_count": null,
      "metadata": {
        "id": "uIV2Yc-G-g5w"
      },
      "outputs": [],
      "source": [
        "df_sneep2020['Es_Reincidente'].replace(['Reincidente'], ['Reiterante'], inplace = True)"
      ]
    },
    {
      "cell_type": "code",
      "execution_count": null,
      "metadata": {
        "id": "JQtgpTIgDRQV",
        "colab": {
          "base_uri": "https://localhost:8080/"
        },
        "outputId": "2139ae39-9483-4ac2-8bc5-38a21b61da83"
      },
      "outputs": [
        {
          "output_type": "execute_result",
          "data": {
            "text/plain": [
              "No está incorporado/a al régimen de semilibertad    48648\n",
              "Si está incorporado/a                                 779\n",
              "Suspendido/a durante el Último año                    115\n",
              "Revocado durante el Último año                         30\n",
              "Name: Incorporado_Rég_Semi_Libertad, dtype: int64"
            ]
          },
          "metadata": {},
          "execution_count": 48
        }
      ],
      "source": [
        "df_sneep2020.Incorporado_Rég_Semi_Libertad.value_counts()"
      ]
    },
    {
      "cell_type": "code",
      "execution_count": null,
      "metadata": {
        "id": "8jluXSPMDRQW"
      },
      "outputs": [],
      "source": [
        "si = SimpleImputer(strategy = \"constant\", fill_value = \"No está incorporado/a al régimen de semilibertad\")\n",
        "df_sneep2020.Incorporado_Rég_Semi_Libertad= si.fit_transform(df_sneep2020.Incorporado_Rég_Semi_Libertad.values.reshape(-1, 1))"
      ]
    },
    {
      "cell_type": "code",
      "execution_count": null,
      "metadata": {
        "id": "hOjm99CeDRQW",
        "colab": {
          "base_uri": "https://localhost:8080/"
        },
        "outputId": "4c2d7795-7cdc-4d8f-a6c5-6defd6c0d9c2"
      },
      "outputs": [
        {
          "output_type": "execute_result",
          "data": {
            "text/plain": [
              "No está incorporado/a                           50712\n",
              "Si está incorporado/a                             656\n",
              "Revocada durante el Último año                      8\n",
              "Renuncia del interno/a durante el Último año        5\n",
              "Name: Participa_Programa_Prisión_Discontinua, dtype: int64"
            ]
          },
          "metadata": {},
          "execution_count": 50
        }
      ],
      "source": [
        "df_sneep2020.Participa_Programa_Prisión_Discontinua.value_counts()"
      ]
    },
    {
      "cell_type": "code",
      "execution_count": null,
      "metadata": {
        "id": "MEisAlojDRQW"
      },
      "outputs": [],
      "source": [
        "si = SimpleImputer(strategy = \"constant\", fill_value = \"No está incorporado/a\")\n",
        "df_sneep2020.Participa_Programa_Prisión_Discontinua= si.fit_transform(df_sneep2020.Participa_Programa_Prisión_Discontinua.values.reshape(-1, 1))\n"
      ]
    },
    {
      "cell_type": "code",
      "execution_count": null,
      "metadata": {
        "id": "CS2c9bNHDRQW",
        "colab": {
          "base_uri": "https://localhost:8080/"
        },
        "outputId": "3be2ae88-c262-4787-e634-4d80f52f141f"
      },
      "outputs": [
        {
          "output_type": "execute_result",
          "data": {
            "text/plain": [
              "No tiene semidetención                          51310\n",
              "Revocada durante el Último año                     33\n",
              "Si. Prisión Nocturna                               23\n",
              "Si. Prisión Diurna                                 12\n",
              "Renuncia del interno/a durante el Último año        3\n",
              "Name: Participa_Programa_Semi_Detención, dtype: int64"
            ]
          },
          "metadata": {},
          "execution_count": 52
        }
      ],
      "source": [
        "df_sneep2020.Participa_Programa_Semi_Detención.value_counts()"
      ]
    },
    {
      "cell_type": "code",
      "execution_count": null,
      "metadata": {
        "id": "iBlhqp0HDRQX"
      },
      "outputs": [],
      "source": [
        "si = SimpleImputer(strategy = \"constant\", fill_value = \"No tiene semidetención\")\n",
        "df_sneep2020.Participa_Programa_Semi_Detención= si.fit_transform(df_sneep2020.Participa_Programa_Semi_Detención .values.reshape(-1, 1))\n"
      ]
    },
    {
      "cell_type": "code",
      "execution_count": null,
      "metadata": {
        "id": "UqSIewsBDRQX",
        "colab": {
          "base_uri": "https://localhost:8080/"
        },
        "outputId": "cd624916-eb93-4079-b4ce-7659731973d2"
      },
      "outputs": [
        {
          "output_type": "execute_result",
          "data": {
            "text/plain": [
              "No le fueron otorgadas               46874\n",
              "Si - goza de salidas transitorias     1885\n",
              "Suspendidas durante el Último año     1113\n",
              "Revocadas durante el Último año        127\n",
              "Name: Tuvo_Salidas_Transitorias, dtype: int64"
            ]
          },
          "metadata": {},
          "execution_count": 54
        }
      ],
      "source": [
        "df_sneep2020.Tuvo_Salidas_Transitorias.value_counts()"
      ]
    },
    {
      "cell_type": "code",
      "execution_count": null,
      "metadata": {
        "id": "ISJP9Q0JDRQX"
      },
      "outputs": [],
      "source": [
        "si = SimpleImputer(strategy = \"constant\", fill_value = \"No le fueron otorgadas\")\n",
        "df_sneep2020.Tuvo_Salidas_Transitorias = si.fit_transform(df_sneep2020.Tuvo_Salidas_Transitorias.values.reshape(-1, 1))\n"
      ]
    },
    {
      "cell_type": "code",
      "execution_count": null,
      "metadata": {
        "id": "FQLaTSP2DRQX",
        "colab": {
          "base_uri": "https://localhost:8080/"
        },
        "outputId": "0d98e3e1-7b9d-41ea-9751-e498a21824fa"
      },
      "outputs": [
        {
          "output_type": "execute_result",
          "data": {
            "text/plain": [
              "Provincia                                 0\n",
              "EstablecimientoId                         0\n",
              "EdadCenso                                 0\n",
              "Sexo                                      0\n",
              "Nacionalidad                              0\n",
              "Estado_Civil                              0\n",
              "Nivel_Instrucción                         0\n",
              "Última_Situación_Laboral                  0\n",
              "Capacitación_Laboral_Al_Ingresar          0\n",
              "Situación_Legal                           0\n",
              "Delito_1                                  0\n",
              "Delito_2                                  0\n",
              "Delito_3                                  0\n",
              "Delito_4                                  0\n",
              "Delito_5                                  0\n",
              "Horas_Trabajo_Remunerado                  0\n",
              "Participación_Programa_Educativo          0\n",
              "Calificacion_Conducta                     0\n",
              "Tentativa_Fugas_Evasiones                 0\n",
              "Duración_Condena_Años                     0\n",
              "Duración_Condena_Meses                    0\n",
              "Es_Reincidente                            0\n",
              "Tuvo_Salidas_Transitorias                 0\n",
              "Incorporado_Rég_Semi_Libertad             0\n",
              "Participa_Programa_Prisión_Discontinua    0\n",
              "Participa_Programa_Semi_Detención         0\n",
              "dtype: int64"
            ]
          },
          "metadata": {},
          "execution_count": 56
        }
      ],
      "source": [
        "#Obtenemos la cantidad de NaN en cada columna. Como se puede observar ya no se registran valores nulos\n",
        "df_sneep2020.isna().sum()"
      ]
    },
    {
      "cell_type": "markdown",
      "source": [
        "#Contexto"
      ],
      "metadata": {
        "id": "cK0PzMRobJFE"
      }
    },
    {
      "cell_type": "code",
      "execution_count": null,
      "metadata": {
        "id": "unoIwA3TbGDb",
        "colab": {
          "base_uri": "https://localhost:8080/"
        },
        "outputId": "88bb5af9-af65-48ec-aa47-1c4fecc044bc"
      },
      "outputs": [
        {
          "output_type": "execute_result",
          "data": {
            "text/plain": [
              "Index(['Provincia', 'EstablecimientoId', 'EdadCenso', 'Sexo', 'Nacionalidad',\n",
              "       'Estado_Civil', 'Nivel_Instrucción', 'Última_Situación_Laboral',\n",
              "       'Capacitación_Laboral_Al_Ingresar', 'Situación_Legal', 'Delito_1',\n",
              "       'Delito_2', 'Delito_3', 'Delito_4', 'Delito_5',\n",
              "       'Horas_Trabajo_Remunerado', 'Participación_Programa_Educativo',\n",
              "       'Calificacion_Conducta', 'Tentativa_Fugas_Evasiones',\n",
              "       'Duración_Condena_Años', 'Duración_Condena_Meses', 'Es_Reincidente',\n",
              "       'Tuvo_Salidas_Transitorias', 'Incorporado_Rég_Semi_Libertad',\n",
              "       'Participa_Programa_Prisión_Discontinua',\n",
              "       'Participa_Programa_Semi_Detención'],\n",
              "      dtype='object')"
            ]
          },
          "metadata": {},
          "execution_count": 57
        }
      ],
      "source": [
        "#Observamos las columnas del dataframe, en total de hasta 5 delitos por persona.\n",
        "df_sneep2020.columns "
      ]
    },
    {
      "cell_type": "markdown",
      "metadata": {
        "id": "3mOJc6Cwbh1L"
      },
      "source": [
        "**Campos del recurso**\n",
        "provincia_descripcion (string): nombre de la provincia donde se encuentra el establecimiento penitenciario\n",
        "\n",
        "EdadCenso (int): edad del interno a la fecha del cierre del relevamiento\n",
        "\n",
        "Sexo_descripcion (string): género del interno (Descripción)\n",
        "\n",
        "Nacionalidad_descripcion (string): descripción de la nacionalidad del interno\n",
        "\n",
        "Estado_Civil_descripcion (string): descripción del estado civil que cada interno reviste al día de corte del relevamiento\n",
        "\n",
        "Nivel_Instruccion_descripcion (string): descripción del nivel de educación alcanzado al ingreso del interno al establecimiento\n",
        "\n",
        "capacitacion_laboral_al_ingresar_descripcion (string): descripción de la capacitación laboral que tuviere cada interno a su ingreso al establecimiento\n",
        "\n",
        "situacion_legal_descripcion (string): descripción de la situación legar (Condenado / Procesado / Contraventor / Inimputable)\n",
        "\n",
        "delito1_descripcion (string): descripción del tipo de delito/s que se imputa/n en la/s causa/s por la cual el interno ha ingresado al establecimiento. Por razones operativas sólo se consignan hasta cinco (5) delitos, eligiendo los de mayor gravedad\n",
        "\n",
        "delito2_descripcion (string): descripción del tipo de delito\n",
        "\n",
        "delito3_descripcion (string): descripción del tipo de delito\n",
        "\n",
        "delito4_descripcion (string): descripción del tipo de delito\n",
        "\n",
        "delito5_descripcion (string): descripción del tipo de delito\n",
        "\n",
        "calificacion_conducta_descripcion (string): descripción de la calificación de la conducta correspondiente al último trimestre del año\n",
        "\n",
        "tentativa_fugas_evasiones_descripcion (string): se consigna la tentativa de evasión (aquellos casos en que la persona, hallándose legalmente detenida, saliera del establecimiento utilizando violencia en las personas o fuerza en las cosas) o fuga (aquellos casos en que la persona, hallándose legalmente detenida, saliera del establecimiento sin autorización legal y/o reglamentaria)\n",
        "\n",
        "duracion_condena_anios (int): cantidad de años de condena según testimonio de sentencia\n",
        "\n",
        "duracion_condena_meses (int): cantidad de años de condena según testimonio de sentencia si el interno ha sido condenado a pena privativa de libertad divisible. Se indica cantidad de años y meses\n",
        "\n",
        "duracion_condena_rango (int): si la situación legal del interno es condenado toma valores: 1) Hasta 3 años; Valor 2) De 3 6 años; Valor 3) De 6 a 9 años; 4) De 9 a 12 años; 5) De 12 a 15 años; 6) De 15 a 18 años; 7) Más de 18 años; 8) Sin datos. Si la situación legal del interno es procesado, inimputable o contraventor toma el valor 0. Este campo sólo está disponible a partir del año 2016\n",
        "\n",
        "es_reincidente_descripcion (string): descripción de tipo de reincidencia: Primario: internos que han sido condenados por primera vez Reiterante: es un concepto criminológico, aquellos internos que han cometido varios hechos, pero que no han sido declarados reincidentes Reincidente: internos en cuyo testimonio de sentencia obre declaración de Reincidencia a tenor de las disposiciones del Art. 50 del Código Penal Reincidente múltiple: internos en cuyo testimonio de sentencia obre declaración de reincidencia y a los que se les haya impuesto la Medida de Seguridad prevista en el Art. 52 del Código Penal (Reclusión por tiempo indeterminado)\n",
        "\n",
        "tuvo_salidas_transitorias_descripcion (string): se consigna si el interno ha gozado o goza de salidas transitorias durante el año (Descripción)\n",
        "\n",
        "participa_programa_pre_libertad (int): se consigna si el interno participa o participó durante el año de un programa de prelibertad (1 – si / 2 - no / 0 - sin datos)\n",
        "\n",
        "participa_programa_prision_discontinua_descripcion (string): se consigna si el interno se encuentra o se encontró durante el año cumpliendo la pena bajo la modalidad de Prisión Discontinua (Descripción)\n",
        "\n",
        "participa_programa_semi_detencion_descripcion (string): se consigna si el interno se encuentra o se encontró durante el año cumpliendo la pena bajo la modalidad de Semidetención\n"
      ]
    },
    {
      "cell_type": "markdown",
      "source": [
        "#DESCRIPCION DE LA SITUACION\n",
        "\n",
        "LA INFORMACIÓN CON LA CUAL SE REALIZA EL ANÁLISIS CORRESPONDE AL CENSO DEL AÑO 2020 QUE SE LLEVO A CABO EN LOS ESTABLECIMIENTOS PENITENCIARIOS DEL PAÍS.  \n",
        "EL DESARROLLO SE CENTRA EN LA REINCIDENCIA O NO DE LAS PERSONAS, COMO ES EL ENTORNO O CONTEXTO SOCIAL QUE LLEVA A UNA PERSONA A COMETER VARIOS DELITOS Y QUE CONSECUENCIAS GENERA ESTO EN LA PERSONA.\n",
        "SE CONFIGURA LA REINCIDENCIA CUANDO UN CONDENADO QUE CUMPLIÓ TOTAL O PARCIALMENTE PENA PRIVATIVA DE LIBERTAD, COMETE UN NUEVO DELITO PUNIBLE CON LA MISMA CLASE DE PENA ANTES QUE HAYA TRANSCURRIDO UN CIERTO PLAZO. REINCIDIR SIGNIFICA RECAER EN EL DELITO.\n",
        "PARA LLEVAR A CABO ESTE TRABAJO DEBEMOS MENCIONAR QUE DECIDIMOS AGRUPAR LAS VARIABLES REINCIDENTES Y REITERANTES, POR LO QUE VAMOS A DESCRIBIR SU DIFERENCIA:\n",
        "REINCIDENTE: PERSONA QUE COMETE UN DELITO DISTINTO POR EL CUAL FUE DETENIDO ANTERIORMENTE.\n",
        "\n",
        "REITERANTE: PERSONA QUE COMETE UN DELITO IGUAL O ANALOGO POR EL CUAL YA FUE DETENIDO ANTERIORMENTE."
      ],
      "metadata": {
        "id": "pJy6nsmzT-uM"
      }
    },
    {
      "cell_type": "code",
      "source": [],
      "metadata": {
        "id": "ugyM-U0rUOwy"
      },
      "execution_count": null,
      "outputs": []
    },
    {
      "cell_type": "markdown",
      "source": [
        "#METADATA"
      ],
      "metadata": {
        "id": "cxnUos3XUPW8"
      }
    },
    {
      "cell_type": "markdown",
      "source": [
        "Cantidad de detenidos por provincia"
      ],
      "metadata": {
        "id": "X74FFT82N4y2"
      }
    },
    {
      "cell_type": "code",
      "source": [
        "df_Ubicacion = df_sneep2020.Provincia.value_counts()\n",
        "df_Ubicacion"
      ],
      "metadata": {
        "id": "31ZvjNNaN3cG",
        "colab": {
          "base_uri": "https://localhost:8080/"
        },
        "outputId": "928d8f4a-353b-49ec-8b68-6ea7b61bde81"
      },
      "execution_count": null,
      "outputs": [
        {
          "output_type": "execute_result",
          "data": {
            "text/plain": [
              "Buenos Aires              48030\n",
              "Córdoba                    9691\n",
              "Santa Fe                   6465\n",
              "Mendoza                    5430\n",
              "Salta                      4413\n",
              "Entre Rios                 2498\n",
              "Misiones                   1824\n",
              "San Juan                   1763\n",
              "Chaco                      1728\n",
              "Río Negro                  1587\n",
              "Ciudad de Buenos Aires     1539\n",
              "Corrientes                 1294\n",
              "Tucumán                    1120\n",
              "Chubut                     1079\n",
              "Jujuy                      1009\n",
              "Neuquén                     997\n",
              "La Pampa                    915\n",
              "San Luis                    845\n",
              "Formosa                     745\n",
              "Santiago del Estero         526\n",
              "Catamarca                   438\n",
              "La Rioja                    398\n",
              "Santa Cruz                  391\n",
              "Tierra del Fuego            219\n",
              "Name: Provincia, dtype: int64"
            ]
          },
          "metadata": {},
          "execution_count": 58
        }
      ]
    },
    {
      "cell_type": "code",
      "source": [
        "provincia= ['Buenos Aires', 'Córdoba ', 'Santa Fe','Mendoza', 'Salta', 'Entre Rios', 'Misiones', 'San Juan', 'Chaco', 'Río Negro', 'Ciudad de Buenos Aires','Corrientes','Tucumán','Chubut','Jujuy','Neuquén','La Pampa','San Luis','Formosa','Santiago del Estero','Catamarca','La Rioja','Santa Cruz','Tierra del Fuego']\n",
        "latitude= [-34.61315,-32.142932663607,-30.7069271588117,-34.6298873058957,-24.2991344492002,-32.588735436448,-26.8753965086829,-30.8653679979618,-26.3864309061226,-40.4057957178801,-34.6144934119689,-28.7743047046407,-26.9478001830786,-43.7886233529878,-23.3200784211351,-38.6417575824599,-37.1315537735949,-33.7577257449137,-24.894972594871,-27.7824116550944,-27.3358332810217,-29.685776298315,-48.8154851827063,-82.52151781221]\n",
        "longitude=[ -58.37723, -63.8017532741662, -60.9498369430241,-68.5831228183798,-64.8144629600627,-59.2014475514635,-54.6516966230371,-68.8894908486844,-60.7658307438603,-67.229329893694,-58.4458563545429,-57.8012191977913,-65.3647579441481,-68.5267593943345,-65.7642522180337,-70.1185705180601,-65.4466546606951,-66.281298195836,-59.9324405800872,-63.2523866568588,-66.9476824299928,-67.1817359694432,-69.9557621671973,-50.7427486049785]\n",
        "prov = [48030,9691,6465,5430,4413,2498,1824,1763,1728,1587,1539,1294,1120,1079,1009,997,915,845,745,526,438,398,391,219]\n",
        "df= pd.DataFrame(data={'longitude':longitude, 'latitude':latitude, 'Cantidad':prov},index=provincia)\n",
        "df"
      ],
      "metadata": {
        "colab": {
          "base_uri": "https://localhost:8080/",
          "height": 802
        },
        "id": "gG2ZbsQoSQjR",
        "outputId": "5ffb4cf6-72cf-4c4d-d50c-43220f24b06c"
      },
      "execution_count": null,
      "outputs": [
        {
          "output_type": "execute_result",
          "data": {
            "text/plain": [
              "                        longitude   latitude  Cantidad\n",
              "Buenos Aires           -58.377230 -34.613150     48030\n",
              "Córdoba                -63.801753 -32.142933      9691\n",
              "Santa Fe               -60.949837 -30.706927      6465\n",
              "Mendoza                -68.583123 -34.629887      5430\n",
              "Salta                  -64.814463 -24.299134      4413\n",
              "Entre Rios             -59.201448 -32.588735      2498\n",
              "Misiones               -54.651697 -26.875397      1824\n",
              "San Juan               -68.889491 -30.865368      1763\n",
              "Chaco                  -60.765831 -26.386431      1728\n",
              "Río Negro              -67.229330 -40.405796      1587\n",
              "Ciudad de Buenos Aires -58.445856 -34.614493      1539\n",
              "Corrientes             -57.801219 -28.774305      1294\n",
              "Tucumán                -65.364758 -26.947800      1120\n",
              "Chubut                 -68.526759 -43.788623      1079\n",
              "Jujuy                  -65.764252 -23.320078      1009\n",
              "Neuquén                -70.118571 -38.641758       997\n",
              "La Pampa               -65.446655 -37.131554       915\n",
              "San Luis               -66.281298 -33.757726       845\n",
              "Formosa                -59.932441 -24.894973       745\n",
              "Santiago del Estero    -63.252387 -27.782412       526\n",
              "Catamarca              -66.947682 -27.335833       438\n",
              "La Rioja               -67.181736 -29.685776       398\n",
              "Santa Cruz             -69.955762 -48.815485       391\n",
              "Tierra del Fuego       -50.742749 -82.521518       219"
            ],
            "text/html": [
              "\n",
              "  <div id=\"df-787cb949-aca5-49b5-9dff-c3665e946a6d\">\n",
              "    <div class=\"colab-df-container\">\n",
              "      <div>\n",
              "<style scoped>\n",
              "    .dataframe tbody tr th:only-of-type {\n",
              "        vertical-align: middle;\n",
              "    }\n",
              "\n",
              "    .dataframe tbody tr th {\n",
              "        vertical-align: top;\n",
              "    }\n",
              "\n",
              "    .dataframe thead th {\n",
              "        text-align: right;\n",
              "    }\n",
              "</style>\n",
              "<table border=\"1\" class=\"dataframe\">\n",
              "  <thead>\n",
              "    <tr style=\"text-align: right;\">\n",
              "      <th></th>\n",
              "      <th>longitude</th>\n",
              "      <th>latitude</th>\n",
              "      <th>Cantidad</th>\n",
              "    </tr>\n",
              "  </thead>\n",
              "  <tbody>\n",
              "    <tr>\n",
              "      <th>Buenos Aires</th>\n",
              "      <td>-58.377230</td>\n",
              "      <td>-34.613150</td>\n",
              "      <td>48030</td>\n",
              "    </tr>\n",
              "    <tr>\n",
              "      <th>Córdoba</th>\n",
              "      <td>-63.801753</td>\n",
              "      <td>-32.142933</td>\n",
              "      <td>9691</td>\n",
              "    </tr>\n",
              "    <tr>\n",
              "      <th>Santa Fe</th>\n",
              "      <td>-60.949837</td>\n",
              "      <td>-30.706927</td>\n",
              "      <td>6465</td>\n",
              "    </tr>\n",
              "    <tr>\n",
              "      <th>Mendoza</th>\n",
              "      <td>-68.583123</td>\n",
              "      <td>-34.629887</td>\n",
              "      <td>5430</td>\n",
              "    </tr>\n",
              "    <tr>\n",
              "      <th>Salta</th>\n",
              "      <td>-64.814463</td>\n",
              "      <td>-24.299134</td>\n",
              "      <td>4413</td>\n",
              "    </tr>\n",
              "    <tr>\n",
              "      <th>Entre Rios</th>\n",
              "      <td>-59.201448</td>\n",
              "      <td>-32.588735</td>\n",
              "      <td>2498</td>\n",
              "    </tr>\n",
              "    <tr>\n",
              "      <th>Misiones</th>\n",
              "      <td>-54.651697</td>\n",
              "      <td>-26.875397</td>\n",
              "      <td>1824</td>\n",
              "    </tr>\n",
              "    <tr>\n",
              "      <th>San Juan</th>\n",
              "      <td>-68.889491</td>\n",
              "      <td>-30.865368</td>\n",
              "      <td>1763</td>\n",
              "    </tr>\n",
              "    <tr>\n",
              "      <th>Chaco</th>\n",
              "      <td>-60.765831</td>\n",
              "      <td>-26.386431</td>\n",
              "      <td>1728</td>\n",
              "    </tr>\n",
              "    <tr>\n",
              "      <th>Río Negro</th>\n",
              "      <td>-67.229330</td>\n",
              "      <td>-40.405796</td>\n",
              "      <td>1587</td>\n",
              "    </tr>\n",
              "    <tr>\n",
              "      <th>Ciudad de Buenos Aires</th>\n",
              "      <td>-58.445856</td>\n",
              "      <td>-34.614493</td>\n",
              "      <td>1539</td>\n",
              "    </tr>\n",
              "    <tr>\n",
              "      <th>Corrientes</th>\n",
              "      <td>-57.801219</td>\n",
              "      <td>-28.774305</td>\n",
              "      <td>1294</td>\n",
              "    </tr>\n",
              "    <tr>\n",
              "      <th>Tucumán</th>\n",
              "      <td>-65.364758</td>\n",
              "      <td>-26.947800</td>\n",
              "      <td>1120</td>\n",
              "    </tr>\n",
              "    <tr>\n",
              "      <th>Chubut</th>\n",
              "      <td>-68.526759</td>\n",
              "      <td>-43.788623</td>\n",
              "      <td>1079</td>\n",
              "    </tr>\n",
              "    <tr>\n",
              "      <th>Jujuy</th>\n",
              "      <td>-65.764252</td>\n",
              "      <td>-23.320078</td>\n",
              "      <td>1009</td>\n",
              "    </tr>\n",
              "    <tr>\n",
              "      <th>Neuquén</th>\n",
              "      <td>-70.118571</td>\n",
              "      <td>-38.641758</td>\n",
              "      <td>997</td>\n",
              "    </tr>\n",
              "    <tr>\n",
              "      <th>La Pampa</th>\n",
              "      <td>-65.446655</td>\n",
              "      <td>-37.131554</td>\n",
              "      <td>915</td>\n",
              "    </tr>\n",
              "    <tr>\n",
              "      <th>San Luis</th>\n",
              "      <td>-66.281298</td>\n",
              "      <td>-33.757726</td>\n",
              "      <td>845</td>\n",
              "    </tr>\n",
              "    <tr>\n",
              "      <th>Formosa</th>\n",
              "      <td>-59.932441</td>\n",
              "      <td>-24.894973</td>\n",
              "      <td>745</td>\n",
              "    </tr>\n",
              "    <tr>\n",
              "      <th>Santiago del Estero</th>\n",
              "      <td>-63.252387</td>\n",
              "      <td>-27.782412</td>\n",
              "      <td>526</td>\n",
              "    </tr>\n",
              "    <tr>\n",
              "      <th>Catamarca</th>\n",
              "      <td>-66.947682</td>\n",
              "      <td>-27.335833</td>\n",
              "      <td>438</td>\n",
              "    </tr>\n",
              "    <tr>\n",
              "      <th>La Rioja</th>\n",
              "      <td>-67.181736</td>\n",
              "      <td>-29.685776</td>\n",
              "      <td>398</td>\n",
              "    </tr>\n",
              "    <tr>\n",
              "      <th>Santa Cruz</th>\n",
              "      <td>-69.955762</td>\n",
              "      <td>-48.815485</td>\n",
              "      <td>391</td>\n",
              "    </tr>\n",
              "    <tr>\n",
              "      <th>Tierra del Fuego</th>\n",
              "      <td>-50.742749</td>\n",
              "      <td>-82.521518</td>\n",
              "      <td>219</td>\n",
              "    </tr>\n",
              "  </tbody>\n",
              "</table>\n",
              "</div>\n",
              "      <button class=\"colab-df-convert\" onclick=\"convertToInteractive('df-787cb949-aca5-49b5-9dff-c3665e946a6d')\"\n",
              "              title=\"Convert this dataframe to an interactive table.\"\n",
              "              style=\"display:none;\">\n",
              "        \n",
              "  <svg xmlns=\"http://www.w3.org/2000/svg\" height=\"24px\"viewBox=\"0 0 24 24\"\n",
              "       width=\"24px\">\n",
              "    <path d=\"M0 0h24v24H0V0z\" fill=\"none\"/>\n",
              "    <path d=\"M18.56 5.44l.94 2.06.94-2.06 2.06-.94-2.06-.94-.94-2.06-.94 2.06-2.06.94zm-11 1L8.5 8.5l.94-2.06 2.06-.94-2.06-.94L8.5 2.5l-.94 2.06-2.06.94zm10 10l.94 2.06.94-2.06 2.06-.94-2.06-.94-.94-2.06-.94 2.06-2.06.94z\"/><path d=\"M17.41 7.96l-1.37-1.37c-.4-.4-.92-.59-1.43-.59-.52 0-1.04.2-1.43.59L10.3 9.45l-7.72 7.72c-.78.78-.78 2.05 0 2.83L4 21.41c.39.39.9.59 1.41.59.51 0 1.02-.2 1.41-.59l7.78-7.78 2.81-2.81c.8-.78.8-2.07 0-2.86zM5.41 20L4 18.59l7.72-7.72 1.47 1.35L5.41 20z\"/>\n",
              "  </svg>\n",
              "      </button>\n",
              "      \n",
              "  <style>\n",
              "    .colab-df-container {\n",
              "      display:flex;\n",
              "      flex-wrap:wrap;\n",
              "      gap: 12px;\n",
              "    }\n",
              "\n",
              "    .colab-df-convert {\n",
              "      background-color: #E8F0FE;\n",
              "      border: none;\n",
              "      border-radius: 50%;\n",
              "      cursor: pointer;\n",
              "      display: none;\n",
              "      fill: #1967D2;\n",
              "      height: 32px;\n",
              "      padding: 0 0 0 0;\n",
              "      width: 32px;\n",
              "    }\n",
              "\n",
              "    .colab-df-convert:hover {\n",
              "      background-color: #E2EBFA;\n",
              "      box-shadow: 0px 1px 2px rgba(60, 64, 67, 0.3), 0px 1px 3px 1px rgba(60, 64, 67, 0.15);\n",
              "      fill: #174EA6;\n",
              "    }\n",
              "\n",
              "    [theme=dark] .colab-df-convert {\n",
              "      background-color: #3B4455;\n",
              "      fill: #D2E3FC;\n",
              "    }\n",
              "\n",
              "    [theme=dark] .colab-df-convert:hover {\n",
              "      background-color: #434B5C;\n",
              "      box-shadow: 0px 1px 3px 1px rgba(0, 0, 0, 0.15);\n",
              "      filter: drop-shadow(0px 1px 2px rgba(0, 0, 0, 0.3));\n",
              "      fill: #FFFFFF;\n",
              "    }\n",
              "  </style>\n",
              "\n",
              "      <script>\n",
              "        const buttonEl =\n",
              "          document.querySelector('#df-787cb949-aca5-49b5-9dff-c3665e946a6d button.colab-df-convert');\n",
              "        buttonEl.style.display =\n",
              "          google.colab.kernel.accessAllowed ? 'block' : 'none';\n",
              "\n",
              "        async function convertToInteractive(key) {\n",
              "          const element = document.querySelector('#df-787cb949-aca5-49b5-9dff-c3665e946a6d');\n",
              "          const dataTable =\n",
              "            await google.colab.kernel.invokeFunction('convertToInteractive',\n",
              "                                                     [key], {});\n",
              "          if (!dataTable) return;\n",
              "\n",
              "          const docLinkHtml = 'Like what you see? Visit the ' +\n",
              "            '<a target=\"_blank\" href=https://colab.research.google.com/notebooks/data_table.ipynb>data table notebook</a>'\n",
              "            + ' to learn more about interactive tables.';\n",
              "          element.innerHTML = '';\n",
              "          dataTable['output_type'] = 'display_data';\n",
              "          await google.colab.output.renderOutput(dataTable, element);\n",
              "          const docLink = document.createElement('div');\n",
              "          docLink.innerHTML = docLinkHtml;\n",
              "          element.appendChild(docLink);\n",
              "        }\n",
              "      </script>\n",
              "    </div>\n",
              "  </div>\n",
              "  "
            ]
          },
          "metadata": {},
          "execution_count": 59
        }
      ]
    },
    {
      "cell_type": "code",
      "source": [
        "fig = px.scatter_mapbox(df, lat = 'latitude', lon = 'longitude', size = 'Cantidad',\n",
        "                        zoom = 2, mapbox_style = 'open-street-map')\n",
        "                        \n",
        "fig.show()"
      ],
      "metadata": {
        "id": "78qTNRPiR3qk",
        "colab": {
          "base_uri": "https://localhost:8080/",
          "height": 542
        },
        "outputId": "66ff5c80-845e-44c6-fe4b-9c88f0389e13"
      },
      "execution_count": null,
      "outputs": [
        {
          "output_type": "display_data",
          "data": {
            "text/html": [
              "<html>\n",
              "<head><meta charset=\"utf-8\" /></head>\n",
              "<body>\n",
              "    <div>            <script src=\"https://cdnjs.cloudflare.com/ajax/libs/mathjax/2.7.5/MathJax.js?config=TeX-AMS-MML_SVG\"></script><script type=\"text/javascript\">if (window.MathJax) {MathJax.Hub.Config({SVG: {font: \"STIX-Web\"}});}</script>                <script type=\"text/javascript\">window.PlotlyConfig = {MathJaxConfig: 'local'};</script>\n",
              "        <script src=\"https://cdn.plot.ly/plotly-2.8.3.min.js\"></script>                <div id=\"c04d5fc3-4f8a-4534-b492-80ff7e56ef14\" class=\"plotly-graph-div\" style=\"height:525px; width:100%;\"></div>            <script type=\"text/javascript\">                                    window.PLOTLYENV=window.PLOTLYENV || {};                                    if (document.getElementById(\"c04d5fc3-4f8a-4534-b492-80ff7e56ef14\")) {                    Plotly.newPlot(                        \"c04d5fc3-4f8a-4534-b492-80ff7e56ef14\",                        [{\"hovertemplate\":\"Cantidad=%{marker.size}<br>latitude=%{lat}<br>longitude=%{lon}<extra></extra>\",\"lat\":[-34.61315,-32.142932663607,-30.7069271588117,-34.6298873058957,-24.2991344492002,-32.588735436448,-26.8753965086829,-30.8653679979618,-26.3864309061226,-40.4057957178801,-34.6144934119689,-28.7743047046407,-26.9478001830786,-43.7886233529878,-23.3200784211351,-38.6417575824599,-37.1315537735949,-33.7577257449137,-24.894972594871,-27.7824116550944,-27.3358332810217,-29.685776298315,-48.8154851827063,-82.52151781221],\"legendgroup\":\"\",\"lon\":[-58.37723,-63.8017532741662,-60.9498369430241,-68.5831228183798,-64.8144629600627,-59.2014475514635,-54.6516966230371,-68.8894908486844,-60.7658307438603,-67.229329893694,-58.4458563545429,-57.8012191977913,-65.3647579441481,-68.5267593943345,-65.7642522180337,-70.1185705180601,-65.4466546606951,-66.281298195836,-59.9324405800872,-63.2523866568588,-66.9476824299928,-67.1817359694432,-69.9557621671973,-50.7427486049785],\"marker\":{\"color\":\"#636efa\",\"size\":[48030,9691,6465,5430,4413,2498,1824,1763,1728,1587,1539,1294,1120,1079,1009,997,915,845,745,526,438,398,391,219],\"sizemode\":\"area\",\"sizeref\":120.075},\"mode\":\"markers\",\"name\":\"\",\"showlegend\":false,\"subplot\":\"mapbox\",\"type\":\"scattermapbox\"}],                        {\"template\":{\"data\":{\"bar\":[{\"error_x\":{\"color\":\"#2a3f5f\"},\"error_y\":{\"color\":\"#2a3f5f\"},\"marker\":{\"line\":{\"color\":\"#E5ECF6\",\"width\":0.5},\"pattern\":{\"fillmode\":\"overlay\",\"size\":10,\"solidity\":0.2}},\"type\":\"bar\"}],\"barpolar\":[{\"marker\":{\"line\":{\"color\":\"#E5ECF6\",\"width\":0.5},\"pattern\":{\"fillmode\":\"overlay\",\"size\":10,\"solidity\":0.2}},\"type\":\"barpolar\"}],\"carpet\":[{\"aaxis\":{\"endlinecolor\":\"#2a3f5f\",\"gridcolor\":\"white\",\"linecolor\":\"white\",\"minorgridcolor\":\"white\",\"startlinecolor\":\"#2a3f5f\"},\"baxis\":{\"endlinecolor\":\"#2a3f5f\",\"gridcolor\":\"white\",\"linecolor\":\"white\",\"minorgridcolor\":\"white\",\"startlinecolor\":\"#2a3f5f\"},\"type\":\"carpet\"}],\"choropleth\":[{\"colorbar\":{\"outlinewidth\":0,\"ticks\":\"\"},\"type\":\"choropleth\"}],\"contour\":[{\"colorbar\":{\"outlinewidth\":0,\"ticks\":\"\"},\"colorscale\":[[0.0,\"#0d0887\"],[0.1111111111111111,\"#46039f\"],[0.2222222222222222,\"#7201a8\"],[0.3333333333333333,\"#9c179e\"],[0.4444444444444444,\"#bd3786\"],[0.5555555555555556,\"#d8576b\"],[0.6666666666666666,\"#ed7953\"],[0.7777777777777778,\"#fb9f3a\"],[0.8888888888888888,\"#fdca26\"],[1.0,\"#f0f921\"]],\"type\":\"contour\"}],\"contourcarpet\":[{\"colorbar\":{\"outlinewidth\":0,\"ticks\":\"\"},\"type\":\"contourcarpet\"}],\"heatmap\":[{\"colorbar\":{\"outlinewidth\":0,\"ticks\":\"\"},\"colorscale\":[[0.0,\"#0d0887\"],[0.1111111111111111,\"#46039f\"],[0.2222222222222222,\"#7201a8\"],[0.3333333333333333,\"#9c179e\"],[0.4444444444444444,\"#bd3786\"],[0.5555555555555556,\"#d8576b\"],[0.6666666666666666,\"#ed7953\"],[0.7777777777777778,\"#fb9f3a\"],[0.8888888888888888,\"#fdca26\"],[1.0,\"#f0f921\"]],\"type\":\"heatmap\"}],\"heatmapgl\":[{\"colorbar\":{\"outlinewidth\":0,\"ticks\":\"\"},\"colorscale\":[[0.0,\"#0d0887\"],[0.1111111111111111,\"#46039f\"],[0.2222222222222222,\"#7201a8\"],[0.3333333333333333,\"#9c179e\"],[0.4444444444444444,\"#bd3786\"],[0.5555555555555556,\"#d8576b\"],[0.6666666666666666,\"#ed7953\"],[0.7777777777777778,\"#fb9f3a\"],[0.8888888888888888,\"#fdca26\"],[1.0,\"#f0f921\"]],\"type\":\"heatmapgl\"}],\"histogram\":[{\"marker\":{\"pattern\":{\"fillmode\":\"overlay\",\"size\":10,\"solidity\":0.2}},\"type\":\"histogram\"}],\"histogram2d\":[{\"colorbar\":{\"outlinewidth\":0,\"ticks\":\"\"},\"colorscale\":[[0.0,\"#0d0887\"],[0.1111111111111111,\"#46039f\"],[0.2222222222222222,\"#7201a8\"],[0.3333333333333333,\"#9c179e\"],[0.4444444444444444,\"#bd3786\"],[0.5555555555555556,\"#d8576b\"],[0.6666666666666666,\"#ed7953\"],[0.7777777777777778,\"#fb9f3a\"],[0.8888888888888888,\"#fdca26\"],[1.0,\"#f0f921\"]],\"type\":\"histogram2d\"}],\"histogram2dcontour\":[{\"colorbar\":{\"outlinewidth\":0,\"ticks\":\"\"},\"colorscale\":[[0.0,\"#0d0887\"],[0.1111111111111111,\"#46039f\"],[0.2222222222222222,\"#7201a8\"],[0.3333333333333333,\"#9c179e\"],[0.4444444444444444,\"#bd3786\"],[0.5555555555555556,\"#d8576b\"],[0.6666666666666666,\"#ed7953\"],[0.7777777777777778,\"#fb9f3a\"],[0.8888888888888888,\"#fdca26\"],[1.0,\"#f0f921\"]],\"type\":\"histogram2dcontour\"}],\"mesh3d\":[{\"colorbar\":{\"outlinewidth\":0,\"ticks\":\"\"},\"type\":\"mesh3d\"}],\"parcoords\":[{\"line\":{\"colorbar\":{\"outlinewidth\":0,\"ticks\":\"\"}},\"type\":\"parcoords\"}],\"pie\":[{\"automargin\":true,\"type\":\"pie\"}],\"scatter\":[{\"marker\":{\"colorbar\":{\"outlinewidth\":0,\"ticks\":\"\"}},\"type\":\"scatter\"}],\"scatter3d\":[{\"line\":{\"colorbar\":{\"outlinewidth\":0,\"ticks\":\"\"}},\"marker\":{\"colorbar\":{\"outlinewidth\":0,\"ticks\":\"\"}},\"type\":\"scatter3d\"}],\"scattercarpet\":[{\"marker\":{\"colorbar\":{\"outlinewidth\":0,\"ticks\":\"\"}},\"type\":\"scattercarpet\"}],\"scattergeo\":[{\"marker\":{\"colorbar\":{\"outlinewidth\":0,\"ticks\":\"\"}},\"type\":\"scattergeo\"}],\"scattergl\":[{\"marker\":{\"colorbar\":{\"outlinewidth\":0,\"ticks\":\"\"}},\"type\":\"scattergl\"}],\"scattermapbox\":[{\"marker\":{\"colorbar\":{\"outlinewidth\":0,\"ticks\":\"\"}},\"type\":\"scattermapbox\"}],\"scatterpolar\":[{\"marker\":{\"colorbar\":{\"outlinewidth\":0,\"ticks\":\"\"}},\"type\":\"scatterpolar\"}],\"scatterpolargl\":[{\"marker\":{\"colorbar\":{\"outlinewidth\":0,\"ticks\":\"\"}},\"type\":\"scatterpolargl\"}],\"scatterternary\":[{\"marker\":{\"colorbar\":{\"outlinewidth\":0,\"ticks\":\"\"}},\"type\":\"scatterternary\"}],\"surface\":[{\"colorbar\":{\"outlinewidth\":0,\"ticks\":\"\"},\"colorscale\":[[0.0,\"#0d0887\"],[0.1111111111111111,\"#46039f\"],[0.2222222222222222,\"#7201a8\"],[0.3333333333333333,\"#9c179e\"],[0.4444444444444444,\"#bd3786\"],[0.5555555555555556,\"#d8576b\"],[0.6666666666666666,\"#ed7953\"],[0.7777777777777778,\"#fb9f3a\"],[0.8888888888888888,\"#fdca26\"],[1.0,\"#f0f921\"]],\"type\":\"surface\"}],\"table\":[{\"cells\":{\"fill\":{\"color\":\"#EBF0F8\"},\"line\":{\"color\":\"white\"}},\"header\":{\"fill\":{\"color\":\"#C8D4E3\"},\"line\":{\"color\":\"white\"}},\"type\":\"table\"}]},\"layout\":{\"annotationdefaults\":{\"arrowcolor\":\"#2a3f5f\",\"arrowhead\":0,\"arrowwidth\":1},\"autotypenumbers\":\"strict\",\"coloraxis\":{\"colorbar\":{\"outlinewidth\":0,\"ticks\":\"\"}},\"colorscale\":{\"diverging\":[[0,\"#8e0152\"],[0.1,\"#c51b7d\"],[0.2,\"#de77ae\"],[0.3,\"#f1b6da\"],[0.4,\"#fde0ef\"],[0.5,\"#f7f7f7\"],[0.6,\"#e6f5d0\"],[0.7,\"#b8e186\"],[0.8,\"#7fbc41\"],[0.9,\"#4d9221\"],[1,\"#276419\"]],\"sequential\":[[0.0,\"#0d0887\"],[0.1111111111111111,\"#46039f\"],[0.2222222222222222,\"#7201a8\"],[0.3333333333333333,\"#9c179e\"],[0.4444444444444444,\"#bd3786\"],[0.5555555555555556,\"#d8576b\"],[0.6666666666666666,\"#ed7953\"],[0.7777777777777778,\"#fb9f3a\"],[0.8888888888888888,\"#fdca26\"],[1.0,\"#f0f921\"]],\"sequentialminus\":[[0.0,\"#0d0887\"],[0.1111111111111111,\"#46039f\"],[0.2222222222222222,\"#7201a8\"],[0.3333333333333333,\"#9c179e\"],[0.4444444444444444,\"#bd3786\"],[0.5555555555555556,\"#d8576b\"],[0.6666666666666666,\"#ed7953\"],[0.7777777777777778,\"#fb9f3a\"],[0.8888888888888888,\"#fdca26\"],[1.0,\"#f0f921\"]]},\"colorway\":[\"#636efa\",\"#EF553B\",\"#00cc96\",\"#ab63fa\",\"#FFA15A\",\"#19d3f3\",\"#FF6692\",\"#B6E880\",\"#FF97FF\",\"#FECB52\"],\"font\":{\"color\":\"#2a3f5f\"},\"geo\":{\"bgcolor\":\"white\",\"lakecolor\":\"white\",\"landcolor\":\"#E5ECF6\",\"showlakes\":true,\"showland\":true,\"subunitcolor\":\"white\"},\"hoverlabel\":{\"align\":\"left\"},\"hovermode\":\"closest\",\"mapbox\":{\"style\":\"light\"},\"paper_bgcolor\":\"white\",\"plot_bgcolor\":\"#E5ECF6\",\"polar\":{\"angularaxis\":{\"gridcolor\":\"white\",\"linecolor\":\"white\",\"ticks\":\"\"},\"bgcolor\":\"#E5ECF6\",\"radialaxis\":{\"gridcolor\":\"white\",\"linecolor\":\"white\",\"ticks\":\"\"}},\"scene\":{\"xaxis\":{\"backgroundcolor\":\"#E5ECF6\",\"gridcolor\":\"white\",\"gridwidth\":2,\"linecolor\":\"white\",\"showbackground\":true,\"ticks\":\"\",\"zerolinecolor\":\"white\"},\"yaxis\":{\"backgroundcolor\":\"#E5ECF6\",\"gridcolor\":\"white\",\"gridwidth\":2,\"linecolor\":\"white\",\"showbackground\":true,\"ticks\":\"\",\"zerolinecolor\":\"white\"},\"zaxis\":{\"backgroundcolor\":\"#E5ECF6\",\"gridcolor\":\"white\",\"gridwidth\":2,\"linecolor\":\"white\",\"showbackground\":true,\"ticks\":\"\",\"zerolinecolor\":\"white\"}},\"shapedefaults\":{\"line\":{\"color\":\"#2a3f5f\"}},\"ternary\":{\"aaxis\":{\"gridcolor\":\"white\",\"linecolor\":\"white\",\"ticks\":\"\"},\"baxis\":{\"gridcolor\":\"white\",\"linecolor\":\"white\",\"ticks\":\"\"},\"bgcolor\":\"#E5ECF6\",\"caxis\":{\"gridcolor\":\"white\",\"linecolor\":\"white\",\"ticks\":\"\"}},\"title\":{\"x\":0.05},\"xaxis\":{\"automargin\":true,\"gridcolor\":\"white\",\"linecolor\":\"white\",\"ticks\":\"\",\"title\":{\"standoff\":15},\"zerolinecolor\":\"white\",\"zerolinewidth\":2},\"yaxis\":{\"automargin\":true,\"gridcolor\":\"white\",\"linecolor\":\"white\",\"ticks\":\"\",\"title\":{\"standoff\":15},\"zerolinecolor\":\"white\",\"zerolinewidth\":2}}},\"mapbox\":{\"domain\":{\"x\":[0.0,1.0],\"y\":[0.0,1.0]},\"center\":{\"lat\":-34.230253839316994,\"lon\":-63.45943027284881},\"zoom\":2,\"style\":\"open-street-map\"},\"legend\":{\"tracegroupgap\":0,\"itemsizing\":\"constant\"},\"margin\":{\"t\":60}},                        {\"responsive\": true}                    ).then(function(){\n",
              "                            \n",
              "var gd = document.getElementById('c04d5fc3-4f8a-4534-b492-80ff7e56ef14');\n",
              "var x = new MutationObserver(function (mutations, observer) {{\n",
              "        var display = window.getComputedStyle(gd).display;\n",
              "        if (!display || display === 'none') {{\n",
              "            console.log([gd, 'removed!']);\n",
              "            Plotly.purge(gd);\n",
              "            observer.disconnect();\n",
              "        }}\n",
              "}});\n",
              "\n",
              "// Listen for the removal of the full notebook cells\n",
              "var notebookContainer = gd.closest('#notebook-container');\n",
              "if (notebookContainer) {{\n",
              "    x.observe(notebookContainer, {childList: true});\n",
              "}}\n",
              "\n",
              "// Listen for the clearing of the current output cell\n",
              "var outputEl = gd.closest('.output');\n",
              "if (outputEl) {{\n",
              "    x.observe(outputEl, {childList: true});\n",
              "}}\n",
              "\n",
              "                        })                };                            </script>        </div>\n",
              "</body>\n",
              "</html>"
            ]
          },
          "metadata": {}
        }
      ]
    },
    {
      "cell_type": "code",
      "source": [
        "df_sneep.EdadCenso.mean() #para poder reemplezar los valores desconocidos usamos como el promedio de edad y reemplazamos"
      ],
      "metadata": {
        "colab": {
          "base_uri": "https://localhost:8080/"
        },
        "id": "lXnnnU9r6sDB",
        "outputId": "483008f0-e745-49fb-8fda-47a554e5f2c3"
      },
      "execution_count": null,
      "outputs": [
        {
          "output_type": "execute_result",
          "data": {
            "text/plain": [
              "34.41663506909336"
            ]
          },
          "metadata": {},
          "execution_count": 61
        }
      ]
    },
    {
      "cell_type": "code",
      "source": [
        "df_sneep2020['EdadCenso'].replace([0], 34, inplace = True)"
      ],
      "metadata": {
        "id": "Sds8lkGw64JW"
      },
      "execution_count": null,
      "outputs": []
    },
    {
      "cell_type": "code",
      "source": [
        "df_sneep.Nivel_Instrucción.value_counts()"
      ],
      "metadata": {
        "id": "xLKLT3IRh6j4",
        "colab": {
          "base_uri": "https://localhost:8080/"
        },
        "outputId": "31c508a8-d8d4-4fee-8bd6-e0099da87702"
      },
      "execution_count": null,
      "outputs": [
        {
          "output_type": "execute_result",
          "data": {
            "text/plain": [
              "Primario completo           32054\n",
              "Secundario incompleto       21259\n",
              "Primario incompleto         21094\n",
              "Secundario completo          9554\n",
              "Ninguno                      6106\n",
              "Desconocido                  2737\n",
              "Universitario incompleto      785\n",
              "Terciario completo            636\n",
              "Terciario incompleto          449\n",
              "Universitario completo        270\n",
              "Name: Nivel_Instrucción, dtype: int64"
            ]
          },
          "metadata": {},
          "execution_count": 63
        }
      ]
    },
    {
      "cell_type": "code",
      "source": [
        "df_GrupLabSex = df_sneep2020.groupby('Sexo')['EdadCenso'].value_counts().reset_index(name='Cantidad')\n",
        "df_GrupLabSex"
      ],
      "metadata": {
        "colab": {
          "base_uri": "https://localhost:8080/",
          "height": 424
        },
        "id": "qoAlCZ4Wzrx8",
        "outputId": "36f3076c-1fde-4fc7-f6ff-f81a34dd3522"
      },
      "execution_count": null,
      "outputs": [
        {
          "output_type": "execute_result",
          "data": {
            "text/plain": [
              "      Sexo  EdadCenso  Cantidad\n",
              "0    Mujer         32       143\n",
              "1    Mujer         27       127\n",
              "2    Mujer         28       126\n",
              "3    Mujer         24       125\n",
              "4    Mujer         29       123\n",
              "..     ...        ...       ...\n",
              "170  Varón         84         1\n",
              "171  Varón         86         1\n",
              "172  Varón         91         1\n",
              "173  Varón         92         1\n",
              "174  Varón         93         1\n",
              "\n",
              "[175 rows x 3 columns]"
            ],
            "text/html": [
              "\n",
              "  <div id=\"df-193e571e-fdb1-4331-982d-b6baba699757\">\n",
              "    <div class=\"colab-df-container\">\n",
              "      <div>\n",
              "<style scoped>\n",
              "    .dataframe tbody tr th:only-of-type {\n",
              "        vertical-align: middle;\n",
              "    }\n",
              "\n",
              "    .dataframe tbody tr th {\n",
              "        vertical-align: top;\n",
              "    }\n",
              "\n",
              "    .dataframe thead th {\n",
              "        text-align: right;\n",
              "    }\n",
              "</style>\n",
              "<table border=\"1\" class=\"dataframe\">\n",
              "  <thead>\n",
              "    <tr style=\"text-align: right;\">\n",
              "      <th></th>\n",
              "      <th>Sexo</th>\n",
              "      <th>EdadCenso</th>\n",
              "      <th>Cantidad</th>\n",
              "    </tr>\n",
              "  </thead>\n",
              "  <tbody>\n",
              "    <tr>\n",
              "      <th>0</th>\n",
              "      <td>Mujer</td>\n",
              "      <td>32</td>\n",
              "      <td>143</td>\n",
              "    </tr>\n",
              "    <tr>\n",
              "      <th>1</th>\n",
              "      <td>Mujer</td>\n",
              "      <td>27</td>\n",
              "      <td>127</td>\n",
              "    </tr>\n",
              "    <tr>\n",
              "      <th>2</th>\n",
              "      <td>Mujer</td>\n",
              "      <td>28</td>\n",
              "      <td>126</td>\n",
              "    </tr>\n",
              "    <tr>\n",
              "      <th>3</th>\n",
              "      <td>Mujer</td>\n",
              "      <td>24</td>\n",
              "      <td>125</td>\n",
              "    </tr>\n",
              "    <tr>\n",
              "      <th>4</th>\n",
              "      <td>Mujer</td>\n",
              "      <td>29</td>\n",
              "      <td>123</td>\n",
              "    </tr>\n",
              "    <tr>\n",
              "      <th>...</th>\n",
              "      <td>...</td>\n",
              "      <td>...</td>\n",
              "      <td>...</td>\n",
              "    </tr>\n",
              "    <tr>\n",
              "      <th>170</th>\n",
              "      <td>Varón</td>\n",
              "      <td>84</td>\n",
              "      <td>1</td>\n",
              "    </tr>\n",
              "    <tr>\n",
              "      <th>171</th>\n",
              "      <td>Varón</td>\n",
              "      <td>86</td>\n",
              "      <td>1</td>\n",
              "    </tr>\n",
              "    <tr>\n",
              "      <th>172</th>\n",
              "      <td>Varón</td>\n",
              "      <td>91</td>\n",
              "      <td>1</td>\n",
              "    </tr>\n",
              "    <tr>\n",
              "      <th>173</th>\n",
              "      <td>Varón</td>\n",
              "      <td>92</td>\n",
              "      <td>1</td>\n",
              "    </tr>\n",
              "    <tr>\n",
              "      <th>174</th>\n",
              "      <td>Varón</td>\n",
              "      <td>93</td>\n",
              "      <td>1</td>\n",
              "    </tr>\n",
              "  </tbody>\n",
              "</table>\n",
              "<p>175 rows × 3 columns</p>\n",
              "</div>\n",
              "      <button class=\"colab-df-convert\" onclick=\"convertToInteractive('df-193e571e-fdb1-4331-982d-b6baba699757')\"\n",
              "              title=\"Convert this dataframe to an interactive table.\"\n",
              "              style=\"display:none;\">\n",
              "        \n",
              "  <svg xmlns=\"http://www.w3.org/2000/svg\" height=\"24px\"viewBox=\"0 0 24 24\"\n",
              "       width=\"24px\">\n",
              "    <path d=\"M0 0h24v24H0V0z\" fill=\"none\"/>\n",
              "    <path d=\"M18.56 5.44l.94 2.06.94-2.06 2.06-.94-2.06-.94-.94-2.06-.94 2.06-2.06.94zm-11 1L8.5 8.5l.94-2.06 2.06-.94-2.06-.94L8.5 2.5l-.94 2.06-2.06.94zm10 10l.94 2.06.94-2.06 2.06-.94-2.06-.94-.94-2.06-.94 2.06-2.06.94z\"/><path d=\"M17.41 7.96l-1.37-1.37c-.4-.4-.92-.59-1.43-.59-.52 0-1.04.2-1.43.59L10.3 9.45l-7.72 7.72c-.78.78-.78 2.05 0 2.83L4 21.41c.39.39.9.59 1.41.59.51 0 1.02-.2 1.41-.59l7.78-7.78 2.81-2.81c.8-.78.8-2.07 0-2.86zM5.41 20L4 18.59l7.72-7.72 1.47 1.35L5.41 20z\"/>\n",
              "  </svg>\n",
              "      </button>\n",
              "      \n",
              "  <style>\n",
              "    .colab-df-container {\n",
              "      display:flex;\n",
              "      flex-wrap:wrap;\n",
              "      gap: 12px;\n",
              "    }\n",
              "\n",
              "    .colab-df-convert {\n",
              "      background-color: #E8F0FE;\n",
              "      border: none;\n",
              "      border-radius: 50%;\n",
              "      cursor: pointer;\n",
              "      display: none;\n",
              "      fill: #1967D2;\n",
              "      height: 32px;\n",
              "      padding: 0 0 0 0;\n",
              "      width: 32px;\n",
              "    }\n",
              "\n",
              "    .colab-df-convert:hover {\n",
              "      background-color: #E2EBFA;\n",
              "      box-shadow: 0px 1px 2px rgba(60, 64, 67, 0.3), 0px 1px 3px 1px rgba(60, 64, 67, 0.15);\n",
              "      fill: #174EA6;\n",
              "    }\n",
              "\n",
              "    [theme=dark] .colab-df-convert {\n",
              "      background-color: #3B4455;\n",
              "      fill: #D2E3FC;\n",
              "    }\n",
              "\n",
              "    [theme=dark] .colab-df-convert:hover {\n",
              "      background-color: #434B5C;\n",
              "      box-shadow: 0px 1px 3px 1px rgba(0, 0, 0, 0.15);\n",
              "      filter: drop-shadow(0px 1px 2px rgba(0, 0, 0, 0.3));\n",
              "      fill: #FFFFFF;\n",
              "    }\n",
              "  </style>\n",
              "\n",
              "      <script>\n",
              "        const buttonEl =\n",
              "          document.querySelector('#df-193e571e-fdb1-4331-982d-b6baba699757 button.colab-df-convert');\n",
              "        buttonEl.style.display =\n",
              "          google.colab.kernel.accessAllowed ? 'block' : 'none';\n",
              "\n",
              "        async function convertToInteractive(key) {\n",
              "          const element = document.querySelector('#df-193e571e-fdb1-4331-982d-b6baba699757');\n",
              "          const dataTable =\n",
              "            await google.colab.kernel.invokeFunction('convertToInteractive',\n",
              "                                                     [key], {});\n",
              "          if (!dataTable) return;\n",
              "\n",
              "          const docLinkHtml = 'Like what you see? Visit the ' +\n",
              "            '<a target=\"_blank\" href=https://colab.research.google.com/notebooks/data_table.ipynb>data table notebook</a>'\n",
              "            + ' to learn more about interactive tables.';\n",
              "          element.innerHTML = '';\n",
              "          dataTable['output_type'] = 'display_data';\n",
              "          await google.colab.output.renderOutput(dataTable, element);\n",
              "          const docLink = document.createElement('div');\n",
              "          docLink.innerHTML = docLinkHtml;\n",
              "          element.appendChild(docLink);\n",
              "        }\n",
              "      </script>\n",
              "    </div>\n",
              "  </div>\n",
              "  "
            ]
          },
          "metadata": {},
          "execution_count": 64
        }
      ]
    },
    {
      "cell_type": "code",
      "execution_count": null,
      "metadata": {
        "id": "vH3QK-z1o44c",
        "colab": {
          "base_uri": "https://localhost:8080/",
          "height": 187
        },
        "outputId": "98146adf-66c8-4b16-b126-10372a2c1b11"
      },
      "outputs": [
        {
          "output_type": "display_data",
          "data": {
            "text/plain": [
              "<Figure size 720x144 with 1 Axes>"
            ],
            "image/png": "[encoded data removed]"
          },
          "metadata": {
            "needs_background": "light"
          }
        }
      ],
      "source": [
        "#Se arma un grafico plt teniendo encuenta la distribución por edad. Como la edad de encarcelamiento es a partir de los 18 años ajustamos las variables.\n",
        "fig, ax = plt.subplots(figsize=(10,2))\n",
        "\n",
        "ax.hist(x=df_sneep2020.EdadCenso,  facecolor= \"w\", bins=100, linewidth=0.5, edgecolor=\"b\")\n",
        "ax.set(xlim=(18, 85),\n",
        "       ylim=(0, 4500))\n",
        "\n",
        "ax.set_title(\"Distribución segun Edad\")\n",
        "ax.set_ylabel('Penitenciarios')\n",
        "ax.set_xlabel('Edad')\n",
        "\n",
        "plt.show()"
      ]
    },
    {
      "cell_type": "code",
      "source": [
        "df_sex =df_sneep2020.Sexo.value_counts()\n",
        "df_sex"
      ],
      "metadata": {
        "colab": {
          "base_uri": "https://localhost:8080/"
        },
        "id": "3Nazdudr-wW4",
        "outputId": "3b8c138c-c2f9-41a4-e7cc-4f5de30b51bf"
      },
      "execution_count": null,
      "outputs": [
        {
          "output_type": "execute_result",
          "data": {
            "text/plain": [
              "Varón          91254\n",
              "Mujer           3568\n",
              "Trans Mujer      109\n",
              "Trans Varón       13\n",
              "Name: Sexo, dtype: int64"
            ]
          },
          "metadata": {},
          "execution_count": 66
        }
      ]
    },
    {
      "cell_type": "code",
      "source": [
        "df_nacionalidad =df_sneep2020.Nacionalidad.value_counts()\n",
        "df_nacionalidad"
      ],
      "metadata": {
        "colab": {
          "base_uri": "https://localhost:8080/"
        },
        "id": "EKZPMC3xmdQw",
        "outputId": "51fc0057-2f5e-4a68-d0ff-48d5575165f2"
      },
      "execution_count": null,
      "outputs": [
        {
          "output_type": "execute_result",
          "data": {
            "text/plain": [
              "Argentina      90138\n",
              "Paraguaya       1827\n",
              "Peruana          899\n",
              "Boliviana        799\n",
              "Chilena          328\n",
              "Uruguaya         296\n",
              "Otras            251\n",
              "Colombiana       215\n",
              "Brasileña         93\n",
              "Desconocida       25\n",
              "China             24\n",
              "Italiana          18\n",
              "Española          11\n",
              "Ecuatoriana       11\n",
              "Nigeriana          5\n",
              "Sudafricana        2\n",
              "Inglesa            2\n",
              "Name: Nacionalidad, dtype: int64"
            ]
          },
          "metadata": {},
          "execution_count": 67
        }
      ]
    },
    {
      "cell_type": "code",
      "source": [
        "import matplotlib.pyplot as plt\n",
        "from wordcloud import WordCloud\n",
        "\n",
        "texto = \"Robo y/o tentativa de robo Violaciones/Abuso sexual Infracción ley n° 23.737 (estupefacientes) Homicidios dolosos Delitos contra las personas Otros delitos contra la propiedad Homicidios dolosos (tent.) Amenazas Hurto y/o tentativa de hurto Lesiones Dolosas Homicidios CulpososOtros delitos contra la integridad sexualDelitos contra la seguridad pública Delitos c/ la administracion pública Privación ilegítima de la libertad Delitos c/el orden público Otros delitos contra la libertad Lesiones Culposas Delitos contra el honor Contrabando de estupefacientes Lesa Humanidad Delitos c/ el estado civil Delitos c/ la fe pública  Delitos previstos en leyes especiales Delitos contra la seguridad de la nación Delitos contra los poderes publicos Del. contra la lib. comet. por func. público Contravenciones  Infraccion ley N° 13.944 incumplimiento de deberes Infraccion ley N° 24.769 penal tributaria\"\n",
        "\n",
        "wc = WordCloud(width = 1000, height = 800,background_color = \"white\",stopwords = [\"Violaciones/Abuso sexual\", \"Homicidios doloso\", \"Robo y/o tentativa de robo\"])\n",
        "wc.generate(texto)\n",
        "\n",
        "\n",
        "plt.axis(\"off\")\n",
        "plt.imshow(wc, interpolation = \"bilinear\")\n",
        "\n",
        "# plt.show()"
      ],
      "metadata": {
        "colab": {
          "base_uri": "https://localhost:8080/",
          "height": 265
        },
        "id": "SE0JacD9nKv8",
        "outputId": "7c4cbbb2-5434-4293-dd14-f299f48d3cba"
      },
      "execution_count": null,
      "outputs": [
        {
          "output_type": "execute_result",
          "data": {
            "text/plain": [
              "<matplotlib.image.AxesImage at 0x7fea26f4cad0>"
            ]
          },
          "metadata": {},
          "execution_count": 68
        },
        {
          "output_type": "display_data",
          "data": {
            "text/plain": [
              "<Figure size 432x288 with 1 Axes>"
            ],
            "image/png": "[encoded data removed]"
          },
          "metadata": {
            "needs_background": "light"
          }
        }
      ]
    },
    {
      "cell_type": "markdown",
      "source": [],
      "metadata": {
        "id": "J2rTRP6vUk7Y"
      }
    },
    {
      "cell_type": "markdown",
      "source": [
        "#ANALISIS EXPLORATORIO"
      ],
      "metadata": {
        "id": "DL_sUts_UlFL"
      }
    },
    {
      "cell_type": "markdown",
      "source": [
        "#Cantidad\n",
        "¿Cuantas personas de las detenidas son reincidentes y cuantas cometieron un delito primario? \n",
        "Evaluamos cual es la cantidad de detenidos por un primer delito y cuantos son reincidente (o reiterante)**"
      ],
      "metadata": {
        "id": "YiX6k7dFTNOZ"
      }
    },
    {
      "cell_type": "code",
      "source": [
        "Reincidencia = df_sneep2020.Es_Reincidente.value_counts()  \n",
        "Reincidencia"
      ],
      "metadata": {
        "id": "A9pI-_mwTLzh",
        "colab": {
          "base_uri": "https://localhost:8080/"
        },
        "outputId": "250f6496-710c-4f49-a1db-aeb9b227ddc2"
      },
      "execution_count": null,
      "outputs": [
        {
          "output_type": "execute_result",
          "data": {
            "text/plain": [
              "Primario/a    81436\n",
              "Reiterante    13508\n",
              "Name: Es_Reincidente, dtype: int64"
            ]
          },
          "metadata": {},
          "execution_count": 69
        }
      ]
    },
    {
      "cell_type": "code",
      "source": [
        "fig,ax = plt.subplots(figsize =(12, 4))\n",
        "ax.bar(Reincidencia.index, Reincidencia, color= \"red\", edgecolor=\"black\", linewidth=0.7)\n",
        "ax.set_title('Cantidad de reincidentes')\n",
        "ax.set_ylabel('Reincidencia')\n",
        "ax.set_xlabel('Cantidad')"
      ],
      "metadata": {
        "id": "ffww-n1GTJFZ",
        "colab": {
          "base_uri": "https://localhost:8080/",
          "height": 312
        },
        "outputId": "383b7746-ba51-43f8-cc48-9f258dd29049"
      },
      "execution_count": null,
      "outputs": [
        {
          "output_type": "execute_result",
          "data": {
            "text/plain": [
              "Text(0.5, 0, 'Cantidad')"
            ]
          },
          "metadata": {},
          "execution_count": 70
        },
        {
          "output_type": "display_data",
          "data": {
            "text/plain": [
              "<Figure size 864x288 with 1 Axes>"
            ],
            "image/png": "[encoded data removed]"
          },
          "metadata": {
            "needs_background": "light"
          }
        }
      ]
    },
    {
      "cell_type": "markdown",
      "source": [
        "Casi un 90% de los detenido durante el censo 2020 realizaron un primer delito,"
      ],
      "metadata": {
        "id": "kIOD2XAhTzu5"
      }
    },
    {
      "cell_type": "markdown",
      "source": [
        "#Reincidente o no\n",
        "\n",
        "Para poder trabajar dividimos la informacion por reiterante y primario"
      ],
      "metadata": {
        "id": "lfAHUHXyk6Bg"
      }
    },
    {
      "cell_type": "code",
      "source": [
        "Reincidencia = df_sneep2020.groupby('Es_Reincidente')\n",
        "Primario = Reincidencia.get_group('Primario/a') "
      ],
      "metadata": {
        "id": "XHuq2km9bati"
      },
      "execution_count": null,
      "outputs": []
    },
    {
      "cell_type": "code",
      "source": [
        "Reiterante = Reincidencia.get_group('Reiterante') \n",
        "Reiterante"
      ],
      "metadata": {
        "colab": {
          "base_uri": "https://localhost:8080/",
          "height": 661
        },
        "id": "vt0wsRo1Y0qs",
        "outputId": "abdc9a21-4ecf-400a-ece6-ef64ae5208b1"
      },
      "execution_count": null,
      "outputs": [
        {
          "output_type": "execute_result",
          "data": {
            "text/plain": [
              "      Provincia  EstablecimientoId  EdadCenso   Sexo Nacionalidad  \\\n",
              "1        Chubut                 16         28  Varón    Argentina   \n",
              "2        Chubut                 16         33  Varón    Argentina   \n",
              "3        Chubut                 16         35  Varón    Argentina   \n",
              "4        Chubut                 16         33  Varón    Argentina   \n",
              "5        Chubut                 16         23  Varón    Argentina   \n",
              "...         ...                ...        ...    ...          ...   \n",
              "94936   Córdoba                593         27  Varón    Argentina   \n",
              "94937   Córdoba                593         35  Varón    Argentina   \n",
              "94938   Córdoba                593         46  Varón    Argentina   \n",
              "94939   Córdoba                593         47  Varón    Argentina   \n",
              "94942   Córdoba                593         35  Varón    Argentina   \n",
              "\n",
              "      Estado_Civil      Nivel_Instrucción Última_Situación_Laboral  \\\n",
              "1        Soltero/a  Secundario incompleto             Desocupado/a   \n",
              "2      Conviviente    Secundario completo             Desocupado/a   \n",
              "3      Conviviente      Primario completo             Desocupado/a   \n",
              "4        Soltero/a      Primario completo             Desocupado/a   \n",
              "5        Soltero/a      Primario completo             Desocupado/a   \n",
              "...            ...                    ...                      ...   \n",
              "94936    Soltero/a  Secundario incompleto             Desocupado/a   \n",
              "94937    Soltero/a      Primario completo             Desocupado/a   \n",
              "94938    Soltero/a      Primario completo             Desocupado/a   \n",
              "94939    Soltero/a      Primario completo             Desocupado/a   \n",
              "94942    Soltero/a    Primario incompleto             Desocupado/a   \n",
              "\n",
              "      Capacitación_Laboral_Al_Ingresar Situación_Legal  ...  \\\n",
              "1                   Tiene algún oficio     Condenado/a  ...   \n",
              "2      No tiene ni oficio ni profesión     Condenado/a  ...   \n",
              "3                   Tiene algún oficio     Condenado/a  ...   \n",
              "4      No tiene ni oficio ni profesión     Condenado/a  ...   \n",
              "5      No tiene ni oficio ni profesión     Condenado/a  ...   \n",
              "...                                ...             ...  ...   \n",
              "94936  No tiene ni oficio ni profesión     Condenado/a  ...   \n",
              "94937  No tiene ni oficio ni profesión     Condenado/a  ...   \n",
              "94938  No tiene ni oficio ni profesión     Condenado/a  ...   \n",
              "94939  No tiene ni oficio ni profesión     Condenado/a  ...   \n",
              "94942  No tiene ni oficio ni profesión     Condenado/a  ...   \n",
              "\n",
              "                     Participación_Programa_Educativo Calificacion_Conducta  \\\n",
              "1      Si - educación formal - SECUNDARIA (Polimodal)      Sin calificación   \n",
              "2           No participa de ningún programa educativo                 Buena   \n",
              "3      Si - educación formal - SECUNDARIA (Polimodal)                 Buena   \n",
              "4           No participa de ningún programa educativo                 Buena   \n",
              "5           No participa de ningún programa educativo                 Buena   \n",
              "...                                               ...                   ...   \n",
              "94936          Si - educación formal - PRIMARIA (EGB)               Regular   \n",
              "94937  Si - educación formal - SECUNDARIA (Polimodal)              Ejemplar   \n",
              "94938  Si - educación formal - SECUNDARIA (Polimodal)              Ejemplar   \n",
              "94939  Si - educación formal - SECUNDARIA (Polimodal)              Ejemplar   \n",
              "94942  Si - educación formal - SECUNDARIA (Polimodal)              Ejemplar   \n",
              "\n",
              "      Tentativa_Fugas_Evasiones Duración_Condena_Años Duración_Condena_Meses  \\\n",
              "1                            No                     4                      0   \n",
              "2                            No                    13                      0   \n",
              "3                            No                     4                      6   \n",
              "4                            No                     5                      0   \n",
              "5                            No                     5                      0   \n",
              "...                         ...                   ...                    ...   \n",
              "94936                        No                     5                      5   \n",
              "94937                        No                    10                      0   \n",
              "94938                        No                     4                      0   \n",
              "94939                        No                     2                      6   \n",
              "94942                        No                    11                      0   \n",
              "\n",
              "      Es_Reincidente          Tuvo_Salidas_Transitorias  \\\n",
              "1         Reiterante             No le fueron otorgadas   \n",
              "2         Reiterante  Suspendidas durante el Último año   \n",
              "3         Reiterante             No le fueron otorgadas   \n",
              "4         Reiterante             No le fueron otorgadas   \n",
              "5         Reiterante             No le fueron otorgadas   \n",
              "...              ...                                ...   \n",
              "94936     Reiterante             No le fueron otorgadas   \n",
              "94937     Reiterante             No le fueron otorgadas   \n",
              "94938     Reiterante             No le fueron otorgadas   \n",
              "94939     Reiterante             No le fueron otorgadas   \n",
              "94942     Reiterante             No le fueron otorgadas   \n",
              "\n",
              "                          Incorporado_Rég_Semi_Libertad  \\\n",
              "1      No está incorporado/a al régimen de semilibertad   \n",
              "2      No está incorporado/a al régimen de semilibertad   \n",
              "3      No está incorporado/a al régimen de semilibertad   \n",
              "4      No está incorporado/a al régimen de semilibertad   \n",
              "5      No está incorporado/a al régimen de semilibertad   \n",
              "...                                                 ...   \n",
              "94936  No está incorporado/a al régimen de semilibertad   \n",
              "94937  No está incorporado/a al régimen de semilibertad   \n",
              "94938  No está incorporado/a al régimen de semilibertad   \n",
              "94939  No está incorporado/a al régimen de semilibertad   \n",
              "94942  No está incorporado/a al régimen de semilibertad   \n",
              "\n",
              "      Participa_Programa_Prisión_Discontinua  \\\n",
              "1                      No está incorporado/a   \n",
              "2                      No está incorporado/a   \n",
              "3                      No está incorporado/a   \n",
              "4                      No está incorporado/a   \n",
              "5                      No está incorporado/a   \n",
              "...                                      ...   \n",
              "94936                  No está incorporado/a   \n",
              "94937                  No está incorporado/a   \n",
              "94938                  No está incorporado/a   \n",
              "94939                  No está incorporado/a   \n",
              "94942                  No está incorporado/a   \n",
              "\n",
              "       Participa_Programa_Semi_Detención  \n",
              "1                 No tiene semidetención  \n",
              "2                 No tiene semidetención  \n",
              "3                 No tiene semidetención  \n",
              "4                 No tiene semidetención  \n",
              "5                 No tiene semidetención  \n",
              "...                                  ...  \n",
              "94936             No tiene semidetención  \n",
              "94937             No tiene semidetención  \n",
              "94938             No tiene semidetención  \n",
              "94939             No tiene semidetención  \n",
              "94942             No tiene semidetención  \n",
              "\n",
              "[13508 rows x 26 columns]"
            ],
            "text/html": [
              "\n",
              "  <div id=\"df-ff70037d-63ad-4d24-997e-5f839f1f6333\">\n",
              "    <div class=\"colab-df-container\">\n",
              "      <div>\n",
              "<style scoped>\n",
              "    .dataframe tbody tr th:only-of-type {\n",
              "        vertical-align: middle;\n",
              "    }\n",
              "\n",
              "    .dataframe tbody tr th {\n",
              "        vertical-align: top;\n",
              "    }\n",
              "\n",
              "    .dataframe thead th {\n",
              "        text-align: right;\n",
              "    }\n",
              "</style>\n",
              "<table border=\"1\" class=\"dataframe\">\n",
              "  <thead>\n",
              "    <tr style=\"text-align: right;\">\n",
              "      <th></th>\n",
              "      <th>Provincia</th>\n",
              "      <th>EstablecimientoId</th>\n",
              "      <th>EdadCenso</th>\n",
              "      <th>Sexo</th>\n",
              "      <th>Nacionalidad</th>\n",
              "      <th>Estado_Civil</th>\n",
              "      <th>Nivel_Instrucción</th>\n",
              "      <th>Última_Situación_Laboral</th>\n",
              "      <th>Capacitación_Laboral_Al_Ingresar</th>\n",
              "      <th>Situación_Legal</th>\n",
              "      <th>...</th>\n",
              "      <th>Participación_Programa_Educativo</th>\n",
              "      <th>Calificacion_Conducta</th>\n",
              "      <th>Tentativa_Fugas_Evasiones</th>\n",
              "      <th>Duración_Condena_Años</th>\n",
              "      <th>Duración_Condena_Meses</th>\n",
              "      <th>Es_Reincidente</th>\n",
              "      <th>Tuvo_Salidas_Transitorias</th>\n",
              "      <th>Incorporado_Rég_Semi_Libertad</th>\n",
              "      <th>Participa_Programa_Prisión_Discontinua</th>\n",
              "      <th>Participa_Programa_Semi_Detención</th>\n",
              "    </tr>\n",
              "  </thead>\n",
              "  <tbody>\n",
              "    <tr>\n",
              "      <th>1</th>\n",
              "      <td>Chubut</td>\n",
              "      <td>16</td>\n",
              "      <td>28</td>\n",
              "      <td>Varón</td>\n",
              "      <td>Argentina</td>\n",
              "      <td>Soltero/a</td>\n",
              "      <td>Secundario incompleto</td>\n",
              "      <td>Desocupado/a</td>\n",
              "      <td>Tiene algún oficio</td>\n",
              "      <td>Condenado/a</td>\n",
              "      <td>...</td>\n",
              "      <td>Si - educación formal - SECUNDARIA (Polimodal)</td>\n",
              "      <td>Sin calificación</td>\n",
              "      <td>No</td>\n",
              "      <td>4</td>\n",
              "      <td>0</td>\n",
              "      <td>Reiterante</td>\n",
              "      <td>No le fueron otorgadas</td>\n",
              "      <td>No está incorporado/a al régimen de semilibertad</td>\n",
              "      <td>No está incorporado/a</td>\n",
              "      <td>No tiene semidetención</td>\n",
              "    </tr>\n",
              "    <tr>\n",
              "      <th>2</th>\n",
              "      <td>Chubut</td>\n",
              "      <td>16</td>\n",
              "      <td>33</td>\n",
              "      <td>Varón</td>\n",
              "      <td>Argentina</td>\n",
              "      <td>Conviviente</td>\n",
              "      <td>Secundario completo</td>\n",
              "      <td>Desocupado/a</td>\n",
              "      <td>No tiene ni oficio ni profesión</td>\n",
              "      <td>Condenado/a</td>\n",
              "      <td>...</td>\n",
              "      <td>No participa de ningún programa educativo</td>\n",
              "      <td>Buena</td>\n",
              "      <td>No</td>\n",
              "      <td>13</td>\n",
              "      <td>0</td>\n",
              "      <td>Reiterante</td>\n",
              "      <td>Suspendidas durante el Último año</td>\n",
              "      <td>No está incorporado/a al régimen de semilibertad</td>\n",
              "      <td>No está incorporado/a</td>\n",
              "      <td>No tiene semidetención</td>\n",
              "    </tr>\n",
              "    <tr>\n",
              "      <th>3</th>\n",
              "      <td>Chubut</td>\n",
              "      <td>16</td>\n",
              "      <td>35</td>\n",
              "      <td>Varón</td>\n",
              "      <td>Argentina</td>\n",
              "      <td>Conviviente</td>\n",
              "      <td>Primario completo</td>\n",
              "      <td>Desocupado/a</td>\n",
              "      <td>Tiene algún oficio</td>\n",
              "      <td>Condenado/a</td>\n",
              "      <td>...</td>\n",
              "      <td>Si - educación formal - SECUNDARIA (Polimodal)</td>\n",
              "      <td>Buena</td>\n",
              "      <td>No</td>\n",
              "      <td>4</td>\n",
              "      <td>6</td>\n",
              "      <td>Reiterante</td>\n",
              "      <td>No le fueron otorgadas</td>\n",
              "      <td>No está incorporado/a al régimen de semilibertad</td>\n",
              "      <td>No está incorporado/a</td>\n",
              "      <td>No tiene semidetención</td>\n",
              "    </tr>\n",
              "    <tr>\n",
              "      <th>4</th>\n",
              "      <td>Chubut</td>\n",
              "      <td>16</td>\n",
              "      <td>33</td>\n",
              "      <td>Varón</td>\n",
              "      <td>Argentina</td>\n",
              "      <td>Soltero/a</td>\n",
              "      <td>Primario completo</td>\n",
              "      <td>Desocupado/a</td>\n",
              "      <td>No tiene ni oficio ni profesión</td>\n",
              "      <td>Condenado/a</td>\n",
              "      <td>...</td>\n",
              "      <td>No participa de ningún programa educativo</td>\n",
              "      <td>Buena</td>\n",
              "      <td>No</td>\n",
              "      <td>5</td>\n",
              "      <td>0</td>\n",
              "      <td>Reiterante</td>\n",
              "      <td>No le fueron otorgadas</td>\n",
              "      <td>No está incorporado/a al régimen de semilibertad</td>\n",
              "      <td>No está incorporado/a</td>\n",
              "      <td>No tiene semidetención</td>\n",
              "    </tr>\n",
              "    <tr>\n",
              "      <th>5</th>\n",
              "      <td>Chubut</td>\n",
              "      <td>16</td>\n",
              "      <td>23</td>\n",
              "      <td>Varón</td>\n",
              "      <td>Argentina</td>\n",
              "      <td>Soltero/a</td>\n",
              "      <td>Primario completo</td>\n",
              "      <td>Desocupado/a</td>\n",
              "      <td>No tiene ni oficio ni profesión</td>\n",
              "      <td>Condenado/a</td>\n",
              "      <td>...</td>\n",
              "      <td>No participa de ningún programa educativo</td>\n",
              "      <td>Buena</td>\n",
              "      <td>No</td>\n",
              "      <td>5</td>\n",
              "      <td>0</td>\n",
              "      <td>Reiterante</td>\n",
              "      <td>No le fueron otorgadas</td>\n",
              "      <td>No está incorporado/a al régimen de semilibertad</td>\n",
              "      <td>No está incorporado/a</td>\n",
              "      <td>No tiene semidetención</td>\n",
              "    </tr>\n",
              "    <tr>\n",
              "      <th>...</th>\n",
              "      <td>...</td>\n",
              "      <td>...</td>\n",
              "      <td>...</td>\n",
              "      <td>...</td>\n",
              "      <td>...</td>\n",
              "      <td>...</td>\n",
              "      <td>...</td>\n",
              "      <td>...</td>\n",
              "      <td>...</td>\n",
              "      <td>...</td>\n",
              "      <td>...</td>\n",
              "      <td>...</td>\n",
              "      <td>...</td>\n",
              "      <td>...</td>\n",
              "      <td>...</td>\n",
              "      <td>...</td>\n",
              "      <td>...</td>\n",
              "      <td>...</td>\n",
              "      <td>...</td>\n",
              "      <td>...</td>\n",
              "      <td>...</td>\n",
              "    </tr>\n",
              "    <tr>\n",
              "      <th>94936</th>\n",
              "      <td>Córdoba</td>\n",
              "      <td>593</td>\n",
              "      <td>27</td>\n",
              "      <td>Varón</td>\n",
              "      <td>Argentina</td>\n",
              "      <td>Soltero/a</td>\n",
              "      <td>Secundario incompleto</td>\n",
              "      <td>Desocupado/a</td>\n",
              "      <td>No tiene ni oficio ni profesión</td>\n",
              "      <td>Condenado/a</td>\n",
              "      <td>...</td>\n",
              "      <td>Si - educación formal - PRIMARIA (EGB)</td>\n",
              "      <td>Regular</td>\n",
              "      <td>No</td>\n",
              "      <td>5</td>\n",
              "      <td>5</td>\n",
              "      <td>Reiterante</td>\n",
              "      <td>No le fueron otorgadas</td>\n",
              "      <td>No está incorporado/a al régimen de semilibertad</td>\n",
              "      <td>No está incorporado/a</td>\n",
              "      <td>No tiene semidetención</td>\n",
              "    </tr>\n",
              "    <tr>\n",
              "      <th>94937</th>\n",
              "      <td>Córdoba</td>\n",
              "      <td>593</td>\n",
              "      <td>35</td>\n",
              "      <td>Varón</td>\n",
              "      <td>Argentina</td>\n",
              "      <td>Soltero/a</td>\n",
              "      <td>Primario completo</td>\n",
              "      <td>Desocupado/a</td>\n",
              "      <td>No tiene ni oficio ni profesión</td>\n",
              "      <td>Condenado/a</td>\n",
              "      <td>...</td>\n",
              "      <td>Si - educación formal - SECUNDARIA (Polimodal)</td>\n",
              "      <td>Ejemplar</td>\n",
              "      <td>No</td>\n",
              "      <td>10</td>\n",
              "      <td>0</td>\n",
              "      <td>Reiterante</td>\n",
              "      <td>No le fueron otorgadas</td>\n",
              "      <td>No está incorporado/a al régimen de semilibertad</td>\n",
              "      <td>No está incorporado/a</td>\n",
              "      <td>No tiene semidetención</td>\n",
              "    </tr>\n",
              "    <tr>\n",
              "      <th>94938</th>\n",
              "      <td>Córdoba</td>\n",
              "      <td>593</td>\n",
              "      <td>46</td>\n",
              "      <td>Varón</td>\n",
              "      <td>Argentina</td>\n",
              "      <td>Soltero/a</td>\n",
              "      <td>Primario completo</td>\n",
              "      <td>Desocupado/a</td>\n",
              "      <td>No tiene ni oficio ni profesión</td>\n",
              "      <td>Condenado/a</td>\n",
              "      <td>...</td>\n",
              "      <td>Si - educación formal - SECUNDARIA (Polimodal)</td>\n",
              "      <td>Ejemplar</td>\n",
              "      <td>No</td>\n",
              "      <td>4</td>\n",
              "      <td>0</td>\n",
              "      <td>Reiterante</td>\n",
              "      <td>No le fueron otorgadas</td>\n",
              "      <td>No está incorporado/a al régimen de semilibertad</td>\n",
              "      <td>No está incorporado/a</td>\n",
              "      <td>No tiene semidetención</td>\n",
              "    </tr>\n",
              "    <tr>\n",
              "      <th>94939</th>\n",
              "      <td>Córdoba</td>\n",
              "      <td>593</td>\n",
              "      <td>47</td>\n",
              "      <td>Varón</td>\n",
              "      <td>Argentina</td>\n",
              "      <td>Soltero/a</td>\n",
              "      <td>Primario completo</td>\n",
              "      <td>Desocupado/a</td>\n",
              "      <td>No tiene ni oficio ni profesión</td>\n",
              "      <td>Condenado/a</td>\n",
              "      <td>...</td>\n",
              "      <td>Si - educación formal - SECUNDARIA (Polimodal)</td>\n",
              "      <td>Ejemplar</td>\n",
              "      <td>No</td>\n",
              "      <td>2</td>\n",
              "      <td>6</td>\n",
              "      <td>Reiterante</td>\n",
              "      <td>No le fueron otorgadas</td>\n",
              "      <td>No está incorporado/a al régimen de semilibertad</td>\n",
              "      <td>No está incorporado/a</td>\n",
              "      <td>No tiene semidetención</td>\n",
              "    </tr>\n",
              "    <tr>\n",
              "      <th>94942</th>\n",
              "      <td>Córdoba</td>\n",
              "      <td>593</td>\n",
              "      <td>35</td>\n",
              "      <td>Varón</td>\n",
              "      <td>Argentina</td>\n",
              "      <td>Soltero/a</td>\n",
              "      <td>Primario incompleto</td>\n",
              "      <td>Desocupado/a</td>\n",
              "      <td>No tiene ni oficio ni profesión</td>\n",
              "      <td>Condenado/a</td>\n",
              "      <td>...</td>\n",
              "      <td>Si - educación formal - SECUNDARIA (Polimodal)</td>\n",
              "      <td>Ejemplar</td>\n",
              "      <td>No</td>\n",
              "      <td>11</td>\n",
              "      <td>0</td>\n",
              "      <td>Reiterante</td>\n",
              "      <td>No le fueron otorgadas</td>\n",
              "      <td>No está incorporado/a al régimen de semilibertad</td>\n",
              "      <td>No está incorporado/a</td>\n",
              "      <td>No tiene semidetención</td>\n",
              "    </tr>\n",
              "  </tbody>\n",
              "</table>\n",
              "<p>13508 rows × 26 columns</p>\n",
              "</div>\n",
              "      <button class=\"colab-df-convert\" onclick=\"convertToInteractive('df-ff70037d-63ad-4d24-997e-5f839f1f6333')\"\n",
              "              title=\"Convert this dataframe to an interactive table.\"\n",
              "              style=\"display:none;\">\n",
              "        \n",
              "  <svg xmlns=\"http://www.w3.org/2000/svg\" height=\"24px\"viewBox=\"0 0 24 24\"\n",
              "       width=\"24px\">\n",
              "    <path d=\"M0 0h24v24H0V0z\" fill=\"none\"/>\n",
              "    <path d=\"M18.56 5.44l.94 2.06.94-2.06 2.06-.94-2.06-.94-.94-2.06-.94 2.06-2.06.94zm-11 1L8.5 8.5l.94-2.06 2.06-.94-2.06-.94L8.5 2.5l-.94 2.06-2.06.94zm10 10l.94 2.06.94-2.06 2.06-.94-2.06-.94-.94-2.06-.94 2.06-2.06.94z\"/><path d=\"M17.41 7.96l-1.37-1.37c-.4-.4-.92-.59-1.43-.59-.52 0-1.04.2-1.43.59L10.3 9.45l-7.72 7.72c-.78.78-.78 2.05 0 2.83L4 21.41c.39.39.9.59 1.41.59.51 0 1.02-.2 1.41-.59l7.78-7.78 2.81-2.81c.8-.78.8-2.07 0-2.86zM5.41 20L4 18.59l7.72-7.72 1.47 1.35L5.41 20z\"/>\n",
              "  </svg>\n",
              "      </button>\n",
              "      \n",
              "  <style>\n",
              "    .colab-df-container {\n",
              "      display:flex;\n",
              "      flex-wrap:wrap;\n",
              "      gap: 12px;\n",
              "    }\n",
              "\n",
              "    .colab-df-convert {\n",
              "      background-color: #E8F0FE;\n",
              "      border: none;\n",
              "      border-radius: 50%;\n",
              "      cursor: pointer;\n",
              "      display: none;\n",
              "      fill: #1967D2;\n",
              "      height: 32px;\n",
              "      padding: 0 0 0 0;\n",
              "      width: 32px;\n",
              "    }\n",
              "\n",
              "    .colab-df-convert:hover {\n",
              "      background-color: #E2EBFA;\n",
              "      box-shadow: 0px 1px 2px rgba(60, 64, 67, 0.3), 0px 1px 3px 1px rgba(60, 64, 67, 0.15);\n",
              "      fill: #174EA6;\n",
              "    }\n",
              "\n",
              "    [theme=dark] .colab-df-convert {\n",
              "      background-color: #3B4455;\n",
              "      fill: #D2E3FC;\n",
              "    }\n",
              "\n",
              "    [theme=dark] .colab-df-convert:hover {\n",
              "      background-color: #434B5C;\n",
              "      box-shadow: 0px 1px 3px 1px rgba(0, 0, 0, 0.15);\n",
              "      filter: drop-shadow(0px 1px 2px rgba(0, 0, 0, 0.3));\n",
              "      fill: #FFFFFF;\n",
              "    }\n",
              "  </style>\n",
              "\n",
              "      <script>\n",
              "        const buttonEl =\n",
              "          document.querySelector('#df-ff70037d-63ad-4d24-997e-5f839f1f6333 button.colab-df-convert');\n",
              "        buttonEl.style.display =\n",
              "          google.colab.kernel.accessAllowed ? 'block' : 'none';\n",
              "\n",
              "        async function convertToInteractive(key) {\n",
              "          const element = document.querySelector('#df-ff70037d-63ad-4d24-997e-5f839f1f6333');\n",
              "          const dataTable =\n",
              "            await google.colab.kernel.invokeFunction('convertToInteractive',\n",
              "                                                     [key], {});\n",
              "          if (!dataTable) return;\n",
              "\n",
              "          const docLinkHtml = 'Like what you see? Visit the ' +\n",
              "            '<a target=\"_blank\" href=https://colab.research.google.com/notebooks/data_table.ipynb>data table notebook</a>'\n",
              "            + ' to learn more about interactive tables.';\n",
              "          element.innerHTML = '';\n",
              "          dataTable['output_type'] = 'display_data';\n",
              "          await google.colab.output.renderOutput(dataTable, element);\n",
              "          const docLink = document.createElement('div');\n",
              "          docLink.innerHTML = docLinkHtml;\n",
              "          element.appendChild(docLink);\n",
              "        }\n",
              "      </script>\n",
              "    </div>\n",
              "  </div>\n",
              "  "
            ]
          },
          "metadata": {},
          "execution_count": 72
        }
      ]
    },
    {
      "cell_type": "markdown",
      "source": [
        "#Evaluacion segun provincia"
      ],
      "metadata": {
        "id": "nn9GY0oXlQpc"
      }
    },
    {
      "cell_type": "code",
      "source": [
        "provincias=df_sneep2020.groupby(['Provincia'])['Es_Reincidente'].value_counts().sort_values(ascending= True).reset_index(name='Cantidad')\n",
        "prov=provincias.head(46)"
      ],
      "metadata": {
        "id": "-zhBT-J1yrse"
      },
      "execution_count": null,
      "outputs": []
    },
    {
      "cell_type": "code",
      "source": [
        "\n",
        "Reincidencia = sns.catplot(data=prov, kind=\"bar\",x=\"Cantidad\", y=\"Provincia\", hue=\"Es_Reincidente\")\n",
        "\n",
        "sns.set_style(\"dark\")\n",
        "sns.set_palette('RdGy')"
      ],
      "metadata": {
        "colab": {
          "base_uri": "https://localhost:8080/",
          "height": 369
        },
        "id": "75SeB5euyemH",
        "outputId": "4d66ddd2-e3ce-41d1-c338-84fa14288341"
      },
      "execution_count": null,
      "outputs": [
        {
          "output_type": "display_data",
          "data": {
            "text/plain": [
              "<Figure size 448x360 with 1 Axes>"
            ],
            "image/png": "[encoded data removed]"
          },
          "metadata": {
            "needs_background": "light"
          }
        }
      ]
    },
    {
      "cell_type": "markdown",
      "source": [
        "A excepción de la provincia de Buenos Aires, todas las provincias incluida Ciudad Autónoma de Buenos Aires alojan en sus establecimientos personas que cometieron un único delito.\n",
        "Buenos Aires es la provincia con mayor detenidos reiterantes.\n"
      ],
      "metadata": {
        "id": "ncC6uEgcVEYy"
      }
    },
    {
      "cell_type": "markdown",
      "source": [
        "#Evaluacion segun nacionalidad"
      ],
      "metadata": {
        "id": "Ai2eiDVh8KR7"
      }
    },
    {
      "cell_type": "code",
      "source": [
        "nacionalidad = Reiterante.groupby(['Nacionalidad'])['Es_Reincidente'].value_counts().sort_values(ascending= True).reset_index(name='Cantidad')\n",
        "nacionalidad1 =Primario.groupby(['Nacionalidad'])['Es_Reincidente'].value_counts().sort_values(ascending= True).reset_index(name='Cantidad')"
      ],
      "metadata": {
        "id": "R1tE-ll3d26t"
      },
      "execution_count": null,
      "outputs": []
    },
    {
      "cell_type": "code",
      "source": [
        "Nac = nacionalidad.head(10)\n",
        "Nac1 =nacionalidad1.head(10)\n"
      ],
      "metadata": {
        "id": "xigdhafNiR4w"
      },
      "execution_count": null,
      "outputs": []
    },
    {
      "cell_type": "code",
      "source": [
        "fig,ax = plt.subplots(figsize =(8, 4))\n",
        "ax.barh(Nac.Nacionalidad, Nac.Cantidad,color=\"black\", edgecolor=\"red\", linewidth=0.7)\n",
        "ax.set_title('Reincidente por pais')\n",
        "ax.set_ylabel('Nacionalidad')\n",
        "ax.set_xlabel('Cantidad')"
      ],
      "metadata": {
        "colab": {
          "base_uri": "https://localhost:8080/",
          "height": 312
        },
        "id": "5DHd2OAwh4oU",
        "outputId": "58a379f7-5950-4048-cf26-d7ed12a924b6"
      },
      "execution_count": null,
      "outputs": [
        {
          "output_type": "execute_result",
          "data": {
            "text/plain": [
              "Text(0.5, 0, 'Cantidad')"
            ]
          },
          "metadata": {},
          "execution_count": 77
        },
        {
          "output_type": "display_data",
          "data": {
            "text/plain": [
              "<Figure size 576x288 with 1 Axes>"
            ],
            "image/png": "[encoded data removed]"
          },
          "metadata": {}
        }
      ]
    },
    {
      "cell_type": "code",
      "source": [
        "fig,ax = plt.subplots(figsize =(8, 4))\n",
        "ax.barh(Nac1.Nacionalidad, Nac1.Cantidad,color=\"black\", edgecolor=\"red\", linewidth=0.7)\n",
        "ax.set_title('Primario/a por pais')\n",
        "ax.set_ylabel('Nacionalidad')\n",
        "ax.set_xlabel('Cantidad')"
      ],
      "metadata": {
        "outputId": "b709c97d-4feb-4860-dbc8-3297cd52b24c",
        "colab": {
          "base_uri": "https://localhost:8080/",
          "height": 312
        },
        "id": "Oi2bunzCjm5f"
      },
      "execution_count": null,
      "outputs": [
        {
          "output_type": "execute_result",
          "data": {
            "text/plain": [
              "Text(0.5, 0, 'Cantidad')"
            ]
          },
          "metadata": {},
          "execution_count": 78
        },
        {
          "output_type": "display_data",
          "data": {
            "text/plain": [
              "<Figure size 576x288 with 1 Axes>"
            ],
            "image/png": "[encoded data removed]"
          },
          "metadata": {}
        }
      ]
    },
    {
      "cell_type": "markdown",
      "source": [
        "Como se puede observar en los gráficos la mayoría de los detenidos por delitos reincidentes provienen de países limítrofes o de países que conforman el MERCOSUR.\n",
        "Es importante aclarar que en este análisis no se tome en cuenta a Argentina, ya que por mayoría los detenidos provienen de dicho país, \n"
      ],
      "metadata": {
        "id": "_cRyOoYlVIsT"
      }
    },
    {
      "cell_type": "markdown",
      "source": [
        "#Evaluacion segun sexo"
      ],
      "metadata": {
        "id": "Hjs1xJU_lWKY"
      }
    },
    {
      "cell_type": "code",
      "source": [
        "df_ReincidenciaSex = Reiterante.groupby('Sexo')['EdadCenso'].mean().reset_index(name='Edad')\n",
        "df_ReincidenciaSex"
      ],
      "metadata": {
        "id": "KvYMXtln1n02",
        "colab": {
          "base_uri": "https://localhost:8080/",
          "height": 175
        },
        "outputId": "248dca7f-e761-4530-8fb6-2ad24d4b0dc6"
      },
      "execution_count": null,
      "outputs": [
        {
          "output_type": "execute_result",
          "data": {
            "text/plain": [
              "          Sexo       Edad\n",
              "0        Mujer  37.881188\n",
              "1  Trans Mujer  39.857143\n",
              "2  Trans Varón  30.500000\n",
              "3        Varón  35.347075"
            ],
            "text/html": [
              "\n",
              "  <div id=\"df-7d0c8ca3-5250-4ced-b8f7-b1d273e2ec29\">\n",
              "    <div class=\"colab-df-container\">\n",
              "      <div>\n",
              "<style scoped>\n",
              "    .dataframe tbody tr th:only-of-type {\n",
              "        vertical-align: middle;\n",
              "    }\n",
              "\n",
              "    .dataframe tbody tr th {\n",
              "        vertical-align: top;\n",
              "    }\n",
              "\n",
              "    .dataframe thead th {\n",
              "        text-align: right;\n",
              "    }\n",
              "</style>\n",
              "<table border=\"1\" class=\"dataframe\">\n",
              "  <thead>\n",
              "    <tr style=\"text-align: right;\">\n",
              "      <th></th>\n",
              "      <th>Sexo</th>\n",
              "      <th>Edad</th>\n",
              "    </tr>\n",
              "  </thead>\n",
              "  <tbody>\n",
              "    <tr>\n",
              "      <th>0</th>\n",
              "      <td>Mujer</td>\n",
              "      <td>37.881188</td>\n",
              "    </tr>\n",
              "    <tr>\n",
              "      <th>1</th>\n",
              "      <td>Trans Mujer</td>\n",
              "      <td>39.857143</td>\n",
              "    </tr>\n",
              "    <tr>\n",
              "      <th>2</th>\n",
              "      <td>Trans Varón</td>\n",
              "      <td>30.500000</td>\n",
              "    </tr>\n",
              "    <tr>\n",
              "      <th>3</th>\n",
              "      <td>Varón</td>\n",
              "      <td>35.347075</td>\n",
              "    </tr>\n",
              "  </tbody>\n",
              "</table>\n",
              "</div>\n",
              "      <button class=\"colab-df-convert\" onclick=\"convertToInteractive('df-7d0c8ca3-5250-4ced-b8f7-b1d273e2ec29')\"\n",
              "              title=\"Convert this dataframe to an interactive table.\"\n",
              "              style=\"display:none;\">\n",
              "        \n",
              "  <svg xmlns=\"http://www.w3.org/2000/svg\" height=\"24px\"viewBox=\"0 0 24 24\"\n",
              "       width=\"24px\">\n",
              "    <path d=\"M0 0h24v24H0V0z\" fill=\"none\"/>\n",
              "    <path d=\"M18.56 5.44l.94 2.06.94-2.06 2.06-.94-2.06-.94-.94-2.06-.94 2.06-2.06.94zm-11 1L8.5 8.5l.94-2.06 2.06-.94-2.06-.94L8.5 2.5l-.94 2.06-2.06.94zm10 10l.94 2.06.94-2.06 2.06-.94-2.06-.94-.94-2.06-.94 2.06-2.06.94z\"/><path d=\"M17.41 7.96l-1.37-1.37c-.4-.4-.92-.59-1.43-.59-.52 0-1.04.2-1.43.59L10.3 9.45l-7.72 7.72c-.78.78-.78 2.05 0 2.83L4 21.41c.39.39.9.59 1.41.59.51 0 1.02-.2 1.41-.59l7.78-7.78 2.81-2.81c.8-.78.8-2.07 0-2.86zM5.41 20L4 18.59l7.72-7.72 1.47 1.35L5.41 20z\"/>\n",
              "  </svg>\n",
              "      </button>\n",
              "      \n",
              "  <style>\n",
              "    .colab-df-container {\n",
              "      display:flex;\n",
              "      flex-wrap:wrap;\n",
              "      gap: 12px;\n",
              "    }\n",
              "\n",
              "    .colab-df-convert {\n",
              "      background-color: #E8F0FE;\n",
              "      border: none;\n",
              "      border-radius: 50%;\n",
              "      cursor: pointer;\n",
              "      display: none;\n",
              "      fill: #1967D2;\n",
              "      height: 32px;\n",
              "      padding: 0 0 0 0;\n",
              "      width: 32px;\n",
              "    }\n",
              "\n",
              "    .colab-df-convert:hover {\n",
              "      background-color: #E2EBFA;\n",
              "      box-shadow: 0px 1px 2px rgba(60, 64, 67, 0.3), 0px 1px 3px 1px rgba(60, 64, 67, 0.15);\n",
              "      fill: #174EA6;\n",
              "    }\n",
              "\n",
              "    [theme=dark] .colab-df-convert {\n",
              "      background-color: #3B4455;\n",
              "      fill: #D2E3FC;\n",
              "    }\n",
              "\n",
              "    [theme=dark] .colab-df-convert:hover {\n",
              "      background-color: #434B5C;\n",
              "      box-shadow: 0px 1px 3px 1px rgba(0, 0, 0, 0.15);\n",
              "      filter: drop-shadow(0px 1px 2px rgba(0, 0, 0, 0.3));\n",
              "      fill: #FFFFFF;\n",
              "    }\n",
              "  </style>\n",
              "\n",
              "      <script>\n",
              "        const buttonEl =\n",
              "          document.querySelector('#df-7d0c8ca3-5250-4ced-b8f7-b1d273e2ec29 button.colab-df-convert');\n",
              "        buttonEl.style.display =\n",
              "          google.colab.kernel.accessAllowed ? 'block' : 'none';\n",
              "\n",
              "        async function convertToInteractive(key) {\n",
              "          const element = document.querySelector('#df-7d0c8ca3-5250-4ced-b8f7-b1d273e2ec29');\n",
              "          const dataTable =\n",
              "            await google.colab.kernel.invokeFunction('convertToInteractive',\n",
              "                                                     [key], {});\n",
              "          if (!dataTable) return;\n",
              "\n",
              "          const docLinkHtml = 'Like what you see? Visit the ' +\n",
              "            '<a target=\"_blank\" href=https://colab.research.google.com/notebooks/data_table.ipynb>data table notebook</a>'\n",
              "            + ' to learn more about interactive tables.';\n",
              "          element.innerHTML = '';\n",
              "          dataTable['output_type'] = 'display_data';\n",
              "          await google.colab.output.renderOutput(dataTable, element);\n",
              "          const docLink = document.createElement('div');\n",
              "          docLink.innerHTML = docLinkHtml;\n",
              "          element.appendChild(docLink);\n",
              "        }\n",
              "      </script>\n",
              "    </div>\n",
              "  </div>\n",
              "  "
            ]
          },
          "metadata": {},
          "execution_count": 79
        }
      ]
    },
    {
      "cell_type": "code",
      "source": [
        "x = df_ReincidenciaSex.Sexo\n",
        "y = df_ReincidenciaSex.Edad\n",
        "fig, ax = plt.subplots()\n",
        "ax.stem(x, y)\n",
        "ax.set_title('Reiterante')\n",
        "ax.set_ylabel('Edad')\n",
        "ax.set_xlabel('Sexo')"
      ],
      "metadata": {
        "colab": {
          "base_uri": "https://localhost:8080/",
          "height": 402
        },
        "id": "JMBKnB8EwzWS",
        "outputId": "d30484d8-19e6-4d7c-8d90-4357cf5d7414"
      },
      "execution_count": null,
      "outputs": [
        {
          "output_type": "stream",
          "name": "stderr",
          "text": [
            "/usr/local/lib/python3.7/dist-packages/ipykernel_launcher.py:4: UserWarning:\n",
            "\n",
            "In Matplotlib 3.3 individual lines on a stem plot will be added as a LineCollection instead of individual lines. This significantly improves the performance of a stem plot. To remove this warning and switch to the new behaviour, set the \"use_line_collection\" keyword argument to True.\n",
            "\n"
          ]
        },
        {
          "output_type": "execute_result",
          "data": {
            "text/plain": [
              "Text(0.5, 0, 'Sexo')"
            ]
          },
          "metadata": {},
          "execution_count": 80
        },
        {
          "output_type": "display_data",
          "data": {
            "text/plain": [
              "<Figure size 432x288 with 1 Axes>"
            ],
            "image/png": "[encoded data removed]"
          },
          "metadata": {}
        }
      ]
    },
    {
      "cell_type": "code",
      "source": [
        "df_PrimariaSex = Primario.groupby('Sexo')['EdadCenso'].mean().reset_index(name='Edad')\n",
        "df_PrimariaSex"
      ],
      "metadata": {
        "colab": {
          "base_uri": "https://localhost:8080/",
          "height": 175
        },
        "id": "-dIWcBeTutwg",
        "outputId": "0d10b419-58ff-4493-e1f3-dadeeda14467"
      },
      "execution_count": null,
      "outputs": [
        {
          "output_type": "execute_result",
          "data": {
            "text/plain": [
              "          Sexo       Edad\n",
              "0        Mujer  35.860337\n",
              "1  Trans Mujer  33.343137\n",
              "2  Trans Varón  33.818182\n",
              "3        Varón  34.431833"
            ],
            "text/html": [
              "\n",
              "  <div id=\"df-de1b54a6-56fc-4260-ae7a-c61f8e42bda9\">\n",
              "    <div class=\"colab-df-container\">\n",
              "      <div>\n",
              "<style scoped>\n",
              "    .dataframe tbody tr th:only-of-type {\n",
              "        vertical-align: middle;\n",
              "    }\n",
              "\n",
              "    .dataframe tbody tr th {\n",
              "        vertical-align: top;\n",
              "    }\n",
              "\n",
              "    .dataframe thead th {\n",
              "        text-align: right;\n",
              "    }\n",
              "</style>\n",
              "<table border=\"1\" class=\"dataframe\">\n",
              "  <thead>\n",
              "    <tr style=\"text-align: right;\">\n",
              "      <th></th>\n",
              "      <th>Sexo</th>\n",
              "      <th>Edad</th>\n",
              "    </tr>\n",
              "  </thead>\n",
              "  <tbody>\n",
              "    <tr>\n",
              "      <th>0</th>\n",
              "      <td>Mujer</td>\n",
              "      <td>35.860337</td>\n",
              "    </tr>\n",
              "    <tr>\n",
              "      <th>1</th>\n",
              "      <td>Trans Mujer</td>\n",
              "      <td>33.343137</td>\n",
              "    </tr>\n",
              "    <tr>\n",
              "      <th>2</th>\n",
              "      <td>Trans Varón</td>\n",
              "      <td>33.818182</td>\n",
              "    </tr>\n",
              "    <tr>\n",
              "      <th>3</th>\n",
              "      <td>Varón</td>\n",
              "      <td>34.431833</td>\n",
              "    </tr>\n",
              "  </tbody>\n",
              "</table>\n",
              "</div>\n",
              "      <button class=\"colab-df-convert\" onclick=\"convertToInteractive('df-de1b54a6-56fc-4260-ae7a-c61f8e42bda9')\"\n",
              "              title=\"Convert this dataframe to an interactive table.\"\n",
              "              style=\"display:none;\">\n",
              "        \n",
              "  <svg xmlns=\"http://www.w3.org/2000/svg\" height=\"24px\"viewBox=\"0 0 24 24\"\n",
              "       width=\"24px\">\n",
              "    <path d=\"M0 0h24v24H0V0z\" fill=\"none\"/>\n",
              "    <path d=\"M18.56 5.44l.94 2.06.94-2.06 2.06-.94-2.06-.94-.94-2.06-.94 2.06-2.06.94zm-11 1L8.5 8.5l.94-2.06 2.06-.94-2.06-.94L8.5 2.5l-.94 2.06-2.06.94zm10 10l.94 2.06.94-2.06 2.06-.94-2.06-.94-.94-2.06-.94 2.06-2.06.94z\"/><path d=\"M17.41 7.96l-1.37-1.37c-.4-.4-.92-.59-1.43-.59-.52 0-1.04.2-1.43.59L10.3 9.45l-7.72 7.72c-.78.78-.78 2.05 0 2.83L4 21.41c.39.39.9.59 1.41.59.51 0 1.02-.2 1.41-.59l7.78-7.78 2.81-2.81c.8-.78.8-2.07 0-2.86zM5.41 20L4 18.59l7.72-7.72 1.47 1.35L5.41 20z\"/>\n",
              "  </svg>\n",
              "      </button>\n",
              "      \n",
              "  <style>\n",
              "    .colab-df-container {\n",
              "      display:flex;\n",
              "      flex-wrap:wrap;\n",
              "      gap: 12px;\n",
              "    }\n",
              "\n",
              "    .colab-df-convert {\n",
              "      background-color: #E8F0FE;\n",
              "      border: none;\n",
              "      border-radius: 50%;\n",
              "      cursor: pointer;\n",
              "      display: none;\n",
              "      fill: #1967D2;\n",
              "      height: 32px;\n",
              "      padding: 0 0 0 0;\n",
              "      width: 32px;\n",
              "    }\n",
              "\n",
              "    .colab-df-convert:hover {\n",
              "      background-color: #E2EBFA;\n",
              "      box-shadow: 0px 1px 2px rgba(60, 64, 67, 0.3), 0px 1px 3px 1px rgba(60, 64, 67, 0.15);\n",
              "      fill: #174EA6;\n",
              "    }\n",
              "\n",
              "    [theme=dark] .colab-df-convert {\n",
              "      background-color: #3B4455;\n",
              "      fill: #D2E3FC;\n",
              "    }\n",
              "\n",
              "    [theme=dark] .colab-df-convert:hover {\n",
              "      background-color: #434B5C;\n",
              "      box-shadow: 0px 1px 3px 1px rgba(0, 0, 0, 0.15);\n",
              "      filter: drop-shadow(0px 1px 2px rgba(0, 0, 0, 0.3));\n",
              "      fill: #FFFFFF;\n",
              "    }\n",
              "  </style>\n",
              "\n",
              "      <script>\n",
              "        const buttonEl =\n",
              "          document.querySelector('#df-de1b54a6-56fc-4260-ae7a-c61f8e42bda9 button.colab-df-convert');\n",
              "        buttonEl.style.display =\n",
              "          google.colab.kernel.accessAllowed ? 'block' : 'none';\n",
              "\n",
              "        async function convertToInteractive(key) {\n",
              "          const element = document.querySelector('#df-de1b54a6-56fc-4260-ae7a-c61f8e42bda9');\n",
              "          const dataTable =\n",
              "            await google.colab.kernel.invokeFunction('convertToInteractive',\n",
              "                                                     [key], {});\n",
              "          if (!dataTable) return;\n",
              "\n",
              "          const docLinkHtml = 'Like what you see? Visit the ' +\n",
              "            '<a target=\"_blank\" href=https://colab.research.google.com/notebooks/data_table.ipynb>data table notebook</a>'\n",
              "            + ' to learn more about interactive tables.';\n",
              "          element.innerHTML = '';\n",
              "          dataTable['output_type'] = 'display_data';\n",
              "          await google.colab.output.renderOutput(dataTable, element);\n",
              "          const docLink = document.createElement('div');\n",
              "          docLink.innerHTML = docLinkHtml;\n",
              "          element.appendChild(docLink);\n",
              "        }\n",
              "      </script>\n",
              "    </div>\n",
              "  </div>\n",
              "  "
            ]
          },
          "metadata": {},
          "execution_count": 81
        }
      ]
    },
    {
      "cell_type": "code",
      "source": [
        "x = df_PrimariaSex.Sexo\n",
        "y = df_PrimariaSex.Edad\n",
        "fig, ax = plt.subplots()\n",
        "ax.stem(x, y)\n",
        "ax.set_title('Primario/a')\n",
        "ax.set_ylabel('Edad')\n",
        "ax.set_xlabel('Sexo')"
      ],
      "metadata": {
        "colab": {
          "base_uri": "https://localhost:8080/",
          "height": 402
        },
        "id": "eyCcp39zxEqU",
        "outputId": "3d011b15-c2de-465f-9fae-4dcf307e0ac4"
      },
      "execution_count": null,
      "outputs": [
        {
          "output_type": "stream",
          "name": "stderr",
          "text": [
            "/usr/local/lib/python3.7/dist-packages/ipykernel_launcher.py:4: UserWarning:\n",
            "\n",
            "In Matplotlib 3.3 individual lines on a stem plot will be added as a LineCollection instead of individual lines. This significantly improves the performance of a stem plot. To remove this warning and switch to the new behaviour, set the \"use_line_collection\" keyword argument to True.\n",
            "\n"
          ]
        },
        {
          "output_type": "execute_result",
          "data": {
            "text/plain": [
              "Text(0.5, 0, 'Sexo')"
            ]
          },
          "metadata": {},
          "execution_count": 82
        },
        {
          "output_type": "display_data",
          "data": {
            "text/plain": [
              "<Figure size 432x288 with 1 Axes>"
            ],
            "image/png": "[encoded data removed]"
          },
          "metadata": {}
        }
      ]
    },
    {
      "cell_type": "markdown",
      "source": [
        "Indistintamente del genero de los detenidos, tanto para aquellos que cometen un primer delito o son reincidentes la edad promedio ronda entre los 34-35 años, "
      ],
      "metadata": {
        "id": "Y9rYjs0Q0Yi0"
      }
    },
    {
      "cell_type": "markdown",
      "source": [
        "#Evaluacion por estado civil"
      ],
      "metadata": {
        "id": "1Qzug_CG1Bwp"
      }
    },
    {
      "cell_type": "code",
      "execution_count": null,
      "metadata": {
        "colab": {
          "base_uri": "https://localhost:8080/",
          "height": 269
        },
        "id": "8FbeIJCp0Y0q",
        "outputId": "3c60d498-68b2-43a6-81eb-df1896ef1cf7"
      },
      "outputs": [
        {
          "output_type": "execute_result",
          "data": {
            "text/plain": [
              "  Es_Reincidente               Estado_Civil  Cantidad\n",
              "0     Reiterante                  Soltero/a     10611\n",
              "1     Reiterante                Conviviente      1526\n",
              "2     Reiterante                   Casado/a       862\n",
              "3     Reiterante                Desconocido       247\n",
              "4     Reiterante  Separado/a o divorciado/a       127\n",
              "5     Reiterante                    Viudo/a        74\n",
              "6     Reiterante        Separado/a de hecho        61"
            ],
            "text/html": [
              "\n",
              "  <div id=\"df-2ee6617c-c620-4bff-ae7e-ee3a011c2e39\">\n",
              "    <div class=\"colab-df-container\">\n",
              "      <div>\n",
              "<style scoped>\n",
              "    .dataframe tbody tr th:only-of-type {\n",
              "        vertical-align: middle;\n",
              "    }\n",
              "\n",
              "    .dataframe tbody tr th {\n",
              "        vertical-align: top;\n",
              "    }\n",
              "\n",
              "    .dataframe thead th {\n",
              "        text-align: right;\n",
              "    }\n",
              "</style>\n",
              "<table border=\"1\" class=\"dataframe\">\n",
              "  <thead>\n",
              "    <tr style=\"text-align: right;\">\n",
              "      <th></th>\n",
              "      <th>Es_Reincidente</th>\n",
              "      <th>Estado_Civil</th>\n",
              "      <th>Cantidad</th>\n",
              "    </tr>\n",
              "  </thead>\n",
              "  <tbody>\n",
              "    <tr>\n",
              "      <th>0</th>\n",
              "      <td>Reiterante</td>\n",
              "      <td>Soltero/a</td>\n",
              "      <td>10611</td>\n",
              "    </tr>\n",
              "    <tr>\n",
              "      <th>1</th>\n",
              "      <td>Reiterante</td>\n",
              "      <td>Conviviente</td>\n",
              "      <td>1526</td>\n",
              "    </tr>\n",
              "    <tr>\n",
              "      <th>2</th>\n",
              "      <td>Reiterante</td>\n",
              "      <td>Casado/a</td>\n",
              "      <td>862</td>\n",
              "    </tr>\n",
              "    <tr>\n",
              "      <th>3</th>\n",
              "      <td>Reiterante</td>\n",
              "      <td>Desconocido</td>\n",
              "      <td>247</td>\n",
              "    </tr>\n",
              "    <tr>\n",
              "      <th>4</th>\n",
              "      <td>Reiterante</td>\n",
              "      <td>Separado/a o divorciado/a</td>\n",
              "      <td>127</td>\n",
              "    </tr>\n",
              "    <tr>\n",
              "      <th>5</th>\n",
              "      <td>Reiterante</td>\n",
              "      <td>Viudo/a</td>\n",
              "      <td>74</td>\n",
              "    </tr>\n",
              "    <tr>\n",
              "      <th>6</th>\n",
              "      <td>Reiterante</td>\n",
              "      <td>Separado/a de hecho</td>\n",
              "      <td>61</td>\n",
              "    </tr>\n",
              "  </tbody>\n",
              "</table>\n",
              "</div>\n",
              "      <button class=\"colab-df-convert\" onclick=\"convertToInteractive('df-2ee6617c-c620-4bff-ae7e-ee3a011c2e39')\"\n",
              "              title=\"Convert this dataframe to an interactive table.\"\n",
              "              style=\"display:none;\">\n",
              "        \n",
              "  <svg xmlns=\"http://www.w3.org/2000/svg\" height=\"24px\"viewBox=\"0 0 24 24\"\n",
              "       width=\"24px\">\n",
              "    <path d=\"M0 0h24v24H0V0z\" fill=\"none\"/>\n",
              "    <path d=\"M18.56 5.44l.94 2.06.94-2.06 2.06-.94-2.06-.94-.94-2.06-.94 2.06-2.06.94zm-11 1L8.5 8.5l.94-2.06 2.06-.94-2.06-.94L8.5 2.5l-.94 2.06-2.06.94zm10 10l.94 2.06.94-2.06 2.06-.94-2.06-.94-.94-2.06-.94 2.06-2.06.94z\"/><path d=\"M17.41 7.96l-1.37-1.37c-.4-.4-.92-.59-1.43-.59-.52 0-1.04.2-1.43.59L10.3 9.45l-7.72 7.72c-.78.78-.78 2.05 0 2.83L4 21.41c.39.39.9.59 1.41.59.51 0 1.02-.2 1.41-.59l7.78-7.78 2.81-2.81c.8-.78.8-2.07 0-2.86zM5.41 20L4 18.59l7.72-7.72 1.47 1.35L5.41 20z\"/>\n",
              "  </svg>\n",
              "      </button>\n",
              "      \n",
              "  <style>\n",
              "    .colab-df-container {\n",
              "      display:flex;\n",
              "      flex-wrap:wrap;\n",
              "      gap: 12px;\n",
              "    }\n",
              "\n",
              "    .colab-df-convert {\n",
              "      background-color: #E8F0FE;\n",
              "      border: none;\n",
              "      border-radius: 50%;\n",
              "      cursor: pointer;\n",
              "      display: none;\n",
              "      fill: #1967D2;\n",
              "      height: 32px;\n",
              "      padding: 0 0 0 0;\n",
              "      width: 32px;\n",
              "    }\n",
              "\n",
              "    .colab-df-convert:hover {\n",
              "      background-color: #E2EBFA;\n",
              "      box-shadow: 0px 1px 2px rgba(60, 64, 67, 0.3), 0px 1px 3px 1px rgba(60, 64, 67, 0.15);\n",
              "      fill: #174EA6;\n",
              "    }\n",
              "\n",
              "    [theme=dark] .colab-df-convert {\n",
              "      background-color: #3B4455;\n",
              "      fill: #D2E3FC;\n",
              "    }\n",
              "\n",
              "    [theme=dark] .colab-df-convert:hover {\n",
              "      background-color: #434B5C;\n",
              "      box-shadow: 0px 1px 3px 1px rgba(0, 0, 0, 0.15);\n",
              "      filter: drop-shadow(0px 1px 2px rgba(0, 0, 0, 0.3));\n",
              "      fill: #FFFFFF;\n",
              "    }\n",
              "  </style>\n",
              "\n",
              "      <script>\n",
              "        const buttonEl =\n",
              "          document.querySelector('#df-2ee6617c-c620-4bff-ae7e-ee3a011c2e39 button.colab-df-convert');\n",
              "        buttonEl.style.display =\n",
              "          google.colab.kernel.accessAllowed ? 'block' : 'none';\n",
              "\n",
              "        async function convertToInteractive(key) {\n",
              "          const element = document.querySelector('#df-2ee6617c-c620-4bff-ae7e-ee3a011c2e39');\n",
              "          const dataTable =\n",
              "            await google.colab.kernel.invokeFunction('convertToInteractive',\n",
              "                                                     [key], {});\n",
              "          if (!dataTable) return;\n",
              "\n",
              "          const docLinkHtml = 'Like what you see? Visit the ' +\n",
              "            '<a target=\"_blank\" href=https://colab.research.google.com/notebooks/data_table.ipynb>data table notebook</a>'\n",
              "            + ' to learn more about interactive tables.';\n",
              "          element.innerHTML = '';\n",
              "          dataTable['output_type'] = 'display_data';\n",
              "          await google.colab.output.renderOutput(dataTable, element);\n",
              "          const docLink = document.createElement('div');\n",
              "          docLink.innerHTML = docLinkHtml;\n",
              "          element.appendChild(docLink);\n",
              "        }\n",
              "      </script>\n",
              "    </div>\n",
              "  </div>\n",
              "  "
            ]
          },
          "metadata": {},
          "execution_count": 83
        }
      ],
      "source": [
        "df_Est = Reiterante.groupby('Es_Reincidente')['Estado_Civil'].value_counts().reset_index(name='Cantidad')\n",
        "df_Est"
      ]
    },
    {
      "cell_type": "code",
      "source": [
        "df_Est1 = Primario.groupby('Es_Reincidente')['Estado_Civil'].value_counts().reset_index(name='Cantidad')\n",
        "df_Est1"
      ],
      "metadata": {
        "colab": {
          "base_uri": "https://localhost:8080/",
          "height": 269
        },
        "id": "Sq-F6Jfg0Y0r",
        "outputId": "729363b1-baea-44a7-be70-ec98369bd235"
      },
      "execution_count": null,
      "outputs": [
        {
          "output_type": "execute_result",
          "data": {
            "text/plain": [
              "  Es_Reincidente               Estado_Civil  Cantidad\n",
              "0     Primario/a                  Soltero/a     63810\n",
              "1     Primario/a                   Casado/a      6835\n",
              "2     Primario/a                Conviviente      6455\n",
              "3     Primario/a                Desconocido      1925\n",
              "4     Primario/a  Separado/a o divorciado/a      1436\n",
              "5     Primario/a                    Viudo/a       697\n",
              "6     Primario/a        Separado/a de hecho       278"
            ],
            "text/html": [
              "\n",
              "  <div id=\"df-b4009995-d5bc-4412-beb2-caf9a5d9669e\">\n",
              "    <div class=\"colab-df-container\">\n",
              "      <div>\n",
              "<style scoped>\n",
              "    .dataframe tbody tr th:only-of-type {\n",
              "        vertical-align: middle;\n",
              "    }\n",
              "\n",
              "    .dataframe tbody tr th {\n",
              "        vertical-align: top;\n",
              "    }\n",
              "\n",
              "    .dataframe thead th {\n",
              "        text-align: right;\n",
              "    }\n",
              "</style>\n",
              "<table border=\"1\" class=\"dataframe\">\n",
              "  <thead>\n",
              "    <tr style=\"text-align: right;\">\n",
              "      <th></th>\n",
              "      <th>Es_Reincidente</th>\n",
              "      <th>Estado_Civil</th>\n",
              "      <th>Cantidad</th>\n",
              "    </tr>\n",
              "  </thead>\n",
              "  <tbody>\n",
              "    <tr>\n",
              "      <th>0</th>\n",
              "      <td>Primario/a</td>\n",
              "      <td>Soltero/a</td>\n",
              "      <td>63810</td>\n",
              "    </tr>\n",
              "    <tr>\n",
              "      <th>1</th>\n",
              "      <td>Primario/a</td>\n",
              "      <td>Casado/a</td>\n",
              "      <td>6835</td>\n",
              "    </tr>\n",
              "    <tr>\n",
              "      <th>2</th>\n",
              "      <td>Primario/a</td>\n",
              "      <td>Conviviente</td>\n",
              "      <td>6455</td>\n",
              "    </tr>\n",
              "    <tr>\n",
              "      <th>3</th>\n",
              "      <td>Primario/a</td>\n",
              "      <td>Desconocido</td>\n",
              "      <td>1925</td>\n",
              "    </tr>\n",
              "    <tr>\n",
              "      <th>4</th>\n",
              "      <td>Primario/a</td>\n",
              "      <td>Separado/a o divorciado/a</td>\n",
              "      <td>1436</td>\n",
              "    </tr>\n",
              "    <tr>\n",
              "      <th>5</th>\n",
              "      <td>Primario/a</td>\n",
              "      <td>Viudo/a</td>\n",
              "      <td>697</td>\n",
              "    </tr>\n",
              "    <tr>\n",
              "      <th>6</th>\n",
              "      <td>Primario/a</td>\n",
              "      <td>Separado/a de hecho</td>\n",
              "      <td>278</td>\n",
              "    </tr>\n",
              "  </tbody>\n",
              "</table>\n",
              "</div>\n",
              "      <button class=\"colab-df-convert\" onclick=\"convertToInteractive('df-b4009995-d5bc-4412-beb2-caf9a5d9669e')\"\n",
              "              title=\"Convert this dataframe to an interactive table.\"\n",
              "              style=\"display:none;\">\n",
              "        \n",
              "  <svg xmlns=\"http://www.w3.org/2000/svg\" height=\"24px\"viewBox=\"0 0 24 24\"\n",
              "       width=\"24px\">\n",
              "    <path d=\"M0 0h24v24H0V0z\" fill=\"none\"/>\n",
              "    <path d=\"M18.56 5.44l.94 2.06.94-2.06 2.06-.94-2.06-.94-.94-2.06-.94 2.06-2.06.94zm-11 1L8.5 8.5l.94-2.06 2.06-.94-2.06-.94L8.5 2.5l-.94 2.06-2.06.94zm10 10l.94 2.06.94-2.06 2.06-.94-2.06-.94-.94-2.06-.94 2.06-2.06.94z\"/><path d=\"M17.41 7.96l-1.37-1.37c-.4-.4-.92-.59-1.43-.59-.52 0-1.04.2-1.43.59L10.3 9.45l-7.72 7.72c-.78.78-.78 2.05 0 2.83L4 21.41c.39.39.9.59 1.41.59.51 0 1.02-.2 1.41-.59l7.78-7.78 2.81-2.81c.8-.78.8-2.07 0-2.86zM5.41 20L4 18.59l7.72-7.72 1.47 1.35L5.41 20z\"/>\n",
              "  </svg>\n",
              "      </button>\n",
              "      \n",
              "  <style>\n",
              "    .colab-df-container {\n",
              "      display:flex;\n",
              "      flex-wrap:wrap;\n",
              "      gap: 12px;\n",
              "    }\n",
              "\n",
              "    .colab-df-convert {\n",
              "      background-color: #E8F0FE;\n",
              "      border: none;\n",
              "      border-radius: 50%;\n",
              "      cursor: pointer;\n",
              "      display: none;\n",
              "      fill: #1967D2;\n",
              "      height: 32px;\n",
              "      padding: 0 0 0 0;\n",
              "      width: 32px;\n",
              "    }\n",
              "\n",
              "    .colab-df-convert:hover {\n",
              "      background-color: #E2EBFA;\n",
              "      box-shadow: 0px 1px 2px rgba(60, 64, 67, 0.3), 0px 1px 3px 1px rgba(60, 64, 67, 0.15);\n",
              "      fill: #174EA6;\n",
              "    }\n",
              "\n",
              "    [theme=dark] .colab-df-convert {\n",
              "      background-color: #3B4455;\n",
              "      fill: #D2E3FC;\n",
              "    }\n",
              "\n",
              "    [theme=dark] .colab-df-convert:hover {\n",
              "      background-color: #434B5C;\n",
              "      box-shadow: 0px 1px 3px 1px rgba(0, 0, 0, 0.15);\n",
              "      filter: drop-shadow(0px 1px 2px rgba(0, 0, 0, 0.3));\n",
              "      fill: #FFFFFF;\n",
              "    }\n",
              "  </style>\n",
              "\n",
              "      <script>\n",
              "        const buttonEl =\n",
              "          document.querySelector('#df-b4009995-d5bc-4412-beb2-caf9a5d9669e button.colab-df-convert');\n",
              "        buttonEl.style.display =\n",
              "          google.colab.kernel.accessAllowed ? 'block' : 'none';\n",
              "\n",
              "        async function convertToInteractive(key) {\n",
              "          const element = document.querySelector('#df-b4009995-d5bc-4412-beb2-caf9a5d9669e');\n",
              "          const dataTable =\n",
              "            await google.colab.kernel.invokeFunction('convertToInteractive',\n",
              "                                                     [key], {});\n",
              "          if (!dataTable) return;\n",
              "\n",
              "          const docLinkHtml = 'Like what you see? Visit the ' +\n",
              "            '<a target=\"_blank\" href=https://colab.research.google.com/notebooks/data_table.ipynb>data table notebook</a>'\n",
              "            + ' to learn more about interactive tables.';\n",
              "          element.innerHTML = '';\n",
              "          dataTable['output_type'] = 'display_data';\n",
              "          await google.colab.output.renderOutput(dataTable, element);\n",
              "          const docLink = document.createElement('div');\n",
              "          docLink.innerHTML = docLinkHtml;\n",
              "          element.appendChild(docLink);\n",
              "        }\n",
              "      </script>\n",
              "    </div>\n",
              "  </div>\n",
              "  "
            ]
          },
          "metadata": {},
          "execution_count": 84
        }
      ]
    },
    {
      "cell_type": "code",
      "source": [
        "totales_estcivPr = df_Est1[\"Cantidad\"].value_counts().tolist()\n",
        "totales_vid_Pr = (df_Est1[\"Cantidad\"].value_counts()/df.shape[0]).tolist()"
      ],
      "metadata": {
        "id": "6hkFkmA9WZif"
      },
      "execution_count": null,
      "outputs": []
    },
    {
      "cell_type": "code",
      "source": [
        "import plotly.express as px\n",
        "fig = px.pie(values = [63810, 6835, 6455,1925, 1436, 697, 278],\n",
        "             names = ['Soltero/a', 'Casado/a', 'Conviviente', 'Desconocido', 'Separado/a o divorciado/a', 'Viudo/a', 'Separado/a de hecho'],\n",
        "             title = 'Estado Civil')\n",
        "\n",
        "fig.show()"
      ],
      "metadata": {
        "colab": {
          "base_uri": "https://localhost:8080/",
          "height": 542
        },
        "id": "rUGaAyLkcIZ6",
        "outputId": "d8831111-7313-452a-8283-bb5994737096"
      },
      "execution_count": null,
      "outputs": [
        {
          "output_type": "display_data",
          "data": {
            "text/html": [
              "<html>\n",
              "<head><meta charset=\"utf-8\" /></head>\n",
              "<body>\n",
              "    <div>            <script src=\"https://cdnjs.cloudflare.com/ajax/libs/mathjax/2.7.5/MathJax.js?config=TeX-AMS-MML_SVG\"></script><script type=\"text/javascript\">if (window.MathJax) {MathJax.Hub.Config({SVG: {font: \"STIX-Web\"}});}</script>                <script type=\"text/javascript\">window.PlotlyConfig = {MathJaxConfig: 'local'};</script>\n",
              "        <script src=\"https://cdn.plot.ly/plotly-2.8.3.min.js\"></script>                <div id=\"8f28b24a-04f0-4d6d-8706-bc1b243b0015\" class=\"plotly-graph-div\" style=\"height:525px; width:100%;\"></div>            <script type=\"text/javascript\">                                    window.PLOTLYENV=window.PLOTLYENV || {};                                    if (document.getElementById(\"8f28b24a-04f0-4d6d-8706-bc1b243b0015\")) {                    Plotly.newPlot(                        \"8f28b24a-04f0-4d6d-8706-bc1b243b0015\",                        [{\"domain\":{\"x\":[0.0,1.0],\"y\":[0.0,1.0]},\"hovertemplate\":\"label=%{label}<br>value=%{value}<extra></extra>\",\"labels\":[\"Soltero/a\",\"Casado/a\",\"Conviviente\",\"Desconocido\",\"Separado/a o divorciado/a\",\"Viudo/a\",\"Separado/a de hecho\"],\"legendgroup\":\"\",\"name\":\"\",\"showlegend\":true,\"values\":[63810,6835,6455,1925,1436,697,278],\"type\":\"pie\"}],                        {\"template\":{\"data\":{\"bar\":[{\"error_x\":{\"color\":\"#2a3f5f\"},\"error_y\":{\"color\":\"#2a3f5f\"},\"marker\":{\"line\":{\"color\":\"#E5ECF6\",\"width\":0.5},\"pattern\":{\"fillmode\":\"overlay\",\"size\":10,\"solidity\":0.2}},\"type\":\"bar\"}],\"barpolar\":[{\"marker\":{\"line\":{\"color\":\"#E5ECF6\",\"width\":0.5},\"pattern\":{\"fillmode\":\"overlay\",\"size\":10,\"solidity\":0.2}},\"type\":\"barpolar\"}],\"carpet\":[{\"aaxis\":{\"endlinecolor\":\"#2a3f5f\",\"gridcolor\":\"white\",\"linecolor\":\"white\",\"minorgridcolor\":\"white\",\"startlinecolor\":\"#2a3f5f\"},\"baxis\":{\"endlinecolor\":\"#2a3f5f\",\"gridcolor\":\"white\",\"linecolor\":\"white\",\"minorgridcolor\":\"white\",\"startlinecolor\":\"#2a3f5f\"},\"type\":\"carpet\"}],\"choropleth\":[{\"colorbar\":{\"outlinewidth\":0,\"ticks\":\"\"},\"type\":\"choropleth\"}],\"contour\":[{\"colorbar\":{\"outlinewidth\":0,\"ticks\":\"\"},\"colorscale\":[[0.0,\"#0d0887\"],[0.1111111111111111,\"#46039f\"],[0.2222222222222222,\"#7201a8\"],[0.3333333333333333,\"#9c179e\"],[0.4444444444444444,\"#bd3786\"],[0.5555555555555556,\"#d8576b\"],[0.6666666666666666,\"#ed7953\"],[0.7777777777777778,\"#fb9f3a\"],[0.8888888888888888,\"#fdca26\"],[1.0,\"#f0f921\"]],\"type\":\"contour\"}],\"contourcarpet\":[{\"colorbar\":{\"outlinewidth\":0,\"ticks\":\"\"},\"type\":\"contourcarpet\"}],\"heatmap\":[{\"colorbar\":{\"outlinewidth\":0,\"ticks\":\"\"},\"colorscale\":[[0.0,\"#0d0887\"],[0.1111111111111111,\"#46039f\"],[0.2222222222222222,\"#7201a8\"],[0.3333333333333333,\"#9c179e\"],[0.4444444444444444,\"#bd3786\"],[0.5555555555555556,\"#d8576b\"],[0.6666666666666666,\"#ed7953\"],[0.7777777777777778,\"#fb9f3a\"],[0.8888888888888888,\"#fdca26\"],[1.0,\"#f0f921\"]],\"type\":\"heatmap\"}],\"heatmapgl\":[{\"colorbar\":{\"outlinewidth\":0,\"ticks\":\"\"},\"colorscale\":[[0.0,\"#0d0887\"],[0.1111111111111111,\"#46039f\"],[0.2222222222222222,\"#7201a8\"],[0.3333333333333333,\"#9c179e\"],[0.4444444444444444,\"#bd3786\"],[0.5555555555555556,\"#d8576b\"],[0.6666666666666666,\"#ed7953\"],[0.7777777777777778,\"#fb9f3a\"],[0.8888888888888888,\"#fdca26\"],[1.0,\"#f0f921\"]],\"type\":\"heatmapgl\"}],\"histogram\":[{\"marker\":{\"pattern\":{\"fillmode\":\"overlay\",\"size\":10,\"solidity\":0.2}},\"type\":\"histogram\"}],\"histogram2d\":[{\"colorbar\":{\"outlinewidth\":0,\"ticks\":\"\"},\"colorscale\":[[0.0,\"#0d0887\"],[0.1111111111111111,\"#46039f\"],[0.2222222222222222,\"#7201a8\"],[0.3333333333333333,\"#9c179e\"],[0.4444444444444444,\"#bd3786\"],[0.5555555555555556,\"#d8576b\"],[0.6666666666666666,\"#ed7953\"],[0.7777777777777778,\"#fb9f3a\"],[0.8888888888888888,\"#fdca26\"],[1.0,\"#f0f921\"]],\"type\":\"histogram2d\"}],\"histogram2dcontour\":[{\"colorbar\":{\"outlinewidth\":0,\"ticks\":\"\"},\"colorscale\":[[0.0,\"#0d0887\"],[0.1111111111111111,\"#46039f\"],[0.2222222222222222,\"#7201a8\"],[0.3333333333333333,\"#9c179e\"],[0.4444444444444444,\"#bd3786\"],[0.5555555555555556,\"#d8576b\"],[0.6666666666666666,\"#ed7953\"],[0.7777777777777778,\"#fb9f3a\"],[0.8888888888888888,\"#fdca26\"],[1.0,\"#f0f921\"]],\"type\":\"histogram2dcontour\"}],\"mesh3d\":[{\"colorbar\":{\"outlinewidth\":0,\"ticks\":\"\"},\"type\":\"mesh3d\"}],\"parcoords\":[{\"line\":{\"colorbar\":{\"outlinewidth\":0,\"ticks\":\"\"}},\"type\":\"parcoords\"}],\"pie\":[{\"automargin\":true,\"type\":\"pie\"}],\"scatter\":[{\"marker\":{\"colorbar\":{\"outlinewidth\":0,\"ticks\":\"\"}},\"type\":\"scatter\"}],\"scatter3d\":[{\"line\":{\"colorbar\":{\"outlinewidth\":0,\"ticks\":\"\"}},\"marker\":{\"colorbar\":{\"outlinewidth\":0,\"ticks\":\"\"}},\"type\":\"scatter3d\"}],\"scattercarpet\":[{\"marker\":{\"colorbar\":{\"outlinewidth\":0,\"ticks\":\"\"}},\"type\":\"scattercarpet\"}],\"scattergeo\":[{\"marker\":{\"colorbar\":{\"outlinewidth\":0,\"ticks\":\"\"}},\"type\":\"scattergeo\"}],\"scattergl\":[{\"marker\":{\"colorbar\":{\"outlinewidth\":0,\"ticks\":\"\"}},\"type\":\"scattergl\"}],\"scattermapbox\":[{\"marker\":{\"colorbar\":{\"outlinewidth\":0,\"ticks\":\"\"}},\"type\":\"scattermapbox\"}],\"scatterpolar\":[{\"marker\":{\"colorbar\":{\"outlinewidth\":0,\"ticks\":\"\"}},\"type\":\"scatterpolar\"}],\"scatterpolargl\":[{\"marker\":{\"colorbar\":{\"outlinewidth\":0,\"ticks\":\"\"}},\"type\":\"scatterpolargl\"}],\"scatterternary\":[{\"marker\":{\"colorbar\":{\"outlinewidth\":0,\"ticks\":\"\"}},\"type\":\"scatterternary\"}],\"surface\":[{\"colorbar\":{\"outlinewidth\":0,\"ticks\":\"\"},\"colorscale\":[[0.0,\"#0d0887\"],[0.1111111111111111,\"#46039f\"],[0.2222222222222222,\"#7201a8\"],[0.3333333333333333,\"#9c179e\"],[0.4444444444444444,\"#bd3786\"],[0.5555555555555556,\"#d8576b\"],[0.6666666666666666,\"#ed7953\"],[0.7777777777777778,\"#fb9f3a\"],[0.8888888888888888,\"#fdca26\"],[1.0,\"#f0f921\"]],\"type\":\"surface\"}],\"table\":[{\"cells\":{\"fill\":{\"color\":\"#EBF0F8\"},\"line\":{\"color\":\"white\"}},\"header\":{\"fill\":{\"color\":\"#C8D4E3\"},\"line\":{\"color\":\"white\"}},\"type\":\"table\"}]},\"layout\":{\"annotationdefaults\":{\"arrowcolor\":\"#2a3f5f\",\"arrowhead\":0,\"arrowwidth\":1},\"autotypenumbers\":\"strict\",\"coloraxis\":{\"colorbar\":{\"outlinewidth\":0,\"ticks\":\"\"}},\"colorscale\":{\"diverging\":[[0,\"#8e0152\"],[0.1,\"#c51b7d\"],[0.2,\"#de77ae\"],[0.3,\"#f1b6da\"],[0.4,\"#fde0ef\"],[0.5,\"#f7f7f7\"],[0.6,\"#e6f5d0\"],[0.7,\"#b8e186\"],[0.8,\"#7fbc41\"],[0.9,\"#4d9221\"],[1,\"#276419\"]],\"sequential\":[[0.0,\"#0d0887\"],[0.1111111111111111,\"#46039f\"],[0.2222222222222222,\"#7201a8\"],[0.3333333333333333,\"#9c179e\"],[0.4444444444444444,\"#bd3786\"],[0.5555555555555556,\"#d8576b\"],[0.6666666666666666,\"#ed7953\"],[0.7777777777777778,\"#fb9f3a\"],[0.8888888888888888,\"#fdca26\"],[1.0,\"#f0f921\"]],\"sequentialminus\":[[0.0,\"#0d0887\"],[0.1111111111111111,\"#46039f\"],[0.2222222222222222,\"#7201a8\"],[0.3333333333333333,\"#9c179e\"],[0.4444444444444444,\"#bd3786\"],[0.5555555555555556,\"#d8576b\"],[0.6666666666666666,\"#ed7953\"],[0.7777777777777778,\"#fb9f3a\"],[0.8888888888888888,\"#fdca26\"],[1.0,\"#f0f921\"]]},\"colorway\":[\"#636efa\",\"#EF553B\",\"#00cc96\",\"#ab63fa\",\"#FFA15A\",\"#19d3f3\",\"#FF6692\",\"#B6E880\",\"#FF97FF\",\"#FECB52\"],\"font\":{\"color\":\"#2a3f5f\"},\"geo\":{\"bgcolor\":\"white\",\"lakecolor\":\"white\",\"landcolor\":\"#E5ECF6\",\"showlakes\":true,\"showland\":true,\"subunitcolor\":\"white\"},\"hoverlabel\":{\"align\":\"left\"},\"hovermode\":\"closest\",\"mapbox\":{\"style\":\"light\"},\"paper_bgcolor\":\"white\",\"plot_bgcolor\":\"#E5ECF6\",\"polar\":{\"angularaxis\":{\"gridcolor\":\"white\",\"linecolor\":\"white\",\"ticks\":\"\"},\"bgcolor\":\"#E5ECF6\",\"radialaxis\":{\"gridcolor\":\"white\",\"linecolor\":\"white\",\"ticks\":\"\"}},\"scene\":{\"xaxis\":{\"backgroundcolor\":\"#E5ECF6\",\"gridcolor\":\"white\",\"gridwidth\":2,\"linecolor\":\"white\",\"showbackground\":true,\"ticks\":\"\",\"zerolinecolor\":\"white\"},\"yaxis\":{\"backgroundcolor\":\"#E5ECF6\",\"gridcolor\":\"white\",\"gridwidth\":2,\"linecolor\":\"white\",\"showbackground\":true,\"ticks\":\"\",\"zerolinecolor\":\"white\"},\"zaxis\":{\"backgroundcolor\":\"#E5ECF6\",\"gridcolor\":\"white\",\"gridwidth\":2,\"linecolor\":\"white\",\"showbackground\":true,\"ticks\":\"\",\"zerolinecolor\":\"white\"}},\"shapedefaults\":{\"line\":{\"color\":\"#2a3f5f\"}},\"ternary\":{\"aaxis\":{\"gridcolor\":\"white\",\"linecolor\":\"white\",\"ticks\":\"\"},\"baxis\":{\"gridcolor\":\"white\",\"linecolor\":\"white\",\"ticks\":\"\"},\"bgcolor\":\"#E5ECF6\",\"caxis\":{\"gridcolor\":\"white\",\"linecolor\":\"white\",\"ticks\":\"\"}},\"title\":{\"x\":0.05},\"xaxis\":{\"automargin\":true,\"gridcolor\":\"white\",\"linecolor\":\"white\",\"ticks\":\"\",\"title\":{\"standoff\":15},\"zerolinecolor\":\"white\",\"zerolinewidth\":2},\"yaxis\":{\"automargin\":true,\"gridcolor\":\"white\",\"linecolor\":\"white\",\"ticks\":\"\",\"title\":{\"standoff\":15},\"zerolinecolor\":\"white\",\"zerolinewidth\":2}}},\"legend\":{\"tracegroupgap\":0},\"title\":{\"text\":\"Estado Civil\"}},                        {\"responsive\": true}                    ).then(function(){\n",
              "                            \n",
              "var gd = document.getElementById('8f28b24a-04f0-4d6d-8706-bc1b243b0015');\n",
              "var x = new MutationObserver(function (mutations, observer) {{\n",
              "        var display = window.getComputedStyle(gd).display;\n",
              "        if (!display || display === 'none') {{\n",
              "            console.log([gd, 'removed!']);\n",
              "            Plotly.purge(gd);\n",
              "            observer.disconnect();\n",
              "        }}\n",
              "}});\n",
              "\n",
              "// Listen for the removal of the full notebook cells\n",
              "var notebookContainer = gd.closest('#notebook-container');\n",
              "if (notebookContainer) {{\n",
              "    x.observe(notebookContainer, {childList: true});\n",
              "}}\n",
              "\n",
              "// Listen for the clearing of the current output cell\n",
              "var outputEl = gd.closest('.output');\n",
              "if (outputEl) {{\n",
              "    x.observe(outputEl, {childList: true});\n",
              "}}\n",
              "\n",
              "                        })                };                            </script>        </div>\n",
              "</body>\n",
              "</html>"
            ]
          },
          "metadata": {}
        }
      ]
    },
    {
      "cell_type": "code",
      "source": [
        "import plotly.express as px\n",
        "fig = px.pie(values = [10611, 862, 1256,247, 127, 74, 61],\n",
        "             names = ['Soltero/a', 'Casado/a', 'Conviviente', 'Desconocido', 'Separado/a o divorciado/a', 'Viudo/a', 'Separado/a de hecho'],\n",
        "             title = 'Estado Civil')\n",
        "\n",
        "fig.show()\n",
        "\n",
        "\n"
      ],
      "metadata": {
        "colab": {
          "base_uri": "https://localhost:8080/",
          "height": 542
        },
        "id": "Pb57QmH70Y0s",
        "outputId": "e2a3d80e-939e-44e8-ac16-981899c23d8c"
      },
      "execution_count": null,
      "outputs": [
        {
          "output_type": "display_data",
          "data": {
            "text/html": [
              "<html>\n",
              "<head><meta charset=\"utf-8\" /></head>\n",
              "<body>\n",
              "    <div>            <script src=\"https://cdnjs.cloudflare.com/ajax/libs/mathjax/2.7.5/MathJax.js?config=TeX-AMS-MML_SVG\"></script><script type=\"text/javascript\">if (window.MathJax) {MathJax.Hub.Config({SVG: {font: \"STIX-Web\"}});}</script>                <script type=\"text/javascript\">window.PlotlyConfig = {MathJaxConfig: 'local'};</script>\n",
              "        <script src=\"https://cdn.plot.ly/plotly-2.8.3.min.js\"></script>                <div id=\"5ecbdc2c-4715-403f-9718-26197e649d98\" class=\"plotly-graph-div\" style=\"height:525px; width:100%;\"></div>            <script type=\"text/javascript\">                                    window.PLOTLYENV=window.PLOTLYENV || {};                                    if (document.getElementById(\"5ecbdc2c-4715-403f-9718-26197e649d98\")) {                    Plotly.newPlot(                        \"5ecbdc2c-4715-403f-9718-26197e649d98\",                        [{\"domain\":{\"x\":[0.0,1.0],\"y\":[0.0,1.0]},\"hovertemplate\":\"label=%{label}<br>value=%{value}<extra></extra>\",\"labels\":[\"Soltero/a\",\"Casado/a\",\"Conviviente\",\"Desconocido\",\"Separado/a o divorciado/a\",\"Viudo/a\",\"Separado/a de hecho\"],\"legendgroup\":\"\",\"name\":\"\",\"showlegend\":true,\"values\":[10611,862,1256,247,127,74,61],\"type\":\"pie\"}],                        {\"template\":{\"data\":{\"bar\":[{\"error_x\":{\"color\":\"#2a3f5f\"},\"error_y\":{\"color\":\"#2a3f5f\"},\"marker\":{\"line\":{\"color\":\"#E5ECF6\",\"width\":0.5},\"pattern\":{\"fillmode\":\"overlay\",\"size\":10,\"solidity\":0.2}},\"type\":\"bar\"}],\"barpolar\":[{\"marker\":{\"line\":{\"color\":\"#E5ECF6\",\"width\":0.5},\"pattern\":{\"fillmode\":\"overlay\",\"size\":10,\"solidity\":0.2}},\"type\":\"barpolar\"}],\"carpet\":[{\"aaxis\":{\"endlinecolor\":\"#2a3f5f\",\"gridcolor\":\"white\",\"linecolor\":\"white\",\"minorgridcolor\":\"white\",\"startlinecolor\":\"#2a3f5f\"},\"baxis\":{\"endlinecolor\":\"#2a3f5f\",\"gridcolor\":\"white\",\"linecolor\":\"white\",\"minorgridcolor\":\"white\",\"startlinecolor\":\"#2a3f5f\"},\"type\":\"carpet\"}],\"choropleth\":[{\"colorbar\":{\"outlinewidth\":0,\"ticks\":\"\"},\"type\":\"choropleth\"}],\"contour\":[{\"colorbar\":{\"outlinewidth\":0,\"ticks\":\"\"},\"colorscale\":[[0.0,\"#0d0887\"],[0.1111111111111111,\"#46039f\"],[0.2222222222222222,\"#7201a8\"],[0.3333333333333333,\"#9c179e\"],[0.4444444444444444,\"#bd3786\"],[0.5555555555555556,\"#d8576b\"],[0.6666666666666666,\"#ed7953\"],[0.7777777777777778,\"#fb9f3a\"],[0.8888888888888888,\"#fdca26\"],[1.0,\"#f0f921\"]],\"type\":\"contour\"}],\"contourcarpet\":[{\"colorbar\":{\"outlinewidth\":0,\"ticks\":\"\"},\"type\":\"contourcarpet\"}],\"heatmap\":[{\"colorbar\":{\"outlinewidth\":0,\"ticks\":\"\"},\"colorscale\":[[0.0,\"#0d0887\"],[0.1111111111111111,\"#46039f\"],[0.2222222222222222,\"#7201a8\"],[0.3333333333333333,\"#9c179e\"],[0.4444444444444444,\"#bd3786\"],[0.5555555555555556,\"#d8576b\"],[0.6666666666666666,\"#ed7953\"],[0.7777777777777778,\"#fb9f3a\"],[0.8888888888888888,\"#fdca26\"],[1.0,\"#f0f921\"]],\"type\":\"heatmap\"}],\"heatmapgl\":[{\"colorbar\":{\"outlinewidth\":0,\"ticks\":\"\"},\"colorscale\":[[0.0,\"#0d0887\"],[0.1111111111111111,\"#46039f\"],[0.2222222222222222,\"#7201a8\"],[0.3333333333333333,\"#9c179e\"],[0.4444444444444444,\"#bd3786\"],[0.5555555555555556,\"#d8576b\"],[0.6666666666666666,\"#ed7953\"],[0.7777777777777778,\"#fb9f3a\"],[0.8888888888888888,\"#fdca26\"],[1.0,\"#f0f921\"]],\"type\":\"heatmapgl\"}],\"histogram\":[{\"marker\":{\"pattern\":{\"fillmode\":\"overlay\",\"size\":10,\"solidity\":0.2}},\"type\":\"histogram\"}],\"histogram2d\":[{\"colorbar\":{\"outlinewidth\":0,\"ticks\":\"\"},\"colorscale\":[[0.0,\"#0d0887\"],[0.1111111111111111,\"#46039f\"],[0.2222222222222222,\"#7201a8\"],[0.3333333333333333,\"#9c179e\"],[0.4444444444444444,\"#bd3786\"],[0.5555555555555556,\"#d8576b\"],[0.6666666666666666,\"#ed7953\"],[0.7777777777777778,\"#fb9f3a\"],[0.8888888888888888,\"#fdca26\"],[1.0,\"#f0f921\"]],\"type\":\"histogram2d\"}],\"histogram2dcontour\":[{\"colorbar\":{\"outlinewidth\":0,\"ticks\":\"\"},\"colorscale\":[[0.0,\"#0d0887\"],[0.1111111111111111,\"#46039f\"],[0.2222222222222222,\"#7201a8\"],[0.3333333333333333,\"#9c179e\"],[0.4444444444444444,\"#bd3786\"],[0.5555555555555556,\"#d8576b\"],[0.6666666666666666,\"#ed7953\"],[0.7777777777777778,\"#fb9f3a\"],[0.8888888888888888,\"#fdca26\"],[1.0,\"#f0f921\"]],\"type\":\"histogram2dcontour\"}],\"mesh3d\":[{\"colorbar\":{\"outlinewidth\":0,\"ticks\":\"\"},\"type\":\"mesh3d\"}],\"parcoords\":[{\"line\":{\"colorbar\":{\"outlinewidth\":0,\"ticks\":\"\"}},\"type\":\"parcoords\"}],\"pie\":[{\"automargin\":true,\"type\":\"pie\"}],\"scatter\":[{\"marker\":{\"colorbar\":{\"outlinewidth\":0,\"ticks\":\"\"}},\"type\":\"scatter\"}],\"scatter3d\":[{\"line\":{\"colorbar\":{\"outlinewidth\":0,\"ticks\":\"\"}},\"marker\":{\"colorbar\":{\"outlinewidth\":0,\"ticks\":\"\"}},\"type\":\"scatter3d\"}],\"scattercarpet\":[{\"marker\":{\"colorbar\":{\"outlinewidth\":0,\"ticks\":\"\"}},\"type\":\"scattercarpet\"}],\"scattergeo\":[{\"marker\":{\"colorbar\":{\"outlinewidth\":0,\"ticks\":\"\"}},\"type\":\"scattergeo\"}],\"scattergl\":[{\"marker\":{\"colorbar\":{\"outlinewidth\":0,\"ticks\":\"\"}},\"type\":\"scattergl\"}],\"scattermapbox\":[{\"marker\":{\"colorbar\":{\"outlinewidth\":0,\"ticks\":\"\"}},\"type\":\"scattermapbox\"}],\"scatterpolar\":[{\"marker\":{\"colorbar\":{\"outlinewidth\":0,\"ticks\":\"\"}},\"type\":\"scatterpolar\"}],\"scatterpolargl\":[{\"marker\":{\"colorbar\":{\"outlinewidth\":0,\"ticks\":\"\"}},\"type\":\"scatterpolargl\"}],\"scatterternary\":[{\"marker\":{\"colorbar\":{\"outlinewidth\":0,\"ticks\":\"\"}},\"type\":\"scatterternary\"}],\"surface\":[{\"colorbar\":{\"outlinewidth\":0,\"ticks\":\"\"},\"colorscale\":[[0.0,\"#0d0887\"],[0.1111111111111111,\"#46039f\"],[0.2222222222222222,\"#7201a8\"],[0.3333333333333333,\"#9c179e\"],[0.4444444444444444,\"#bd3786\"],[0.5555555555555556,\"#d8576b\"],[0.6666666666666666,\"#ed7953\"],[0.7777777777777778,\"#fb9f3a\"],[0.8888888888888888,\"#fdca26\"],[1.0,\"#f0f921\"]],\"type\":\"surface\"}],\"table\":[{\"cells\":{\"fill\":{\"color\":\"#EBF0F8\"},\"line\":{\"color\":\"white\"}},\"header\":{\"fill\":{\"color\":\"#C8D4E3\"},\"line\":{\"color\":\"white\"}},\"type\":\"table\"}]},\"layout\":{\"annotationdefaults\":{\"arrowcolor\":\"#2a3f5f\",\"arrowhead\":0,\"arrowwidth\":1},\"autotypenumbers\":\"strict\",\"coloraxis\":{\"colorbar\":{\"outlinewidth\":0,\"ticks\":\"\"}},\"colorscale\":{\"diverging\":[[0,\"#8e0152\"],[0.1,\"#c51b7d\"],[0.2,\"#de77ae\"],[0.3,\"#f1b6da\"],[0.4,\"#fde0ef\"],[0.5,\"#f7f7f7\"],[0.6,\"#e6f5d0\"],[0.7,\"#b8e186\"],[0.8,\"#7fbc41\"],[0.9,\"#4d9221\"],[1,\"#276419\"]],\"sequential\":[[0.0,\"#0d0887\"],[0.1111111111111111,\"#46039f\"],[0.2222222222222222,\"#7201a8\"],[0.3333333333333333,\"#9c179e\"],[0.4444444444444444,\"#bd3786\"],[0.5555555555555556,\"#d8576b\"],[0.6666666666666666,\"#ed7953\"],[0.7777777777777778,\"#fb9f3a\"],[0.8888888888888888,\"#fdca26\"],[1.0,\"#f0f921\"]],\"sequentialminus\":[[0.0,\"#0d0887\"],[0.1111111111111111,\"#46039f\"],[0.2222222222222222,\"#7201a8\"],[0.3333333333333333,\"#9c179e\"],[0.4444444444444444,\"#bd3786\"],[0.5555555555555556,\"#d8576b\"],[0.6666666666666666,\"#ed7953\"],[0.7777777777777778,\"#fb9f3a\"],[0.8888888888888888,\"#fdca26\"],[1.0,\"#f0f921\"]]},\"colorway\":[\"#636efa\",\"#EF553B\",\"#00cc96\",\"#ab63fa\",\"#FFA15A\",\"#19d3f3\",\"#FF6692\",\"#B6E880\",\"#FF97FF\",\"#FECB52\"],\"font\":{\"color\":\"#2a3f5f\"},\"geo\":{\"bgcolor\":\"white\",\"lakecolor\":\"white\",\"landcolor\":\"#E5ECF6\",\"showlakes\":true,\"showland\":true,\"subunitcolor\":\"white\"},\"hoverlabel\":{\"align\":\"left\"},\"hovermode\":\"closest\",\"mapbox\":{\"style\":\"light\"},\"paper_bgcolor\":\"white\",\"plot_bgcolor\":\"#E5ECF6\",\"polar\":{\"angularaxis\":{\"gridcolor\":\"white\",\"linecolor\":\"white\",\"ticks\":\"\"},\"bgcolor\":\"#E5ECF6\",\"radialaxis\":{\"gridcolor\":\"white\",\"linecolor\":\"white\",\"ticks\":\"\"}},\"scene\":{\"xaxis\":{\"backgroundcolor\":\"#E5ECF6\",\"gridcolor\":\"white\",\"gridwidth\":2,\"linecolor\":\"white\",\"showbackground\":true,\"ticks\":\"\",\"zerolinecolor\":\"white\"},\"yaxis\":{\"backgroundcolor\":\"#E5ECF6\",\"gridcolor\":\"white\",\"gridwidth\":2,\"linecolor\":\"white\",\"showbackground\":true,\"ticks\":\"\",\"zerolinecolor\":\"white\"},\"zaxis\":{\"backgroundcolor\":\"#E5ECF6\",\"gridcolor\":\"white\",\"gridwidth\":2,\"linecolor\":\"white\",\"showbackground\":true,\"ticks\":\"\",\"zerolinecolor\":\"white\"}},\"shapedefaults\":{\"line\":{\"color\":\"#2a3f5f\"}},\"ternary\":{\"aaxis\":{\"gridcolor\":\"white\",\"linecolor\":\"white\",\"ticks\":\"\"},\"baxis\":{\"gridcolor\":\"white\",\"linecolor\":\"white\",\"ticks\":\"\"},\"bgcolor\":\"#E5ECF6\",\"caxis\":{\"gridcolor\":\"white\",\"linecolor\":\"white\",\"ticks\":\"\"}},\"title\":{\"x\":0.05},\"xaxis\":{\"automargin\":true,\"gridcolor\":\"white\",\"linecolor\":\"white\",\"ticks\":\"\",\"title\":{\"standoff\":15},\"zerolinecolor\":\"white\",\"zerolinewidth\":2},\"yaxis\":{\"automargin\":true,\"gridcolor\":\"white\",\"linecolor\":\"white\",\"ticks\":\"\",\"title\":{\"standoff\":15},\"zerolinecolor\":\"white\",\"zerolinewidth\":2}}},\"legend\":{\"tracegroupgap\":0},\"title\":{\"text\":\"Estado Civil\"}},                        {\"responsive\": true}                    ).then(function(){\n",
              "                            \n",
              "var gd = document.getElementById('5ecbdc2c-4715-403f-9718-26197e649d98');\n",
              "var x = new MutationObserver(function (mutations, observer) {{\n",
              "        var display = window.getComputedStyle(gd).display;\n",
              "        if (!display || display === 'none') {{\n",
              "            console.log([gd, 'removed!']);\n",
              "            Plotly.purge(gd);\n",
              "            observer.disconnect();\n",
              "        }}\n",
              "}});\n",
              "\n",
              "// Listen for the removal of the full notebook cells\n",
              "var notebookContainer = gd.closest('#notebook-container');\n",
              "if (notebookContainer) {{\n",
              "    x.observe(notebookContainer, {childList: true});\n",
              "}}\n",
              "\n",
              "// Listen for the clearing of the current output cell\n",
              "var outputEl = gd.closest('.output');\n",
              "if (outputEl) {{\n",
              "    x.observe(outputEl, {childList: true});\n",
              "}}\n",
              "\n",
              "                        })                };                            </script>        </div>\n",
              "</body>\n",
              "</html>"
            ]
          },
          "metadata": {}
        }
      ]
    },
    {
      "cell_type": "code",
      "source": [
        "Cond = Reiterante.groupby('Duración_Condena_Años')['Es_Reincidente'].value_counts().sort_values(ascending= False).reset_index(name='Cantidad')\n",
        "Cond"
      ],
      "metadata": {
        "colab": {
          "base_uri": "https://localhost:8080/",
          "height": 1000
        },
        "id": "bTrwH39c0Y0s",
        "outputId": "addc22f3-8da9-496b-acd3-b24537096c94"
      },
      "execution_count": null,
      "outputs": [
        {
          "output_type": "execute_result",
          "data": {
            "text/plain": [
              "    Duración_Condena_Años Es_Reincidente  Cantidad\n",
              "0                       3     Reiterante      2194\n",
              "1                       4     Reiterante      1435\n",
              "2                       5     Reiterante      1321\n",
              "3                       6     Reiterante       991\n",
              "4                       0     Reiterante       847\n",
              "5                       7     Reiterante       817\n",
              "6                       2     Reiterante       747\n",
              "7                       8     Reiterante       671\n",
              "8                       1     Reiterante       615\n",
              "9                      10     Reiterante       515\n",
              "10                      9     Reiterante       462\n",
              "11                     12     Reiterante       390\n",
              "12                     11     Reiterante       363\n",
              "13                     15     Reiterante       304\n",
              "14                     13     Reiterante       293\n",
              "15                     14     Reiterante       249\n",
              "16                     16     Reiterante       184\n",
              "17                     18     Reiterante       173\n",
              "18                     17     Reiterante       148\n",
              "19                     25     Reiterante       136\n",
              "20                     20     Reiterante       131\n",
              "21                     19     Reiterante       102\n",
              "22                     22     Reiterante        70\n",
              "23                     21     Reiterante        60\n",
              "24                     35     Reiterante        55\n",
              "25                     23     Reiterante        52\n",
              "26                     24     Reiterante        48\n",
              "27                     27     Reiterante        24\n",
              "28                     30     Reiterante        22\n",
              "29                     28     Reiterante        19\n",
              "30                     26     Reiterante        17\n",
              "31                     29     Reiterante        11\n",
              "32                     31     Reiterante         7\n",
              "33                     32     Reiterante         7\n",
              "34                     37     Reiterante         7\n",
              "35                     34     Reiterante         5\n",
              "36                     38     Reiterante         4\n",
              "37                     40     Reiterante         3\n",
              "38                     33     Reiterante         3\n",
              "39                     50     Reiterante         2\n",
              "40                     39     Reiterante         1\n",
              "41                     36     Reiterante         1\n",
              "42                     42     Reiterante         1\n",
              "43                     49     Reiterante         1"
            ],
            "text/html": [
              "\n",
              "  <div id=\"df-1b9465de-88aa-411a-b3f0-b762ca0cb1a3\">\n",
              "    <div class=\"colab-df-container\">\n",
              "      <div>\n",
              "<style scoped>\n",
              "    .dataframe tbody tr th:only-of-type {\n",
              "        vertical-align: middle;\n",
              "    }\n",
              "\n",
              "    .dataframe tbody tr th {\n",
              "        vertical-align: top;\n",
              "    }\n",
              "\n",
              "    .dataframe thead th {\n",
              "        text-align: right;\n",
              "    }\n",
              "</style>\n",
              "<table border=\"1\" class=\"dataframe\">\n",
              "  <thead>\n",
              "    <tr style=\"text-align: right;\">\n",
              "      <th></th>\n",
              "      <th>Duración_Condena_Años</th>\n",
              "      <th>Es_Reincidente</th>\n",
              "      <th>Cantidad</th>\n",
              "    </tr>\n",
              "  </thead>\n",
              "  <tbody>\n",
              "    <tr>\n",
              "      <th>0</th>\n",
              "      <td>3</td>\n",
              "      <td>Reiterante</td>\n",
              "      <td>2194</td>\n",
              "    </tr>\n",
              "    <tr>\n",
              "      <th>1</th>\n",
              "      <td>4</td>\n",
              "      <td>Reiterante</td>\n",
              "      <td>1435</td>\n",
              "    </tr>\n",
              "    <tr>\n",
              "      <th>2</th>\n",
              "      <td>5</td>\n",
              "      <td>Reiterante</td>\n",
              "      <td>1321</td>\n",
              "    </tr>\n",
              "    <tr>\n",
              "      <th>3</th>\n",
              "      <td>6</td>\n",
              "      <td>Reiterante</td>\n",
              "      <td>991</td>\n",
              "    </tr>\n",
              "    <tr>\n",
              "      <th>4</th>\n",
              "      <td>0</td>\n",
              "      <td>Reiterante</td>\n",
              "      <td>847</td>\n",
              "    </tr>\n",
              "    <tr>\n",
              "      <th>5</th>\n",
              "      <td>7</td>\n",
              "      <td>Reiterante</td>\n",
              "      <td>817</td>\n",
              "    </tr>\n",
              "    <tr>\n",
              "      <th>6</th>\n",
              "      <td>2</td>\n",
              "      <td>Reiterante</td>\n",
              "      <td>747</td>\n",
              "    </tr>\n",
              "    <tr>\n",
              "      <th>7</th>\n",
              "      <td>8</td>\n",
              "      <td>Reiterante</td>\n",
              "      <td>671</td>\n",
              "    </tr>\n",
              "    <tr>\n",
              "      <th>8</th>\n",
              "      <td>1</td>\n",
              "      <td>Reiterante</td>\n",
              "      <td>615</td>\n",
              "    </tr>\n",
              "    <tr>\n",
              "      <th>9</th>\n",
              "      <td>10</td>\n",
              "      <td>Reiterante</td>\n",
              "      <td>515</td>\n",
              "    </tr>\n",
              "    <tr>\n",
              "      <th>10</th>\n",
              "      <td>9</td>\n",
              "      <td>Reiterante</td>\n",
              "      <td>462</td>\n",
              "    </tr>\n",
              "    <tr>\n",
              "      <th>11</th>\n",
              "      <td>12</td>\n",
              "      <td>Reiterante</td>\n",
              "      <td>390</td>\n",
              "    </tr>\n",
              "    <tr>\n",
              "      <th>12</th>\n",
              "      <td>11</td>\n",
              "      <td>Reiterante</td>\n",
              "      <td>363</td>\n",
              "    </tr>\n",
              "    <tr>\n",
              "      <th>13</th>\n",
              "      <td>15</td>\n",
              "      <td>Reiterante</td>\n",
              "      <td>304</td>\n",
              "    </tr>\n",
              "    <tr>\n",
              "      <th>14</th>\n",
              "      <td>13</td>\n",
              "      <td>Reiterante</td>\n",
              "      <td>293</td>\n",
              "    </tr>\n",
              "    <tr>\n",
              "      <th>15</th>\n",
              "      <td>14</td>\n",
              "      <td>Reiterante</td>\n",
              "      <td>249</td>\n",
              "    </tr>\n",
              "    <tr>\n",
              "      <th>16</th>\n",
              "      <td>16</td>\n",
              "      <td>Reiterante</td>\n",
              "      <td>184</td>\n",
              "    </tr>\n",
              "    <tr>\n",
              "      <th>17</th>\n",
              "      <td>18</td>\n",
              "      <td>Reiterante</td>\n",
              "      <td>173</td>\n",
              "    </tr>\n",
              "    <tr>\n",
              "      <th>18</th>\n",
              "      <td>17</td>\n",
              "      <td>Reiterante</td>\n",
              "      <td>148</td>\n",
              "    </tr>\n",
              "    <tr>\n",
              "      <th>19</th>\n",
              "      <td>25</td>\n",
              "      <td>Reiterante</td>\n",
              "      <td>136</td>\n",
              "    </tr>\n",
              "    <tr>\n",
              "      <th>20</th>\n",
              "      <td>20</td>\n",
              "      <td>Reiterante</td>\n",
              "      <td>131</td>\n",
              "    </tr>\n",
              "    <tr>\n",
              "      <th>21</th>\n",
              "      <td>19</td>\n",
              "      <td>Reiterante</td>\n",
              "      <td>102</td>\n",
              "    </tr>\n",
              "    <tr>\n",
              "      <th>22</th>\n",
              "      <td>22</td>\n",
              "      <td>Reiterante</td>\n",
              "      <td>70</td>\n",
              "    </tr>\n",
              "    <tr>\n",
              "      <th>23</th>\n",
              "      <td>21</td>\n",
              "      <td>Reiterante</td>\n",
              "      <td>60</td>\n",
              "    </tr>\n",
              "    <tr>\n",
              "      <th>24</th>\n",
              "      <td>35</td>\n",
              "      <td>Reiterante</td>\n",
              "      <td>55</td>\n",
              "    </tr>\n",
              "    <tr>\n",
              "      <th>25</th>\n",
              "      <td>23</td>\n",
              "      <td>Reiterante</td>\n",
              "      <td>52</td>\n",
              "    </tr>\n",
              "    <tr>\n",
              "      <th>26</th>\n",
              "      <td>24</td>\n",
              "      <td>Reiterante</td>\n",
              "      <td>48</td>\n",
              "    </tr>\n",
              "    <tr>\n",
              "      <th>27</th>\n",
              "      <td>27</td>\n",
              "      <td>Reiterante</td>\n",
              "      <td>24</td>\n",
              "    </tr>\n",
              "    <tr>\n",
              "      <th>28</th>\n",
              "      <td>30</td>\n",
              "      <td>Reiterante</td>\n",
              "      <td>22</td>\n",
              "    </tr>\n",
              "    <tr>\n",
              "      <th>29</th>\n",
              "      <td>28</td>\n",
              "      <td>Reiterante</td>\n",
              "      <td>19</td>\n",
              "    </tr>\n",
              "    <tr>\n",
              "      <th>30</th>\n",
              "      <td>26</td>\n",
              "      <td>Reiterante</td>\n",
              "      <td>17</td>\n",
              "    </tr>\n",
              "    <tr>\n",
              "      <th>31</th>\n",
              "      <td>29</td>\n",
              "      <td>Reiterante</td>\n",
              "      <td>11</td>\n",
              "    </tr>\n",
              "    <tr>\n",
              "      <th>32</th>\n",
              "      <td>31</td>\n",
              "      <td>Reiterante</td>\n",
              "      <td>7</td>\n",
              "    </tr>\n",
              "    <tr>\n",
              "      <th>33</th>\n",
              "      <td>32</td>\n",
              "      <td>Reiterante</td>\n",
              "      <td>7</td>\n",
              "    </tr>\n",
              "    <tr>\n",
              "      <th>34</th>\n",
              "      <td>37</td>\n",
              "      <td>Reiterante</td>\n",
              "      <td>7</td>\n",
              "    </tr>\n",
              "    <tr>\n",
              "      <th>35</th>\n",
              "      <td>34</td>\n",
              "      <td>Reiterante</td>\n",
              "      <td>5</td>\n",
              "    </tr>\n",
              "    <tr>\n",
              "      <th>36</th>\n",
              "      <td>38</td>\n",
              "      <td>Reiterante</td>\n",
              "      <td>4</td>\n",
              "    </tr>\n",
              "    <tr>\n",
              "      <th>37</th>\n",
              "      <td>40</td>\n",
              "      <td>Reiterante</td>\n",
              "      <td>3</td>\n",
              "    </tr>\n",
              "    <tr>\n",
              "      <th>38</th>\n",
              "      <td>33</td>\n",
              "      <td>Reiterante</td>\n",
              "      <td>3</td>\n",
              "    </tr>\n",
              "    <tr>\n",
              "      <th>39</th>\n",
              "      <td>50</td>\n",
              "      <td>Reiterante</td>\n",
              "      <td>2</td>\n",
              "    </tr>\n",
              "    <tr>\n",
              "      <th>40</th>\n",
              "      <td>39</td>\n",
              "      <td>Reiterante</td>\n",
              "      <td>1</td>\n",
              "    </tr>\n",
              "    <tr>\n",
              "      <th>41</th>\n",
              "      <td>36</td>\n",
              "      <td>Reiterante</td>\n",
              "      <td>1</td>\n",
              "    </tr>\n",
              "    <tr>\n",
              "      <th>42</th>\n",
              "      <td>42</td>\n",
              "      <td>Reiterante</td>\n",
              "      <td>1</td>\n",
              "    </tr>\n",
              "    <tr>\n",
              "      <th>43</th>\n",
              "      <td>49</td>\n",
              "      <td>Reiterante</td>\n",
              "      <td>1</td>\n",
              "    </tr>\n",
              "  </tbody>\n",
              "</table>\n",
              "</div>\n",
              "      <button class=\"colab-df-convert\" onclick=\"convertToInteractive('df-1b9465de-88aa-411a-b3f0-b762ca0cb1a3')\"\n",
              "              title=\"Convert this dataframe to an interactive table.\"\n",
              "              style=\"display:none;\">\n",
              "        \n",
              "  <svg xmlns=\"http://www.w3.org/2000/svg\" height=\"24px\"viewBox=\"0 0 24 24\"\n",
              "       width=\"24px\">\n",
              "    <path d=\"M0 0h24v24H0V0z\" fill=\"none\"/>\n",
              "    <path d=\"M18.56 5.44l.94 2.06.94-2.06 2.06-.94-2.06-.94-.94-2.06-.94 2.06-2.06.94zm-11 1L8.5 8.5l.94-2.06 2.06-.94-2.06-.94L8.5 2.5l-.94 2.06-2.06.94zm10 10l.94 2.06.94-2.06 2.06-.94-2.06-.94-.94-2.06-.94 2.06-2.06.94z\"/><path d=\"M17.41 7.96l-1.37-1.37c-.4-.4-.92-.59-1.43-.59-.52 0-1.04.2-1.43.59L10.3 9.45l-7.72 7.72c-.78.78-.78 2.05 0 2.83L4 21.41c.39.39.9.59 1.41.59.51 0 1.02-.2 1.41-.59l7.78-7.78 2.81-2.81c.8-.78.8-2.07 0-2.86zM5.41 20L4 18.59l7.72-7.72 1.47 1.35L5.41 20z\"/>\n",
              "  </svg>\n",
              "      </button>\n",
              "      \n",
              "  <style>\n",
              "    .colab-df-container {\n",
              "      display:flex;\n",
              "      flex-wrap:wrap;\n",
              "      gap: 12px;\n",
              "    }\n",
              "\n",
              "    .colab-df-convert {\n",
              "      background-color: #E8F0FE;\n",
              "      border: none;\n",
              "      border-radius: 50%;\n",
              "      cursor: pointer;\n",
              "      display: none;\n",
              "      fill: #1967D2;\n",
              "      height: 32px;\n",
              "      padding: 0 0 0 0;\n",
              "      width: 32px;\n",
              "    }\n",
              "\n",
              "    .colab-df-convert:hover {\n",
              "      background-color: #E2EBFA;\n",
              "      box-shadow: 0px 1px 2px rgba(60, 64, 67, 0.3), 0px 1px 3px 1px rgba(60, 64, 67, 0.15);\n",
              "      fill: #174EA6;\n",
              "    }\n",
              "\n",
              "    [theme=dark] .colab-df-convert {\n",
              "      background-color: #3B4455;\n",
              "      fill: #D2E3FC;\n",
              "    }\n",
              "\n",
              "    [theme=dark] .colab-df-convert:hover {\n",
              "      background-color: #434B5C;\n",
              "      box-shadow: 0px 1px 3px 1px rgba(0, 0, 0, 0.15);\n",
              "      filter: drop-shadow(0px 1px 2px rgba(0, 0, 0, 0.3));\n",
              "      fill: #FFFFFF;\n",
              "    }\n",
              "  </style>\n",
              "\n",
              "      <script>\n",
              "        const buttonEl =\n",
              "          document.querySelector('#df-1b9465de-88aa-411a-b3f0-b762ca0cb1a3 button.colab-df-convert');\n",
              "        buttonEl.style.display =\n",
              "          google.colab.kernel.accessAllowed ? 'block' : 'none';\n",
              "\n",
              "        async function convertToInteractive(key) {\n",
              "          const element = document.querySelector('#df-1b9465de-88aa-411a-b3f0-b762ca0cb1a3');\n",
              "          const dataTable =\n",
              "            await google.colab.kernel.invokeFunction('convertToInteractive',\n",
              "                                                     [key], {});\n",
              "          if (!dataTable) return;\n",
              "\n",
              "          const docLinkHtml = 'Like what you see? Visit the ' +\n",
              "            '<a target=\"_blank\" href=https://colab.research.google.com/notebooks/data_table.ipynb>data table notebook</a>'\n",
              "            + ' to learn more about interactive tables.';\n",
              "          element.innerHTML = '';\n",
              "          dataTable['output_type'] = 'display_data';\n",
              "          await google.colab.output.renderOutput(dataTable, element);\n",
              "          const docLink = document.createElement('div');\n",
              "          docLink.innerHTML = docLinkHtml;\n",
              "          element.appendChild(docLink);\n",
              "        }\n",
              "      </script>\n",
              "    </div>\n",
              "  </div>\n",
              "  "
            ]
          },
          "metadata": {},
          "execution_count": 87
        }
      ]
    },
    {
      "cell_type": "code",
      "source": [
        "sns.scatterplot(data=Cond, x=\"Duración_Condena_Años\", y=\"Cantidad\")"
      ],
      "metadata": {
        "colab": {
          "base_uri": "https://localhost:8080/",
          "height": 298
        },
        "id": "tVvV_h2SExtS",
        "outputId": "e3e2a50b-484c-49f0-82f7-09e1c7edc72a"
      },
      "execution_count": null,
      "outputs": [
        {
          "output_type": "execute_result",
          "data": {
            "text/plain": [
              "<matplotlib.axes._subplots.AxesSubplot at 0x7fea2292ad90>"
            ]
          },
          "metadata": {},
          "execution_count": 88
        },
        {
          "output_type": "display_data",
          "data": {
            "text/plain": [
              "<Figure size 432x288 with 1 Axes>"
            ],
            "image/png": "[encoded data removed]"
          },
          "metadata": {}
        }
      ]
    },
    {
      "cell_type": "code",
      "source": [
        "SL = Primario.groupby('Última_Situación_Laboral')['Es_Reincidente'].value_counts().sort_values(ascending= False).reset_index(name='Cantidad')\n",
        "SL"
      ],
      "metadata": {
        "colab": {
          "base_uri": "https://localhost:8080/",
          "height": 175
        },
        "id": "SxnSmLlbGDrv",
        "outputId": "4dfc9bc9-002c-4f24-b7ad-2cd8943c3950"
      },
      "execution_count": null,
      "outputs": [
        {
          "output_type": "execute_result",
          "data": {
            "text/plain": [
              "           Última_Situación_Laboral Es_Reincidente  Cantidad\n",
              "0                      Desocupado/a     Primario/a     30158\n",
              "1   Trabajador/ra de tiempo parcial     Primario/a     29427\n",
              "2  Trabajador/ra de tiempo completo     Primario/a     16496\n",
              "3                       Desconocida     Primario/a      5355"
            ],
            "text/html": [
              "\n",
              "  <div id=\"df-4bc39433-7ab2-4fc0-b73f-574b9a3c687a\">\n",
              "    <div class=\"colab-df-container\">\n",
              "      <div>\n",
              "<style scoped>\n",
              "    .dataframe tbody tr th:only-of-type {\n",
              "        vertical-align: middle;\n",
              "    }\n",
              "\n",
              "    .dataframe tbody tr th {\n",
              "        vertical-align: top;\n",
              "    }\n",
              "\n",
              "    .dataframe thead th {\n",
              "        text-align: right;\n",
              "    }\n",
              "</style>\n",
              "<table border=\"1\" class=\"dataframe\">\n",
              "  <thead>\n",
              "    <tr style=\"text-align: right;\">\n",
              "      <th></th>\n",
              "      <th>Última_Situación_Laboral</th>\n",
              "      <th>Es_Reincidente</th>\n",
              "      <th>Cantidad</th>\n",
              "    </tr>\n",
              "  </thead>\n",
              "  <tbody>\n",
              "    <tr>\n",
              "      <th>0</th>\n",
              "      <td>Desocupado/a</td>\n",
              "      <td>Primario/a</td>\n",
              "      <td>30158</td>\n",
              "    </tr>\n",
              "    <tr>\n",
              "      <th>1</th>\n",
              "      <td>Trabajador/ra de tiempo parcial</td>\n",
              "      <td>Primario/a</td>\n",
              "      <td>29427</td>\n",
              "    </tr>\n",
              "    <tr>\n",
              "      <th>2</th>\n",
              "      <td>Trabajador/ra de tiempo completo</td>\n",
              "      <td>Primario/a</td>\n",
              "      <td>16496</td>\n",
              "    </tr>\n",
              "    <tr>\n",
              "      <th>3</th>\n",
              "      <td>Desconocida</td>\n",
              "      <td>Primario/a</td>\n",
              "      <td>5355</td>\n",
              "    </tr>\n",
              "  </tbody>\n",
              "</table>\n",
              "</div>\n",
              "      <button class=\"colab-df-convert\" onclick=\"convertToInteractive('df-4bc39433-7ab2-4fc0-b73f-574b9a3c687a')\"\n",
              "              title=\"Convert this dataframe to an interactive table.\"\n",
              "              style=\"display:none;\">\n",
              "        \n",
              "  <svg xmlns=\"http://www.w3.org/2000/svg\" height=\"24px\"viewBox=\"0 0 24 24\"\n",
              "       width=\"24px\">\n",
              "    <path d=\"M0 0h24v24H0V0z\" fill=\"none\"/>\n",
              "    <path d=\"M18.56 5.44l.94 2.06.94-2.06 2.06-.94-2.06-.94-.94-2.06-.94 2.06-2.06.94zm-11 1L8.5 8.5l.94-2.06 2.06-.94-2.06-.94L8.5 2.5l-.94 2.06-2.06.94zm10 10l.94 2.06.94-2.06 2.06-.94-2.06-.94-.94-2.06-.94 2.06-2.06.94z\"/><path d=\"M17.41 7.96l-1.37-1.37c-.4-.4-.92-.59-1.43-.59-.52 0-1.04.2-1.43.59L10.3 9.45l-7.72 7.72c-.78.78-.78 2.05 0 2.83L4 21.41c.39.39.9.59 1.41.59.51 0 1.02-.2 1.41-.59l7.78-7.78 2.81-2.81c.8-.78.8-2.07 0-2.86zM5.41 20L4 18.59l7.72-7.72 1.47 1.35L5.41 20z\"/>\n",
              "  </svg>\n",
              "      </button>\n",
              "      \n",
              "  <style>\n",
              "    .colab-df-container {\n",
              "      display:flex;\n",
              "      flex-wrap:wrap;\n",
              "      gap: 12px;\n",
              "    }\n",
              "\n",
              "    .colab-df-convert {\n",
              "      background-color: #E8F0FE;\n",
              "      border: none;\n",
              "      border-radius: 50%;\n",
              "      cursor: pointer;\n",
              "      display: none;\n",
              "      fill: #1967D2;\n",
              "      height: 32px;\n",
              "      padding: 0 0 0 0;\n",
              "      width: 32px;\n",
              "    }\n",
              "\n",
              "    .colab-df-convert:hover {\n",
              "      background-color: #E2EBFA;\n",
              "      box-shadow: 0px 1px 2px rgba(60, 64, 67, 0.3), 0px 1px 3px 1px rgba(60, 64, 67, 0.15);\n",
              "      fill: #174EA6;\n",
              "    }\n",
              "\n",
              "    [theme=dark] .colab-df-convert {\n",
              "      background-color: #3B4455;\n",
              "      fill: #D2E3FC;\n",
              "    }\n",
              "\n",
              "    [theme=dark] .colab-df-convert:hover {\n",
              "      background-color: #434B5C;\n",
              "      box-shadow: 0px 1px 3px 1px rgba(0, 0, 0, 0.15);\n",
              "      filter: drop-shadow(0px 1px 2px rgba(0, 0, 0, 0.3));\n",
              "      fill: #FFFFFF;\n",
              "    }\n",
              "  </style>\n",
              "\n",
              "      <script>\n",
              "        const buttonEl =\n",
              "          document.querySelector('#df-4bc39433-7ab2-4fc0-b73f-574b9a3c687a button.colab-df-convert');\n",
              "        buttonEl.style.display =\n",
              "          google.colab.kernel.accessAllowed ? 'block' : 'none';\n",
              "\n",
              "        async function convertToInteractive(key) {\n",
              "          const element = document.querySelector('#df-4bc39433-7ab2-4fc0-b73f-574b9a3c687a');\n",
              "          const dataTable =\n",
              "            await google.colab.kernel.invokeFunction('convertToInteractive',\n",
              "                                                     [key], {});\n",
              "          if (!dataTable) return;\n",
              "\n",
              "          const docLinkHtml = 'Like what you see? Visit the ' +\n",
              "            '<a target=\"_blank\" href=https://colab.research.google.com/notebooks/data_table.ipynb>data table notebook</a>'\n",
              "            + ' to learn more about interactive tables.';\n",
              "          element.innerHTML = '';\n",
              "          dataTable['output_type'] = 'display_data';\n",
              "          await google.colab.output.renderOutput(dataTable, element);\n",
              "          const docLink = document.createElement('div');\n",
              "          docLink.innerHTML = docLinkHtml;\n",
              "          element.appendChild(docLink);\n",
              "        }\n",
              "      </script>\n",
              "    </div>\n",
              "  </div>\n",
              "  "
            ]
          },
          "metadata": {},
          "execution_count": 89
        }
      ]
    },
    {
      "cell_type": "code",
      "source": [
        "SL1 =Reiterante.groupby('Última_Situación_Laboral')['Es_Reincidente'].value_counts().sort_values(ascending= False).reset_index(name='Cantidad')\n",
        "SL1"
      ],
      "metadata": {
        "colab": {
          "base_uri": "https://localhost:8080/",
          "height": 175
        },
        "id": "okFuCiUoV5eu",
        "outputId": "b388b5d0-4a4c-4c05-af99-bee3af4af735"
      },
      "execution_count": null,
      "outputs": [
        {
          "output_type": "execute_result",
          "data": {
            "text/plain": [
              "           Última_Situación_Laboral Es_Reincidente  Cantidad\n",
              "0                      Desocupado/a     Reiterante      5494\n",
              "1   Trabajador/ra de tiempo parcial     Reiterante      4502\n",
              "2  Trabajador/ra de tiempo completo     Reiterante      2124\n",
              "3                       Desconocida     Reiterante      1388"
            ],
            "text/html": [
              "\n",
              "  <div id=\"df-63b60212-6034-4293-9c92-fedb0f6a3370\">\n",
              "    <div class=\"colab-df-container\">\n",
              "      <div>\n",
              "<style scoped>\n",
              "    .dataframe tbody tr th:only-of-type {\n",
              "        vertical-align: middle;\n",
              "    }\n",
              "\n",
              "    .dataframe tbody tr th {\n",
              "        vertical-align: top;\n",
              "    }\n",
              "\n",
              "    .dataframe thead th {\n",
              "        text-align: right;\n",
              "    }\n",
              "</style>\n",
              "<table border=\"1\" class=\"dataframe\">\n",
              "  <thead>\n",
              "    <tr style=\"text-align: right;\">\n",
              "      <th></th>\n",
              "      <th>Última_Situación_Laboral</th>\n",
              "      <th>Es_Reincidente</th>\n",
              "      <th>Cantidad</th>\n",
              "    </tr>\n",
              "  </thead>\n",
              "  <tbody>\n",
              "    <tr>\n",
              "      <th>0</th>\n",
              "      <td>Desocupado/a</td>\n",
              "      <td>Reiterante</td>\n",
              "      <td>5494</td>\n",
              "    </tr>\n",
              "    <tr>\n",
              "      <th>1</th>\n",
              "      <td>Trabajador/ra de tiempo parcial</td>\n",
              "      <td>Reiterante</td>\n",
              "      <td>4502</td>\n",
              "    </tr>\n",
              "    <tr>\n",
              "      <th>2</th>\n",
              "      <td>Trabajador/ra de tiempo completo</td>\n",
              "      <td>Reiterante</td>\n",
              "      <td>2124</td>\n",
              "    </tr>\n",
              "    <tr>\n",
              "      <th>3</th>\n",
              "      <td>Desconocida</td>\n",
              "      <td>Reiterante</td>\n",
              "      <td>1388</td>\n",
              "    </tr>\n",
              "  </tbody>\n",
              "</table>\n",
              "</div>\n",
              "      <button class=\"colab-df-convert\" onclick=\"convertToInteractive('df-63b60212-6034-4293-9c92-fedb0f6a3370')\"\n",
              "              title=\"Convert this dataframe to an interactive table.\"\n",
              "              style=\"display:none;\">\n",
              "        \n",
              "  <svg xmlns=\"http://www.w3.org/2000/svg\" height=\"24px\"viewBox=\"0 0 24 24\"\n",
              "       width=\"24px\">\n",
              "    <path d=\"M0 0h24v24H0V0z\" fill=\"none\"/>\n",
              "    <path d=\"M18.56 5.44l.94 2.06.94-2.06 2.06-.94-2.06-.94-.94-2.06-.94 2.06-2.06.94zm-11 1L8.5 8.5l.94-2.06 2.06-.94-2.06-.94L8.5 2.5l-.94 2.06-2.06.94zm10 10l.94 2.06.94-2.06 2.06-.94-2.06-.94-.94-2.06-.94 2.06-2.06.94z\"/><path d=\"M17.41 7.96l-1.37-1.37c-.4-.4-.92-.59-1.43-.59-.52 0-1.04.2-1.43.59L10.3 9.45l-7.72 7.72c-.78.78-.78 2.05 0 2.83L4 21.41c.39.39.9.59 1.41.59.51 0 1.02-.2 1.41-.59l7.78-7.78 2.81-2.81c.8-.78.8-2.07 0-2.86zM5.41 20L4 18.59l7.72-7.72 1.47 1.35L5.41 20z\"/>\n",
              "  </svg>\n",
              "      </button>\n",
              "      \n",
              "  <style>\n",
              "    .colab-df-container {\n",
              "      display:flex;\n",
              "      flex-wrap:wrap;\n",
              "      gap: 12px;\n",
              "    }\n",
              "\n",
              "    .colab-df-convert {\n",
              "      background-color: #E8F0FE;\n",
              "      border: none;\n",
              "      border-radius: 50%;\n",
              "      cursor: pointer;\n",
              "      display: none;\n",
              "      fill: #1967D2;\n",
              "      height: 32px;\n",
              "      padding: 0 0 0 0;\n",
              "      width: 32px;\n",
              "    }\n",
              "\n",
              "    .colab-df-convert:hover {\n",
              "      background-color: #E2EBFA;\n",
              "      box-shadow: 0px 1px 2px rgba(60, 64, 67, 0.3), 0px 1px 3px 1px rgba(60, 64, 67, 0.15);\n",
              "      fill: #174EA6;\n",
              "    }\n",
              "\n",
              "    [theme=dark] .colab-df-convert {\n",
              "      background-color: #3B4455;\n",
              "      fill: #D2E3FC;\n",
              "    }\n",
              "\n",
              "    [theme=dark] .colab-df-convert:hover {\n",
              "      background-color: #434B5C;\n",
              "      box-shadow: 0px 1px 3px 1px rgba(0, 0, 0, 0.15);\n",
              "      filter: drop-shadow(0px 1px 2px rgba(0, 0, 0, 0.3));\n",
              "      fill: #FFFFFF;\n",
              "    }\n",
              "  </style>\n",
              "\n",
              "      <script>\n",
              "        const buttonEl =\n",
              "          document.querySelector('#df-63b60212-6034-4293-9c92-fedb0f6a3370 button.colab-df-convert');\n",
              "        buttonEl.style.display =\n",
              "          google.colab.kernel.accessAllowed ? 'block' : 'none';\n",
              "\n",
              "        async function convertToInteractive(key) {\n",
              "          const element = document.querySelector('#df-63b60212-6034-4293-9c92-fedb0f6a3370');\n",
              "          const dataTable =\n",
              "            await google.colab.kernel.invokeFunction('convertToInteractive',\n",
              "                                                     [key], {});\n",
              "          if (!dataTable) return;\n",
              "\n",
              "          const docLinkHtml = 'Like what you see? Visit the ' +\n",
              "            '<a target=\"_blank\" href=https://colab.research.google.com/notebooks/data_table.ipynb>data table notebook</a>'\n",
              "            + ' to learn more about interactive tables.';\n",
              "          element.innerHTML = '';\n",
              "          dataTable['output_type'] = 'display_data';\n",
              "          await google.colab.output.renderOutput(dataTable, element);\n",
              "          const docLink = document.createElement('div');\n",
              "          docLink.innerHTML = docLinkHtml;\n",
              "          element.appendChild(docLink);\n",
              "        }\n",
              "      </script>\n",
              "    </div>\n",
              "  </div>\n",
              "  "
            ]
          },
          "metadata": {},
          "execution_count": 90
        }
      ]
    },
    {
      "cell_type": "code",
      "source": [
        "\n",
        "ST = Primario.groupby('Tuvo_Salidas_Transitorias')['Es_Reincidente'].value_counts().sort_values(ascending= False).reset_index(name='Cantidad')\n",
        "ST"
      ],
      "metadata": {
        "colab": {
          "base_uri": "https://localhost:8080/",
          "height": 175
        },
        "id": "DJlZbUNI0Y0s",
        "outputId": "73b98391-a7a3-499d-f29c-c91921285861"
      },
      "execution_count": null,
      "outputs": [
        {
          "output_type": "execute_result",
          "data": {
            "text/plain": [
              "           Tuvo_Salidas_Transitorias Es_Reincidente  Cantidad\n",
              "0             No le fueron otorgadas     Primario/a     79537\n",
              "1  Si - goza de salidas transitorias     Primario/a      1196\n",
              "2  Suspendidas durante el Último año     Primario/a       655\n",
              "3    Revocadas durante el Último año     Primario/a        48"
            ],
            "text/html": [
              "\n",
              "  <div id=\"df-464c9129-99d7-4ec5-8206-30da9dc7b76a\">\n",
              "    <div class=\"colab-df-container\">\n",
              "      <div>\n",
              "<style scoped>\n",
              "    .dataframe tbody tr th:only-of-type {\n",
              "        vertical-align: middle;\n",
              "    }\n",
              "\n",
              "    .dataframe tbody tr th {\n",
              "        vertical-align: top;\n",
              "    }\n",
              "\n",
              "    .dataframe thead th {\n",
              "        text-align: right;\n",
              "    }\n",
              "</style>\n",
              "<table border=\"1\" class=\"dataframe\">\n",
              "  <thead>\n",
              "    <tr style=\"text-align: right;\">\n",
              "      <th></th>\n",
              "      <th>Tuvo_Salidas_Transitorias</th>\n",
              "      <th>Es_Reincidente</th>\n",
              "      <th>Cantidad</th>\n",
              "    </tr>\n",
              "  </thead>\n",
              "  <tbody>\n",
              "    <tr>\n",
              "      <th>0</th>\n",
              "      <td>No le fueron otorgadas</td>\n",
              "      <td>Primario/a</td>\n",
              "      <td>79537</td>\n",
              "    </tr>\n",
              "    <tr>\n",
              "      <th>1</th>\n",
              "      <td>Si - goza de salidas transitorias</td>\n",
              "      <td>Primario/a</td>\n",
              "      <td>1196</td>\n",
              "    </tr>\n",
              "    <tr>\n",
              "      <th>2</th>\n",
              "      <td>Suspendidas durante el Último año</td>\n",
              "      <td>Primario/a</td>\n",
              "      <td>655</td>\n",
              "    </tr>\n",
              "    <tr>\n",
              "      <th>3</th>\n",
              "      <td>Revocadas durante el Último año</td>\n",
              "      <td>Primario/a</td>\n",
              "      <td>48</td>\n",
              "    </tr>\n",
              "  </tbody>\n",
              "</table>\n",
              "</div>\n",
              "      <button class=\"colab-df-convert\" onclick=\"convertToInteractive('df-464c9129-99d7-4ec5-8206-30da9dc7b76a')\"\n",
              "              title=\"Convert this dataframe to an interactive table.\"\n",
              "              style=\"display:none;\">\n",
              "        \n",
              "  <svg xmlns=\"http://www.w3.org/2000/svg\" height=\"24px\"viewBox=\"0 0 24 24\"\n",
              "       width=\"24px\">\n",
              "    <path d=\"M0 0h24v24H0V0z\" fill=\"none\"/>\n",
              "    <path d=\"M18.56 5.44l.94 2.06.94-2.06 2.06-.94-2.06-.94-.94-2.06-.94 2.06-2.06.94zm-11 1L8.5 8.5l.94-2.06 2.06-.94-2.06-.94L8.5 2.5l-.94 2.06-2.06.94zm10 10l.94 2.06.94-2.06 2.06-.94-2.06-.94-.94-2.06-.94 2.06-2.06.94z\"/><path d=\"M17.41 7.96l-1.37-1.37c-.4-.4-.92-.59-1.43-.59-.52 0-1.04.2-1.43.59L10.3 9.45l-7.72 7.72c-.78.78-.78 2.05 0 2.83L4 21.41c.39.39.9.59 1.41.59.51 0 1.02-.2 1.41-.59l7.78-7.78 2.81-2.81c.8-.78.8-2.07 0-2.86zM5.41 20L4 18.59l7.72-7.72 1.47 1.35L5.41 20z\"/>\n",
              "  </svg>\n",
              "      </button>\n",
              "      \n",
              "  <style>\n",
              "    .colab-df-container {\n",
              "      display:flex;\n",
              "      flex-wrap:wrap;\n",
              "      gap: 12px;\n",
              "    }\n",
              "\n",
              "    .colab-df-convert {\n",
              "      background-color: #E8F0FE;\n",
              "      border: none;\n",
              "      border-radius: 50%;\n",
              "      cursor: pointer;\n",
              "      display: none;\n",
              "      fill: #1967D2;\n",
              "      height: 32px;\n",
              "      padding: 0 0 0 0;\n",
              "      width: 32px;\n",
              "    }\n",
              "\n",
              "    .colab-df-convert:hover {\n",
              "      background-color: #E2EBFA;\n",
              "      box-shadow: 0px 1px 2px rgba(60, 64, 67, 0.3), 0px 1px 3px 1px rgba(60, 64, 67, 0.15);\n",
              "      fill: #174EA6;\n",
              "    }\n",
              "\n",
              "    [theme=dark] .colab-df-convert {\n",
              "      background-color: #3B4455;\n",
              "      fill: #D2E3FC;\n",
              "    }\n",
              "\n",
              "    [theme=dark] .colab-df-convert:hover {\n",
              "      background-color: #434B5C;\n",
              "      box-shadow: 0px 1px 3px 1px rgba(0, 0, 0, 0.15);\n",
              "      filter: drop-shadow(0px 1px 2px rgba(0, 0, 0, 0.3));\n",
              "      fill: #FFFFFF;\n",
              "    }\n",
              "  </style>\n",
              "\n",
              "      <script>\n",
              "        const buttonEl =\n",
              "          document.querySelector('#df-464c9129-99d7-4ec5-8206-30da9dc7b76a button.colab-df-convert');\n",
              "        buttonEl.style.display =\n",
              "          google.colab.kernel.accessAllowed ? 'block' : 'none';\n",
              "\n",
              "        async function convertToInteractive(key) {\n",
              "          const element = document.querySelector('#df-464c9129-99d7-4ec5-8206-30da9dc7b76a');\n",
              "          const dataTable =\n",
              "            await google.colab.kernel.invokeFunction('convertToInteractive',\n",
              "                                                     [key], {});\n",
              "          if (!dataTable) return;\n",
              "\n",
              "          const docLinkHtml = 'Like what you see? Visit the ' +\n",
              "            '<a target=\"_blank\" href=https://colab.research.google.com/notebooks/data_table.ipynb>data table notebook</a>'\n",
              "            + ' to learn more about interactive tables.';\n",
              "          element.innerHTML = '';\n",
              "          dataTable['output_type'] = 'display_data';\n",
              "          await google.colab.output.renderOutput(dataTable, element);\n",
              "          const docLink = document.createElement('div');\n",
              "          docLink.innerHTML = docLinkHtml;\n",
              "          element.appendChild(docLink);\n",
              "        }\n",
              "      </script>\n",
              "    </div>\n",
              "  </div>\n",
              "  "
            ]
          },
          "metadata": {},
          "execution_count": 91
        }
      ]
    },
    {
      "cell_type": "code",
      "source": [
        "\n",
        "PP = Primario.groupby('Participa_Programa_Prisión_Discontinua')['Es_Reincidente'].value_counts().sort_values(ascending= False).reset_index(name='Cantidad')\n",
        "PP"
      ],
      "metadata": {
        "colab": {
          "base_uri": "https://localhost:8080/",
          "height": 175
        },
        "id": "xrBk29mr0Y0s",
        "outputId": "c89f1bef-0999-4876-8483-54afe17db899"
      },
      "execution_count": null,
      "outputs": [
        {
          "output_type": "execute_result",
          "data": {
            "text/plain": [
              "         Participa_Programa_Prisión_Discontinua Es_Reincidente  Cantidad\n",
              "0                         No está incorporado/a     Primario/a     80869\n",
              "1                         Si está incorporado/a     Primario/a       556\n",
              "2                Revocada durante el Último año     Primario/a         6\n",
              "3  Renuncia del interno/a durante el Último año     Primario/a         5"
            ],
            "text/html": [
              "\n",
              "  <div id=\"df-3f177311-482d-4bb3-b03a-2a215fc63202\">\n",
              "    <div class=\"colab-df-container\">\n",
              "      <div>\n",
              "<style scoped>\n",
              "    .dataframe tbody tr th:only-of-type {\n",
              "        vertical-align: middle;\n",
              "    }\n",
              "\n",
              "    .dataframe tbody tr th {\n",
              "        vertical-align: top;\n",
              "    }\n",
              "\n",
              "    .dataframe thead th {\n",
              "        text-align: right;\n",
              "    }\n",
              "</style>\n",
              "<table border=\"1\" class=\"dataframe\">\n",
              "  <thead>\n",
              "    <tr style=\"text-align: right;\">\n",
              "      <th></th>\n",
              "      <th>Participa_Programa_Prisión_Discontinua</th>\n",
              "      <th>Es_Reincidente</th>\n",
              "      <th>Cantidad</th>\n",
              "    </tr>\n",
              "  </thead>\n",
              "  <tbody>\n",
              "    <tr>\n",
              "      <th>0</th>\n",
              "      <td>No está incorporado/a</td>\n",
              "      <td>Primario/a</td>\n",
              "      <td>80869</td>\n",
              "    </tr>\n",
              "    <tr>\n",
              "      <th>1</th>\n",
              "      <td>Si está incorporado/a</td>\n",
              "      <td>Primario/a</td>\n",
              "      <td>556</td>\n",
              "    </tr>\n",
              "    <tr>\n",
              "      <th>2</th>\n",
              "      <td>Revocada durante el Último año</td>\n",
              "      <td>Primario/a</td>\n",
              "      <td>6</td>\n",
              "    </tr>\n",
              "    <tr>\n",
              "      <th>3</th>\n",
              "      <td>Renuncia del interno/a durante el Último año</td>\n",
              "      <td>Primario/a</td>\n",
              "      <td>5</td>\n",
              "    </tr>\n",
              "  </tbody>\n",
              "</table>\n",
              "</div>\n",
              "      <button class=\"colab-df-convert\" onclick=\"convertToInteractive('df-3f177311-482d-4bb3-b03a-2a215fc63202')\"\n",
              "              title=\"Convert this dataframe to an interactive table.\"\n",
              "              style=\"display:none;\">\n",
              "        \n",
              "  <svg xmlns=\"http://www.w3.org/2000/svg\" height=\"24px\"viewBox=\"0 0 24 24\"\n",
              "       width=\"24px\">\n",
              "    <path d=\"M0 0h24v24H0V0z\" fill=\"none\"/>\n",
              "    <path d=\"M18.56 5.44l.94 2.06.94-2.06 2.06-.94-2.06-.94-.94-2.06-.94 2.06-2.06.94zm-11 1L8.5 8.5l.94-2.06 2.06-.94-2.06-.94L8.5 2.5l-.94 2.06-2.06.94zm10 10l.94 2.06.94-2.06 2.06-.94-2.06-.94-.94-2.06-.94 2.06-2.06.94z\"/><path d=\"M17.41 7.96l-1.37-1.37c-.4-.4-.92-.59-1.43-.59-.52 0-1.04.2-1.43.59L10.3 9.45l-7.72 7.72c-.78.78-.78 2.05 0 2.83L4 21.41c.39.39.9.59 1.41.59.51 0 1.02-.2 1.41-.59l7.78-7.78 2.81-2.81c.8-.78.8-2.07 0-2.86zM5.41 20L4 18.59l7.72-7.72 1.47 1.35L5.41 20z\"/>\n",
              "  </svg>\n",
              "      </button>\n",
              "      \n",
              "  <style>\n",
              "    .colab-df-container {\n",
              "      display:flex;\n",
              "      flex-wrap:wrap;\n",
              "      gap: 12px;\n",
              "    }\n",
              "\n",
              "    .colab-df-convert {\n",
              "      background-color: #E8F0FE;\n",
              "      border: none;\n",
              "      border-radius: 50%;\n",
              "      cursor: pointer;\n",
              "      display: none;\n",
              "      fill: #1967D2;\n",
              "      height: 32px;\n",
              "      padding: 0 0 0 0;\n",
              "      width: 32px;\n",
              "    }\n",
              "\n",
              "    .colab-df-convert:hover {\n",
              "      background-color: #E2EBFA;\n",
              "      box-shadow: 0px 1px 2px rgba(60, 64, 67, 0.3), 0px 1px 3px 1px rgba(60, 64, 67, 0.15);\n",
              "      fill: #174EA6;\n",
              "    }\n",
              "\n",
              "    [theme=dark] .colab-df-convert {\n",
              "      background-color: #3B4455;\n",
              "      fill: #D2E3FC;\n",
              "    }\n",
              "\n",
              "    [theme=dark] .colab-df-convert:hover {\n",
              "      background-color: #434B5C;\n",
              "      box-shadow: 0px 1px 3px 1px rgba(0, 0, 0, 0.15);\n",
              "      filter: drop-shadow(0px 1px 2px rgba(0, 0, 0, 0.3));\n",
              "      fill: #FFFFFF;\n",
              "    }\n",
              "  </style>\n",
              "\n",
              "      <script>\n",
              "        const buttonEl =\n",
              "          document.querySelector('#df-3f177311-482d-4bb3-b03a-2a215fc63202 button.colab-df-convert');\n",
              "        buttonEl.style.display =\n",
              "          google.colab.kernel.accessAllowed ? 'block' : 'none';\n",
              "\n",
              "        async function convertToInteractive(key) {\n",
              "          const element = document.querySelector('#df-3f177311-482d-4bb3-b03a-2a215fc63202');\n",
              "          const dataTable =\n",
              "            await google.colab.kernel.invokeFunction('convertToInteractive',\n",
              "                                                     [key], {});\n",
              "          if (!dataTable) return;\n",
              "\n",
              "          const docLinkHtml = 'Like what you see? Visit the ' +\n",
              "            '<a target=\"_blank\" href=https://colab.research.google.com/notebooks/data_table.ipynb>data table notebook</a>'\n",
              "            + ' to learn more about interactive tables.';\n",
              "          element.innerHTML = '';\n",
              "          dataTable['output_type'] = 'display_data';\n",
              "          await google.colab.output.renderOutput(dataTable, element);\n",
              "          const docLink = document.createElement('div');\n",
              "          docLink.innerHTML = docLinkHtml;\n",
              "          element.appendChild(docLink);\n",
              "        }\n",
              "      </script>\n",
              "    </div>\n",
              "  </div>\n",
              "  "
            ]
          },
          "metadata": {},
          "execution_count": 92
        }
      ]
    },
    {
      "cell_type": "code",
      "source": [
        "\n",
        "SD = Primario.groupby('Participa_Programa_Semi_Detención')['Es_Reincidente'].value_counts().sort_values(ascending= False).reset_index(name='Cantidad')\n",
        "SD"
      ],
      "metadata": {
        "colab": {
          "base_uri": "https://localhost:8080/",
          "height": 206
        },
        "id": "Q4WNy7y0HLAv",
        "outputId": "6479e1ce-53fe-40c4-8fef-98409ce2dfc9"
      },
      "execution_count": null,
      "outputs": [
        {
          "output_type": "execute_result",
          "data": {
            "text/plain": [
              "              Participa_Programa_Semi_Detención Es_Reincidente  Cantidad\n",
              "0                        No tiene semidetención     Primario/a     81385\n",
              "1                Revocada durante el Último año     Primario/a        30\n",
              "2                          Si. Prisión Nocturna     Primario/a        14\n",
              "3                            Si. Prisión Diurna     Primario/a         6\n",
              "4  Renuncia del interno/a durante el Último año     Primario/a         1"
            ],
            "text/html": [
              "\n",
              "  <div id=\"df-2c10c9d0-9996-4beb-a05a-db4ac362a4ac\">\n",
              "    <div class=\"colab-df-container\">\n",
              "      <div>\n",
              "<style scoped>\n",
              "    .dataframe tbody tr th:only-of-type {\n",
              "        vertical-align: middle;\n",
              "    }\n",
              "\n",
              "    .dataframe tbody tr th {\n",
              "        vertical-align: top;\n",
              "    }\n",
              "\n",
              "    .dataframe thead th {\n",
              "        text-align: right;\n",
              "    }\n",
              "</style>\n",
              "<table border=\"1\" class=\"dataframe\">\n",
              "  <thead>\n",
              "    <tr style=\"text-align: right;\">\n",
              "      <th></th>\n",
              "      <th>Participa_Programa_Semi_Detención</th>\n",
              "      <th>Es_Reincidente</th>\n",
              "      <th>Cantidad</th>\n",
              "    </tr>\n",
              "  </thead>\n",
              "  <tbody>\n",
              "    <tr>\n",
              "      <th>0</th>\n",
              "      <td>No tiene semidetención</td>\n",
              "      <td>Primario/a</td>\n",
              "      <td>81385</td>\n",
              "    </tr>\n",
              "    <tr>\n",
              "      <th>1</th>\n",
              "      <td>Revocada durante el Último año</td>\n",
              "      <td>Primario/a</td>\n",
              "      <td>30</td>\n",
              "    </tr>\n",
              "    <tr>\n",
              "      <th>2</th>\n",
              "      <td>Si. Prisión Nocturna</td>\n",
              "      <td>Primario/a</td>\n",
              "      <td>14</td>\n",
              "    </tr>\n",
              "    <tr>\n",
              "      <th>3</th>\n",
              "      <td>Si. Prisión Diurna</td>\n",
              "      <td>Primario/a</td>\n",
              "      <td>6</td>\n",
              "    </tr>\n",
              "    <tr>\n",
              "      <th>4</th>\n",
              "      <td>Renuncia del interno/a durante el Último año</td>\n",
              "      <td>Primario/a</td>\n",
              "      <td>1</td>\n",
              "    </tr>\n",
              "  </tbody>\n",
              "</table>\n",
              "</div>\n",
              "      <button class=\"colab-df-convert\" onclick=\"convertToInteractive('df-2c10c9d0-9996-4beb-a05a-db4ac362a4ac')\"\n",
              "              title=\"Convert this dataframe to an interactive table.\"\n",
              "              style=\"display:none;\">\n",
              "        \n",
              "  <svg xmlns=\"http://www.w3.org/2000/svg\" height=\"24px\"viewBox=\"0 0 24 24\"\n",
              "       width=\"24px\">\n",
              "    <path d=\"M0 0h24v24H0V0z\" fill=\"none\"/>\n",
              "    <path d=\"M18.56 5.44l.94 2.06.94-2.06 2.06-.94-2.06-.94-.94-2.06-.94 2.06-2.06.94zm-11 1L8.5 8.5l.94-2.06 2.06-.94-2.06-.94L8.5 2.5l-.94 2.06-2.06.94zm10 10l.94 2.06.94-2.06 2.06-.94-2.06-.94-.94-2.06-.94 2.06-2.06.94z\"/><path d=\"M17.41 7.96l-1.37-1.37c-.4-.4-.92-.59-1.43-.59-.52 0-1.04.2-1.43.59L10.3 9.45l-7.72 7.72c-.78.78-.78 2.05 0 2.83L4 21.41c.39.39.9.59 1.41.59.51 0 1.02-.2 1.41-.59l7.78-7.78 2.81-2.81c.8-.78.8-2.07 0-2.86zM5.41 20L4 18.59l7.72-7.72 1.47 1.35L5.41 20z\"/>\n",
              "  </svg>\n",
              "      </button>\n",
              "      \n",
              "  <style>\n",
              "    .colab-df-container {\n",
              "      display:flex;\n",
              "      flex-wrap:wrap;\n",
              "      gap: 12px;\n",
              "    }\n",
              "\n",
              "    .colab-df-convert {\n",
              "      background-color: #E8F0FE;\n",
              "      border: none;\n",
              "      border-radius: 50%;\n",
              "      cursor: pointer;\n",
              "      display: none;\n",
              "      fill: #1967D2;\n",
              "      height: 32px;\n",
              "      padding: 0 0 0 0;\n",
              "      width: 32px;\n",
              "    }\n",
              "\n",
              "    .colab-df-convert:hover {\n",
              "      background-color: #E2EBFA;\n",
              "      box-shadow: 0px 1px 2px rgba(60, 64, 67, 0.3), 0px 1px 3px 1px rgba(60, 64, 67, 0.15);\n",
              "      fill: #174EA6;\n",
              "    }\n",
              "\n",
              "    [theme=dark] .colab-df-convert {\n",
              "      background-color: #3B4455;\n",
              "      fill: #D2E3FC;\n",
              "    }\n",
              "\n",
              "    [theme=dark] .colab-df-convert:hover {\n",
              "      background-color: #434B5C;\n",
              "      box-shadow: 0px 1px 3px 1px rgba(0, 0, 0, 0.15);\n",
              "      filter: drop-shadow(0px 1px 2px rgba(0, 0, 0, 0.3));\n",
              "      fill: #FFFFFF;\n",
              "    }\n",
              "  </style>\n",
              "\n",
              "      <script>\n",
              "        const buttonEl =\n",
              "          document.querySelector('#df-2c10c9d0-9996-4beb-a05a-db4ac362a4ac button.colab-df-convert');\n",
              "        buttonEl.style.display =\n",
              "          google.colab.kernel.accessAllowed ? 'block' : 'none';\n",
              "\n",
              "        async function convertToInteractive(key) {\n",
              "          const element = document.querySelector('#df-2c10c9d0-9996-4beb-a05a-db4ac362a4ac');\n",
              "          const dataTable =\n",
              "            await google.colab.kernel.invokeFunction('convertToInteractive',\n",
              "                                                     [key], {});\n",
              "          if (!dataTable) return;\n",
              "\n",
              "          const docLinkHtml = 'Like what you see? Visit the ' +\n",
              "            '<a target=\"_blank\" href=https://colab.research.google.com/notebooks/data_table.ipynb>data table notebook</a>'\n",
              "            + ' to learn more about interactive tables.';\n",
              "          element.innerHTML = '';\n",
              "          dataTable['output_type'] = 'display_data';\n",
              "          await google.colab.output.renderOutput(dataTable, element);\n",
              "          const docLink = document.createElement('div');\n",
              "          docLink.innerHTML = docLinkHtml;\n",
              "          element.appendChild(docLink);\n",
              "        }\n",
              "      </script>\n",
              "    </div>\n",
              "  </div>\n",
              "  "
            ]
          },
          "metadata": {},
          "execution_count": 93
        }
      ]
    },
    {
      "cell_type": "code",
      "source": [
        "DP = Primario.groupby('Delito_1')['Es_Reincidente'].value_counts().sort_values(ascending= False).reset_index(name='Cantidad')\n",
        "D1 = DP.head(3)\n"
      ],
      "metadata": {
        "id": "I-pwdGgbW6v6"
      },
      "execution_count": null,
      "outputs": []
    },
    {
      "cell_type": "code",
      "source": [
        "fig, ax = plt.subplots(figsize=(12,4))  \n",
        "ax.bar(D1.Delito_1, D1.Cantidad)\n",
        "ax.set_title('Primario')\n",
        "ax.set_ylabel('cantidad')\n",
        "ax.set_xlabel('Tipo de Delito')"
      ],
      "metadata": {
        "colab": {
          "base_uri": "https://localhost:8080/",
          "height": 313
        },
        "id": "DWX6o96IfZG6",
        "outputId": "d0921b2a-8706-47e4-94ca-9ed29a13c7d3"
      },
      "execution_count": null,
      "outputs": [
        {
          "output_type": "execute_result",
          "data": {
            "text/plain": [
              "Text(0.5, 0, 'Tipo de Delito')"
            ]
          },
          "metadata": {},
          "execution_count": 95
        },
        {
          "output_type": "display_data",
          "data": {
            "text/plain": [
              "<Figure size 864x288 with 1 Axes>"
            ],
            "image/png": "[encoded data removed]"
          },
          "metadata": {}
        }
      ]
    },
    {
      "cell_type": "code",
      "source": [],
      "metadata": {
        "id": "eCmbOVr5gQfl"
      },
      "execution_count": null,
      "outputs": []
    },
    {
      "cell_type": "code",
      "source": [
        "DP2 = Reiterante.groupby('Delito_1')['Es_Reincidente'].value_counts().sort_values(ascending= False).reset_index(name='Cantidad')\n",
        "D2 = DP2.head(3)\n"
      ],
      "metadata": {
        "id": "FFUa_5ffgQuS"
      },
      "execution_count": null,
      "outputs": []
    },
    {
      "cell_type": "code",
      "source": [
        "fig, ax = plt.subplots(figsize=(12,4))  \n",
        "ax.bar(D2.Delito_1, D2.Cantidad)\n",
        "ax.set_title('Reincidente')\n",
        "ax.set_ylabel('cantidad')\n",
        "ax.set_xlabel('Tipo de Delito')"
      ],
      "metadata": {
        "colab": {
          "base_uri": "https://localhost:8080/",
          "height": 312
        },
        "outputId": "01393322-75b0-4cad-f407-feb0979d853a",
        "id": "GGndWUcGgQuT"
      },
      "execution_count": null,
      "outputs": [
        {
          "output_type": "execute_result",
          "data": {
            "text/plain": [
              "Text(0.5, 0, 'Tipo de Delito')"
            ]
          },
          "metadata": {},
          "execution_count": 97
        },
        {
          "output_type": "display_data",
          "data": {
            "text/plain": [
              "<Figure size 864x288 with 1 Axes>"
            ],
            "image/png": "[encoded data removed]"
          },
          "metadata": {}
        }
      ]
    },
    {
      "cell_type": "markdown",
      "source": [
        "# Conclusiones"
      ],
      "metadata": {
        "id": "tTfkYiomUvrC"
      }
    },
    {
      "cell_type": "markdown",
      "source": [
        "- LA DURACIÓN DE LAS CONDENAS EN PERSONAS REINCIDENTES NO SON MUY ALTAS, POCAS PERSONAS SUPERAN LOS 20 AÑOS; AL SER CONDENAS CORTAS  LA POSIBILIDAD DE UN NUEVO DELITO ES MUY ALTA.\n",
        "- AQUELLAS PERSONAS QUE COMETEN UN ÚNICO DELITO NO GOZAN DE MAYORES BENEFICIOS,  LA MAYORÍA NO SE ENCUENTRA PARTICIPANDO DE NINGÚN TIPO DE PROGRAMA (SEMIDETENCION, SALIDAS TRANSITORIAS O PRISIÓN SEMIDISCONTINUA)\n",
        "- LA SITUACIÓN LABORAL NO ES UN PARÁMETRO QUE INFLUYA DEMASIADO EN LA REINCIDENCIA DE LOS DELITOS, YA QUE EN AMBOS CASOS, SI BIEN LA MAYORÍA DE LAS PERSONAS QUE DELINQUEN NO CUENTAN CON UN EMPLEO,  CASI LA MITAD DE LAS PERSONAS DETENIDAS TENÍAN UN TRABAJO PART TIME O FULL TIME\n",
        "- LOS DELITOS QUE COMETEN POR PRIMERA VEZ LA MAYORÍA DE LOS DETENIDOS ES EL ROBO Y/O TENTATIVA DE ROBO QUE TAMBIÉN ES EL MISMO CON EL CUAL LA MAYORÍA DE LOS REINCIDENTES SE ENCUENTRAN ALOJADOS EN LAS PENITENCIARIAS.\n",
        "MIENTRAS QUE LOS DEMÁS DELITOS ENTRE UN GRUPO Y EL OTRO VARIA, TENIENDO EN CUENTA CUALES SON LOS TRES DELITOS MAS COMETIDOS POR AMBOS. \n"
      ],
      "metadata": {
        "id": "y8obvQPKedC9"
      }
    }
  ]
}